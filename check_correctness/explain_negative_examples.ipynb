{
 "cells": [
  {
   "cell_type": "code",
   "execution_count": 1,
   "metadata": {
    "collapsed": true
   },
   "outputs": [
    {
     "name": "stderr",
     "output_type": "stream",
     "text": [
      "INFO: [2023-03-27 14:59:23] check_correctness - agent_json_list dtype is str, using eval to convert to list of OrderedDicts\n",
      "INFO: [2023-03-27 14:59:24] numexpr.utils - NumExpr defaulting to 8 threads.\n",
      "Running explanation queries:  60%|██████    | 6/10 [00:26<00:16,  4.22s/it]WARNING: [2023-03-27 14:59:52] check_correctness - Could not get synonyms for In the absence of RGS14, H-Ras(G12V) interacts equivalently with Raf-1, A-Raf, and B-Raf (data not shown). even though they were needed for the prompt.\n",
      "Running explanation queries:  90%|█████████ | 9/10 [00:35<00:03,  3.64s/it]WARNING: [2023-03-27 15:00:01] check_correctness - Could not get synonyms for Interestingly, acute loss of delta catenin in vitro impairs activity-dependent formation of spines , reinforcing the importance of delta catenin in formation and maintenance of synaptic structures and cognitive functions. even though they were needed for the prompt.\n",
      "Running explanation queries: 100%|██████████| 10/10 [00:36<00:00,  3.68s/it]\n",
      "INFO: [2023-03-27 15:00:01] check_correctness - Finished running 10 queries in 36.82 seconds.\n",
      "INFO: [2023-03-27 15:00:01] check_correctness - Saving results to /home/klas/repos/indra_gpt/local_data/results/explain_incorrect_20230327_215924.json\n"
     ]
    }
   ],
   "source": [
    "import pandas as pd\n",
    "\n",
    "from check_correctness import get_create_training_set, LOCAL_FILES, explain_negative_examples\n",
    "\n",
    "curations_file = LOCAL_FILES.joinpath(\"indra_assembly_curations.json\")\n",
    "corpus = LOCAL_FILES.joinpath(\"indra_assembly_curations.json\")\n",
    "\n",
    "# The creation of the dataframe from the statements takes ~90 mins. If the output file already is cached, it will load from the cache instead.\n",
    "training_data_df = get_create_training_set(curations_file=curations_file, statement_json_file=corpus)\n",
    "\n",
    "res_dict = explain_negative_examples(training_data_df=training_data_df)"
   ]
  },
  {
   "cell_type": "code",
   "execution_count": 2,
   "outputs": [
    {
     "data": {
      "text/plain": "<pandas.io.formats.style.Styler at 0x7f9b4bf42ee0>",
      "text/html": "<style  type=\"text/css\" >\n#T_1047c_row0_col0,#T_1047c_row0_col1,#T_1047c_row0_col2,#T_1047c_row1_col0,#T_1047c_row1_col1,#T_1047c_row1_col2,#T_1047c_row2_col0,#T_1047c_row2_col1,#T_1047c_row2_col2,#T_1047c_row3_col0,#T_1047c_row3_col1,#T_1047c_row3_col2,#T_1047c_row4_col0,#T_1047c_row4_col1,#T_1047c_row4_col2,#T_1047c_row5_col0,#T_1047c_row5_col1,#T_1047c_row5_col2,#T_1047c_row6_col0,#T_1047c_row6_col1,#T_1047c_row6_col2,#T_1047c_row7_col0,#T_1047c_row7_col1,#T_1047c_row7_col2{\n            text-align:  left;\n            white-space:  pre-wrap;\n        }</style><table id=\"T_1047c_\" ><thead>    <tr>        <th class=\"blank level0\" ></th>        <th class=\"col_heading level0 col0\" >prompt</th>        <th class=\"col_heading level0 col1\" >response</th>        <th class=\"col_heading level0 col2\" >curation_tag</th>    </tr></thead><tbody>\n                <tr>\n                        <th id=\"T_1047c_level0_row0\" class=\"row_heading level0 row0\" >0</th>\n                        <td id=\"T_1047c_row0_col0\" class=\"data row0 col0\" >Here is a sentence and a statement:\n\nsentence: \"In the MCF-7 cell line, increased ZO-1 expression was associated with high E-cadherin expression.\"\n\nstatement: \"TJP1 binds CDH1.\"\n\nThe following list of pairs are synonyms, with the first being the synonym used in the sentence and the second being the synonym used in the statement:\n\"ZO-1\" and \"TJP1\"\n\"E-Cadherin\" and \"CDH1\"\n\nIs the statement implied by the sentence?\nIf it isn't, please explain why.\n</td>\n                        <td id=\"T_1047c_row0_col1\" class=\"data row0 col1\" >Yes, the statement is implied by the sentence. The sentence states that increased expression of ZO-1 is associated with high expression of E-cadherin in the MCF-7 cell line. Since ZO-1 is a synonym for TJP1 and E-cadherin is a synonym for CDH1, the statement \"TJP1 binds CDH1\" is implied by the sentence.</td>\n                        <td id=\"T_1047c_row0_col2\" class=\"data row0 col2\" >no_relation</td>\n            </tr>\n            <tr>\n                        <th id=\"T_1047c_level0_row1\" class=\"row_heading level0 row1\" >1</th>\n                        <td id=\"T_1047c_row1_col0\" class=\"data row1 col0\" >Here is a paragraph and a statement:\n\nparagraph: \"To determine phosphorylation of c-Jun by active Cdk3, a Cdk3 kinase assay was carried out at 30°C for 30 min in the presence of the kinase buffer [25 mM Tris-HCl (pH 7.5), 5mM β-glycerophosphate, 2 mM DTT, 0.1 mM Na3 VO4, and 10 mM MgCl2] with 200 μM ATP and 2 μg of GST-c-Jun as substrate.\"\n\nstatement: \"CDK3 phosphorylates JUN.\"\n\n\"c-Jun\" in the paragraph is a synonym for \"JUN\" in the statement\n\nIs the statement implied by the paragraph?\nIf it isn't, please explain why.\n</td>\n                        <td id=\"T_1047c_row1_col1\" class=\"data row1 col1\" >Yes, the statement is implied by the paragraph. The paragraph describes a Cdk3 kinase assay carried out with GST-c-Jun as the substrate, which means that the activity of Cdk3 was tested on c-Jun. The result of the assay would be the phosphorylation of c-Jun by Cdk3, which supports the statement that \"CDK3 phosphorylates JUN.\"</td>\n                        <td id=\"T_1047c_row1_col2\" class=\"data row1 col2\" >hypothesis</td>\n            </tr>\n            <tr>\n                        <th id=\"T_1047c_level0_row2\" class=\"row_heading level0 row2\" >2</th>\n                        <td id=\"T_1047c_row2_col0\" class=\"data row2 col0\" >Here is a sentence and a statement:\n\nsentence: \"CXCL12 and CXCL11 Induce ERK1/2, but not Akt Pathway Activation in CXCR7 expressing NB Cells.\"\n\nstatement: \"AKT increases the amount of ACKR3.\"\n\n\"CXCR7\" in the sentence is a synonym for \"ACKR3\" in the statement\n\nIs the statement implied by the sentence?\nIf it isn't, please explain why.\n</td>\n                        <td id=\"T_1047c_row2_col1\" class=\"data row2 col1\" >No, the statement is not implied by the sentence. The sentence discusses the activation of ERK1/2 and Akt pathways in NB cells expressing CXCR7, while the statement talks about AKT increasing the amount of ACKR3. Although CXCR7 is a synonym for ACKR3, the sentence does not provide any information about the amount of ACKR3 or its relationship with AKT.</td>\n                        <td id=\"T_1047c_row2_col2\" class=\"data row2 col2\" >no_relation</td>\n            </tr>\n            <tr>\n                        <th id=\"T_1047c_level0_row3\" class=\"row_heading level0 row3\" >3</th>\n                        <td id=\"T_1047c_row3_col0\" class=\"data row3 col0\" >Here is a sentence and a statement:\n\nsentence: \"Two independent groups reported significant association of liver transcript levels of  CELSR2, PSRC1 , and  SORT1  with the strongest regulatory effect observed for  SORT1  mRNA.\"\n\nstatement: \"SORT1 binds PSRC1 and CELSR2.\"\n\nIs the statement implied by the sentence?\nIf it isn't, please explain why.\n</td>\n                        <td id=\"T_1047c_row3_col1\" class=\"data row3 col1\" >The statement is not explicitly implied by the sentence. The sentence only reports that there is a significant association between the liver transcript levels of CELSR2, PSRC1, and SORT1, with SORT1 having the strongest regulatory effect. It does not provide any information about whether SORT1 binds to PSRC1 and CELSR2.</td>\n                        <td id=\"T_1047c_row3_col2\" class=\"data row3 col2\" >no_relation</td>\n            </tr>\n            <tr>\n                        <th id=\"T_1047c_level0_row4\" class=\"row_heading level0 row4\" >4</th>\n                        <td id=\"T_1047c_row4_col0\" class=\"data row4 col0\" >Here is a sentence and a statement:\n\nsentence: \"Moreover, GPC3 binds with high affinity to both Sonic Hedgehog and Indian Hedgehog and competes with Patched for Hh binding [XREF_BIBR, XREF_BIBR].\"\n\nstatement: \"Hedgehog binds GPC3.\"\n\nIs the statement implied by the sentence?\nIf it isn't, please explain why.\n</td>\n                        <td id=\"T_1047c_row4_col1\" class=\"data row4 col1\" >No, the statement is not implied by the sentence. The sentence states that GPC3 binds with high affinity to both Sonic Hedgehog and Indian Hedgehog and competes with Patched for Hh binding, but it does not state that Hedgehog binds GPC3.</td>\n                        <td id=\"T_1047c_row4_col2\" class=\"data row4 col2\" >entity_boundaries</td>\n            </tr>\n            <tr>\n                        <th id=\"T_1047c_level0_row5\" class=\"row_heading level0 row5\" >5</th>\n                        <td id=\"T_1047c_row5_col0\" class=\"data row5 col0\" >Here is a sentence and a statement:\n\nsentence: \"The SCF beta-TRCP E3 ubiquitin ligase mediates Mdm2 destruction.\"\n\nstatement: \"E3_Ub_ligase activates MDM2.\"\n\n\"E3\" in the sentence is a synonym for \"E3_Ub_ligase\" in the statement\n\nIs the statement implied by the sentence?\nIf it isn't, please explain why.\n</td>\n                        <td id=\"T_1047c_row5_col1\" class=\"data row5 col1\" >No, the statement is not implied by the sentence. The sentence states that the SCF beta-TRCP E3 ubiquitin ligase mediates Mdm2 destruction, but it does not mention anything about E3_Ub_ligase activating MDM2. The two statements are related to the same topic but convey different information.</td>\n                        <td id=\"T_1047c_row5_col2\" class=\"data row5 col2\" >polarity</td>\n            </tr>\n            <tr>\n                        <th id=\"T_1047c_level0_row6\" class=\"row_heading level0 row6\" >6</th>\n                        <td id=\"T_1047c_row6_col0\" class=\"data row6 col0\" >Here is a sentence and a statement:\n\nsentence: \"Recently, we found that Chibby promotes adipocyte and cardiomyocyte differentiation of pluripotent stem cells through inhibition of β-catenin signaling ( ; ).\"\n\nstatement: \"CBY1 activates CTNNB1.\"\n\nThe following list of pairs are synonyms, with the first being the synonym used in the sentence and the second being the synonym used in the statement:\n\"Chibby\" and \"CBY1\"\n\"β-catenin\" and \"CTNNB1\"\n\nIs the statement implied by the sentence?\nIf it isn't, please explain why.\n</td>\n                        <td id=\"T_1047c_row6_col1\" class=\"data row6 col1\" >Yes, the statement is implied by the sentence. The sentence mentions the inhibition of β-catenin signaling by Chibby, which means that CBY1 (another name for Chibby) is activating CTNNB1 (another name for β-catenin).</td>\n                        <td id=\"T_1047c_row6_col2\" class=\"data row6 col2\" >polarity</td>\n            </tr>\n            <tr>\n                        <th id=\"T_1047c_level0_row7\" class=\"row_heading level0 row7\" >7</th>\n                        <td id=\"T_1047c_row7_col0\" class=\"data row7 col0\" >Here is a sentence and a statement:\n\nsentence: \"And ChIP assays were performed to determine whether EZH2 could directly bind to KLF2 promoter regions to silence KLF2 transcription.\"\n\nstatement: \"EZH2 binds KLF2.\"\n\nIs the statement implied by the sentence?\nIf it isn't, please explain why.\n</td>\n                        <td id=\"T_1047c_row7_col1\" class=\"data row7 col1\" >Yes, the statement \"EZH2 binds KLF2\" is implied by the sentence \"And ChIP assays were performed to determine whether EZH2 could directly bind to KLF2 promoter regions to silence KLF2 transcription.\" as the purpose of the ChIP assays was to determine if EZH2 could bind to the KLF2 promoter regions.</td>\n                        <td id=\"T_1047c_row7_col2\" class=\"data row7 col2\" >other</td>\n            </tr>\n    </tbody></table>"
     },
     "metadata": {},
     "output_type": "display_data"
    }
   ],
   "source": [
    "from IPython.display import display\n",
    "\n",
    "qa_df = pd.DataFrame(res_dict[\"chat_qa\"])\n",
    "\n",
    "display(qa_df.style.set_properties(**{\n",
    "    'text-align': 'left',\n",
    "    'white-space': 'pre-wrap',\n",
    "}))"
   ],
   "metadata": {
    "collapsed": false
   }
  },
  {
   "cell_type": "code",
   "execution_count": null,
   "outputs": [],
   "source": [],
   "metadata": {
    "collapsed": false
   }
  }
 ],
 "metadata": {
  "kernelspec": {
   "display_name": "Python 3",
   "language": "python",
   "name": "python3"
  },
  "language_info": {
   "codemirror_mode": {
    "name": "ipython",
    "version": 2
   },
   "file_extension": ".py",
   "mimetype": "text/x-python",
   "name": "python",
   "nbconvert_exporter": "python",
   "pygments_lexer": "ipython2",
   "version": "2.7.6"
  }
 },
 "nbformat": 4,
 "nbformat_minor": 0
}
