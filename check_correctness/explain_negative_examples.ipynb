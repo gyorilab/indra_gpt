{
 "cells": [
  {
   "cell_type": "code",
   "execution_count": 0,
   "metadata": {
    "collapsed": true
   },
   "outputs": [],
   "source": [
    "import pandas as pd\n",
    "\n",
    "from check_correctness import get_create_training_set, LOCAL_FILES, explain_negative_examples\n",
    "\n",
    "curations_file = LOCAL_FILES.joinpath(\"indra_assembly_curations.json\")\n",
    "corpus = LOCAL_FILES.joinpath(\"indra_assembly_curations.json\")\n",
    "\n",
    "# The creation of the dataframe from the statements takes ~90 mins. If the output file already is cached, it will load from the cache instead.\n",
    "training_data_df = get_create_training_set(curations_file=curations_file, statement_json_file=corpus)\n",
    "\n",
    "res_dict = explain_negative_examples(training_data_df=training_data_df)"
   ]
  },
  {
   "cell_type": "code",
   "execution_count": 9,
   "outputs": [
    {
     "data": {
      "text/plain": "<pandas.io.formats.style.Styler at 0x7f9f775f5a60>",
      "text/html": "<style  type=\"text/css\" >\n#T_ad92f_row0_col0,#T_ad92f_row0_col1,#T_ad92f_row0_col2,#T_ad92f_row1_col0,#T_ad92f_row1_col1,#T_ad92f_row1_col2,#T_ad92f_row2_col0,#T_ad92f_row2_col1,#T_ad92f_row2_col2,#T_ad92f_row3_col0,#T_ad92f_row3_col1,#T_ad92f_row3_col2,#T_ad92f_row4_col0,#T_ad92f_row4_col1,#T_ad92f_row4_col2,#T_ad92f_row5_col0,#T_ad92f_row5_col1,#T_ad92f_row5_col2,#T_ad92f_row6_col0,#T_ad92f_row6_col1,#T_ad92f_row6_col2,#T_ad92f_row7_col0,#T_ad92f_row7_col1,#T_ad92f_row7_col2,#T_ad92f_row8_col0,#T_ad92f_row8_col1,#T_ad92f_row8_col2,#T_ad92f_row9_col0,#T_ad92f_row9_col1,#T_ad92f_row9_col2{\n            text-align:  left;\n            white-space:  pre-wrap;\n        }</style><table id=\"T_ad92f_\" ><thead>    <tr>        <th class=\"blank level0\" ></th>        <th class=\"col_heading level0 col0\" >prompt</th>        <th class=\"col_heading level0 col1\" >response</th>        <th class=\"col_heading level0 col2\" >curation_tag</th>    </tr></thead><tbody>\n                <tr>\n                        <th id=\"T_ad92f_level0_row0\" class=\"row_heading level0 row0\" >0</th>\n                        <td id=\"T_ad92f_row0_col0\" class=\"data row0 col0\" >Here is a sentence and a statement:\n\nsentence: \"Furthermore, upon Ang-1 stimulation p85beta co-immunoprecipitated with Tie-2 and was tyrosine phosphorylated, suggesting that p85beta directly interact with Tie-2 (d).\"\n\nstatement: \"TM7SF2 activates PIK3R2.\"\n\nSynonyms in the sentence and statement, respectively:\n\"Ang-1\" and \"TM7SF2\"\n\"p85beta\" and \"PIK3R2\"\n\nIs the statement implied by the sentence?\nIf it isn't, please explain why.\n</td>\n                        <td id=\"T_ad92f_row0_col1\" class=\"data row0 col1\" >No, the statement is not implied by the sentence. The sentence discusses the interaction between Ang-1 stimulation and p85beta with Tie-2, while the statement discusses the activation of PIK3R2 by TM7SF2. There is no direct connection or mention of TM7SF2 or PIK3R2 in the sentence.</td>\n                        <td id=\"T_ad92f_row0_col2\" class=\"data row0 col2\" >grounding</td>\n            </tr>\n            <tr>\n                        <th id=\"T_ad92f_level0_row1\" class=\"row_heading level0 row1\" >1</th>\n                        <td id=\"T_ad92f_row1_col0\" class=\"data row1 col0\" >Here is a sentence and a statement:\n\nsentence: \"Here we show that TNRC6A interacts with eIF4E2, a homologue of eIF4E that can bind to the cap but cannot interact with eIF4G to initiate translation, to inhibit the translation of target mRNAs.\"\n\nstatement: \"EIF4G binds EIF4E2.\"\n\nIs the statement implied by the sentence?\nIf it isn't, please explain why.\n</td>\n                        <td id=\"T_ad92f_row1_col1\" class=\"data row1 col1\" >No, the statement \"EIF4G binds EIF4E2\" is not implied by the sentence. The sentence only states that TNRC6A interacts with eIF4E2, and that eIF4E2 can bind to the cap but cannot interact with eIF4G to initiate translation. There is no mention of EIF4G binding to EIF4E2 in the sentence.</td>\n                        <td id=\"T_ad92f_row1_col2\" class=\"data row1 col2\" >negative_result</td>\n            </tr>\n            <tr>\n                        <th id=\"T_ad92f_level0_row2\" class=\"row_heading level0 row2\" >2</th>\n                        <td id=\"T_ad92f_row2_col0\" class=\"data row2 col0\" >Here is a sentence and a statement:\n\nsentence: \"Hypoxia increased HIF-1α and iNOS expression in HaCaT cells and inhibition of HIF-1α expression decreased iNOS expression.\"\n\nstatement: \"NOS2 increases the amount of NOS2.\"\n\nSynonyms in the sentence and statement, respectively:\n\"iNOS\" and \"NOS2\"\n\"iNOS\" and \"NOS2\"\n\nIs the statement implied by the sentence?\nIf it isn't, please explain why.\n</td>\n                        <td id=\"T_ad92f_row2_col1\" class=\"data row2 col1\" >No, the statement is not implied by the sentence. The sentence discusses the relationship between hypoxia, HIF-1α, and iNOS expression in HaCaT cells, while the statement simply states that NOS2 increases the amount of NOS2, without any context or explanation of how it relates to the sentence.</td>\n                        <td id=\"T_ad92f_row2_col2\" class=\"data row2 col2\" >no_relation</td>\n            </tr>\n            <tr>\n                        <th id=\"T_ad92f_level0_row3\" class=\"row_heading level0 row3\" >3</th>\n                        <td id=\"T_ad92f_row3_col0\" class=\"data row3 col0\" >Here is a sentence and a statement:\n\nsentence: \"Furthermore, apoA-V-enriched HDL was associated with enhanced LCAT activity and increased cholesterol efflux.\"\n\nstatement: \"HDL binds LCAT.\"\n\nIs the statement implied by the sentence?\nIf it isn't, please explain why.\n</td>\n                        <td id=\"T_ad92f_row3_col1\" class=\"data row3 col1\" >The statement \"HDL binds LCAT\" is not explicitly stated in the sentence. The sentence only mentions that apoA-V-enriched HDL is associated with enhanced LCAT activity and increased cholesterol efflux. While it is possible that HDL binds LCAT, this is not directly stated in the sentence.</td>\n                        <td id=\"T_ad92f_row3_col2\" class=\"data row3 col2\" >grounding</td>\n            </tr>\n            <tr>\n                        <th id=\"T_ad92f_level0_row4\" class=\"row_heading level0 row4\" >4</th>\n                        <td id=\"T_ad92f_row4_col0\" class=\"data row4 col0\" >Here is a paragraph and a statement:\n\nparagraph: \"Therefore, it remains unclear how the rates of recombination in regions such as those described in this manuscript for the NOS2 promoter compare to other regions of the genome designated as \"hot spots.\" The region of the human NOS2 promoter approximately 4 kb upstream of the NOS2 transcription start site that is near the putative NOS2 promoter recombination hot spot has a high degree of homology with murine and bovine NOS2 sequences.\"\n\nstatement: \"NOS2 increases the amount of NOS2.\"\n\nIs the statement implied by the paragraph?\nIf it isn't, please explain why.\n</td>\n                        <td id=\"T_ad92f_row4_col1\" class=\"data row4 col1\" >No, the statement is not implied by the paragraph. The paragraph discusses the recombination rates in the NOS2 promoter region and its homology with other species, but it does not mention anything about NOS2 increasing its own amount.</td>\n                        <td id=\"T_ad92f_row4_col2\" class=\"data row4 col2\" >no_relation</td>\n            </tr>\n            <tr>\n                        <th id=\"T_ad92f_level0_row5\" class=\"row_heading level0 row5\" >5</th>\n                        <td id=\"T_ad92f_row5_col0\" class=\"data row5 col0\" >Here is a sentence and a statement:\n\nsentence: \"IFN I producing PDC, therefore, may switch on the cytotoxic function of bystander cells at sites of viral infection, in tumors and, upon chronic activation, in autoimmune tissue damage (;).\"\n\nstatement: \"Interferon activates PDC.\"\n\nSynonyms in the sentence and statement, respectively:\n\"IFN\" and \"Interferon\"\n\nIs the statement implied by the sentence?\nIf it isn't, please explain why.\n</td>\n                        <td id=\"T_ad92f_row5_col1\" class=\"data row5 col1\" >Yes, the statement \"Interferon activates PDC\" is implied by the sentence \"IFN I producing PDC, therefore, may switch on the cytotoxic function of bystander cells at sites of viral infection, in tumors and, upon chronic activation, in autoimmune tissue damage (;).\" The sentence suggests that IFN I (Interferon) is responsible for activating PDC, which in turn activates the cytotoxic function of bystander cells.</td>\n                        <td id=\"T_ad92f_row5_col2\" class=\"data row5 col2\" >other</td>\n            </tr>\n            <tr>\n                        <th id=\"T_ad92f_level0_row6\" class=\"row_heading level0 row6\" >6</th>\n                        <td id=\"T_ad92f_row6_col0\" class=\"data row6 col0\" >Here is a sentence and a statement:\n\nsentence: \"Since ASF1 mediates eviction and deposition of histones during transcription, the interaction of VZV IE63 with ASF1 may help to regulate transcription of viral or cellular genes during lytic and/or latent infection.\"\n\nstatement: \"SRSF1 activates Histone.\"\n\nSynonyms in the sentence and statement, respectively:\n\"Asf1\" and \"SRSF1\"\n\"Histones\" and \"Histone\"\n\nIs the statement implied by the sentence?\nIf it isn't, please explain why.\n</td>\n                        <td id=\"T_ad92f_row6_col1\" class=\"data row6 col1\" >No, the statement is not implied by the sentence. The sentence discusses the role of ASF1 in regulating transcription, while the statement discusses the activation of histones by SRSF1, which is not directly related to the topic of the sentence.</td>\n                        <td id=\"T_ad92f_row6_col2\" class=\"data row6 col2\" >grounding</td>\n            </tr>\n            <tr>\n                        <th id=\"T_ad92f_level0_row7\" class=\"row_heading level0 row7\" >7</th>\n                        <td id=\"T_ad92f_row7_col0\" class=\"data row7 col0\" >Here is a sentence and a statement:\n\nsentence: \"We found that endogenous FoxQ1 protein bound to both of the FoxQ1 binding sites of the NRXN3 promoter ( xref ).\"\n\nstatement: \"FOXQ1 binds NRXN3.\"\n\nIs the statement implied by the sentence?\nIf it isn't, please explain why.\n</td>\n                        <td id=\"T_ad92f_row7_col1\" class=\"data row7 col1\" >Yes, the statement \"FOXQ1 binds NRXN3\" is implied by the sentence \"We found that endogenous FoxQ1 protein bound to both of the FoxQ1 binding sites of the NRXN3 promoter.\"</td>\n                        <td id=\"T_ad92f_row7_col2\" class=\"data row7 col2\" >wrong_relation</td>\n            </tr>\n            <tr>\n                        <th id=\"T_ad92f_level0_row8\" class=\"row_heading level0 row8\" >8</th>\n                        <td id=\"T_ad92f_row8_col0\" class=\"data row8 col0\" >Here is a paragraph and a statement:\n\nparagraph: \"In our previous report, we suggested that EGF stimulates insulin secretion by activating PLD2, but the mechanism of EGF dependent PLD2 activation in this process remains unknown.In this study, we revealed that Cdk5 is a key regulator of EGF dependent insulin secretion in a pancreatic beta-cell line.\"\n\nstatement: \"EGF activates INS.\"\n\nSynonyms in the paragraph and statement, respectively:\n\"Insulin\" and \"INS\"\n\nIs the statement implied by the paragraph?\nIf it isn't, please explain why.\n</td>\n                        <td id=\"T_ad92f_row8_col1\" class=\"data row8 col1\" >Yes, the statement \"EGF activates INS\" is implied by the paragraph. The paragraph states that EGF stimulates insulin secretion, which means that EGF activates the production and release of insulin (INS).</td>\n                        <td id=\"T_ad92f_row8_col2\" class=\"data row8 col2\" >act_vs_amt</td>\n            </tr>\n            <tr>\n                        <th id=\"T_ad92f_level0_row9\" class=\"row_heading level0 row9\" >9</th>\n                        <td id=\"T_ad92f_row9_col0\" class=\"data row9 col0\" >Here is a sentence and a statement:\n\nsentence: \"As shown in the in vitro HAT assay, MSL1v1 Delta800aa acetylates H4 K16 but not p53 K120 (XREF_FIG).\"\n\nstatement: \"KANSL1 acetylates TP53 on K120.\"\n\nSynonyms in the sentence and statement, respectively:\n\"MSL1V1\" and \"KANSL1\"\n\"P53\" and \"TP53\"\n\nIs the statement implied by the sentence?\nIf it isn't, please explain why.\n</td>\n                        <td id=\"T_ad92f_row9_col1\" class=\"data row9 col1\" >No, the statement is not implied by the sentence. The sentence is discussing the acetylation of H4 K16 and p53 K120 by MSL1v1 Delta800aa, while the statement is discussing the acetylation of TP53 on K120 by KANSL1. The two sentences are discussing different proteins and different acetylation sites, so the statement is not implied by the sentence.</td>\n                        <td id=\"T_ad92f_row9_col2\" class=\"data row9 col2\" >negative_result</td>\n            </tr>\n    </tbody></table>"
     },
     "metadata": {},
     "output_type": "display_data"
    }
   ],
   "source": [
    "from IPython.display import display\n",
    "\n",
    "qa_df = pd.DataFrame(res_dict[\"chat_qa\"])\n",
    "\n",
    "display(qa_df.style.set_properties(**{\n",
    "    'text-align': 'left',\n",
    "    'white-space': 'pre-wrap',\n",
    "}))"
   ],
   "metadata": {
    "collapsed": false
   }
  }
 ],
 "metadata": {
  "kernelspec": {
   "display_name": "Python 3",
   "language": "python",
   "name": "python3"
  },
  "language_info": {
   "codemirror_mode": {
    "name": "ipython",
    "version": 2
   },
   "file_extension": ".py",
   "mimetype": "text/x-python",
   "name": "python",
   "nbconvert_exporter": "python",
   "pygments_lexer": "ipython2",
   "version": "2.7.6"
  }
 },
 "nbformat": 4,
 "nbformat_minor": 0
}
