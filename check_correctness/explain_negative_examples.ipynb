{
 "cells": [
  {
   "cell_type": "code",
   "execution_count": 1,
   "metadata": {
    "collapsed": true
   },
   "outputs": [
    {
     "name": "stderr",
     "output_type": "stream",
     "text": [
      "INFO: [2023-03-27 15:14:11] check_correctness - agent_json_list dtype is str, using eval to convert to list of OrderedDicts\n",
      "INFO: [2023-03-27 15:14:11] numexpr.utils - NumExpr defaulting to 8 threads.\n",
      "Running explanation queries:  20%|██        | 2/10 [00:08<00:34,  4.34s/it]WARNING: [2023-03-27 15:14:20] check_correctness - Could not get synonyms for However, we could find no phosphorylation of the recombinant p47 phox  protein by Akt. even though they were needed for the prompt.\n",
      "Running explanation queries: 100%|██████████| 10/10 [00:37<00:00,  3.78s/it]\n",
      "INFO: [2023-03-27 15:14:49] check_correctness - Finished running 10 queries in 37.87 seconds.\n",
      "INFO: [2023-03-27 15:14:49] check_correctness - Saving results to /home/klas/repos/indra_gpt/local_data/results/explain_incorrect_20230327_221411.json\n"
     ]
    }
   ],
   "source": [
    "import pandas as pd\n",
    "\n",
    "from check_correctness import get_create_training_set, LOCAL_FILES, explain_negative_examples\n",
    "\n",
    "curations_file = LOCAL_FILES.joinpath(\"indra_assembly_curations.json\")\n",
    "corpus = LOCAL_FILES.joinpath(\"indra_assembly_curations.json\")\n",
    "\n",
    "# The creation of the dataframe from the statements takes ~90 mins. If the output file already is cached, it will load from the cache instead.\n",
    "training_data_df = get_create_training_set(curations_file=curations_file, statement_json_file=corpus)\n",
    "\n",
    "res_dict = explain_negative_examples(training_data_df=training_data_df)"
   ]
  },
  {
   "cell_type": "code",
   "execution_count": 2,
   "outputs": [
    {
     "data": {
      "text/plain": "<pandas.io.formats.style.Styler at 0x7f1334e14be0>",
      "text/html": "<style  type=\"text/css\" >\n#T_d6de9_row0_col0,#T_d6de9_row0_col1,#T_d6de9_row0_col2,#T_d6de9_row1_col0,#T_d6de9_row1_col1,#T_d6de9_row1_col2,#T_d6de9_row2_col0,#T_d6de9_row2_col1,#T_d6de9_row2_col2,#T_d6de9_row3_col0,#T_d6de9_row3_col1,#T_d6de9_row3_col2,#T_d6de9_row4_col0,#T_d6de9_row4_col1,#T_d6de9_row4_col2,#T_d6de9_row5_col0,#T_d6de9_row5_col1,#T_d6de9_row5_col2,#T_d6de9_row6_col0,#T_d6de9_row6_col1,#T_d6de9_row6_col2,#T_d6de9_row7_col0,#T_d6de9_row7_col1,#T_d6de9_row7_col2,#T_d6de9_row8_col0,#T_d6de9_row8_col1,#T_d6de9_row8_col2,#T_d6de9_row9_col0,#T_d6de9_row9_col1,#T_d6de9_row9_col2{\n            text-align:  left;\n            white-space:  pre-wrap;\n        }</style><table id=\"T_d6de9_\" ><thead>    <tr>        <th class=\"blank level0\" ></th>        <th class=\"col_heading level0 col0\" >prompt</th>        <th class=\"col_heading level0 col1\" >response</th>        <th class=\"col_heading level0 col2\" >curation_tag</th>    </tr></thead><tbody>\n                <tr>\n                        <th id=\"T_d6de9_level0_row0\" class=\"row_heading level0 row0\" >0</th>\n                        <td id=\"T_d6de9_row0_col0\" class=\"data row0 col0\" >Here is a sentence and a statement:\n\nsentence: \"The previous experiment demonstrated that both Sp1 and Sp3 activate the utrophin transcription in the heterologous SL2 cells.\"\n\nstatement: \"UTRN increases the amount of SP1.\"\n\n\"Utrophin\" in the sentence is a synonym for \"UTRN\" in the statement\n\nIs the statement implied by the sentence?\nIf it isn't, please explain why.\n</td>\n                        <td id=\"T_d6de9_row0_col1\" class=\"data row0 col1\" >No, the statement is not implied by the sentence. The sentence states that both Sp1 and Sp3 activate the utrophin transcription, but it does not mention anything about utrophin increasing the amount of SP1.</td>\n                        <td id=\"T_d6de9_row0_col2\" class=\"data row0 col2\" >other</td>\n            </tr>\n            <tr>\n                        <th id=\"T_d6de9_level0_row1\" class=\"row_heading level0 row1\" >1</th>\n                        <td id=\"T_d6de9_row1_col0\" class=\"data row1 col0\" >Here is a sentence and a statement:\n\nsentence: \"STAT3 element in MMP-7 promoter is not required and STAT3 not sufficient for isoproterenol induced MMP-7 expression.\"\n\nstatement: \"STAT3 increases the amount of MMP7.\"\n\n\"MMP-7\" in the sentence is a synonym for \"MMP7\" in the statement\n\nIs the statement implied by the sentence?\nIf it isn't, please explain why.\n</td>\n                        <td id=\"T_d6de9_row1_col1\" class=\"data row1 col1\" >No, the statement is not implied by the sentence. The sentence states that the STAT3 element in the MMP-7 promoter is not required and STAT3 is not sufficient for isoproterenol induced MMP-7 expression, which suggests that STAT3 does not have a significant effect on MMP-7 expression. The statement, on the other hand, suggests that STAT3 increases the amount of MMP7, which contradicts the information in the sentence.</td>\n                        <td id=\"T_d6de9_row1_col2\" class=\"data row1 col2\" >negative_result</td>\n            </tr>\n            <tr>\n                        <th id=\"T_d6de9_level0_row2\" class=\"row_heading level0 row2\" >2</th>\n                        <td id=\"T_d6de9_row2_col0\" class=\"data row2 col0\" >Here is a sentence and a statement:\n\nsentence: \"The aim of this study was to evaluate the association of Ala54 Thr polymorphism of the FABP2 gene with insulin sensitivity in pubertal girls born small for gestational age (SGA).\"\n\nstatement: \"FABP2 binds INS.\"\n\n\"Insulin\" in the sentence is a synonym for \"INS\" in the statement\n\nIs the statement implied by the sentence?\nIf it isn't, please explain why.\n</td>\n                        <td id=\"T_d6de9_row2_col1\" class=\"data row2 col1\" >No, the statement is not implied by the sentence. The sentence only mentions the association of a specific gene polymorphism with insulin sensitivity in a specific population of girls born small for gestational age. It does not mention anything about FABP2 binding to insulin.</td>\n                        <td id=\"T_d6de9_row2_col2\" class=\"data row2 col2\" >wrong_relation</td>\n            </tr>\n            <tr>\n                        <th id=\"T_d6de9_level0_row3\" class=\"row_heading level0 row3\" >3</th>\n                        <td id=\"T_d6de9_row3_col0\" class=\"data row3 col0\" >Here is a sentence and a statement:\n\nsentence: \"In LPA1- and LPA2-transfected HEK293 cells, LPA-induced RhoA activation was observed although the C terminus of LPA1 and LPA2 mutants, which failed to interact with the PDZ domains, did not cause LPA-induced RhoA activation.\"\n\nstatement: \"LPA activates RHOA.\"\n\nIs the statement implied by the sentence?\nIf it isn't, please explain why.\n</td>\n                        <td id=\"T_d6de9_row3_col1\" class=\"data row3 col1\" >Yes, the statement \"LPA activates RHOA\" is implied by the sentence. The sentence specifically states that LPA-induced RhoA activation was observed in the cells that were transfected with LPA1 and LPA2, indicating that LPA does activate RhoA.</td>\n                        <td id=\"T_d6de9_row3_col2\" class=\"data row3 col2\" >grounding</td>\n            </tr>\n            <tr>\n                        <th id=\"T_d6de9_level0_row4\" class=\"row_heading level0 row4\" >4</th>\n                        <td id=\"T_d6de9_row4_col0\" class=\"data row4 col0\" >Here is a sentence and a statement:\n\nsentence: \"Grip1 is an intracellular adaptor protein that contains multiple PDZ domains, with which it binds to Fras1 and Frem2 ( xref ).\"\n\nstatement: \"FRAS1 binds FREM2.\"\n\nIs the statement implied by the sentence?\nIf it isn't, please explain why.\n</td>\n                        <td id=\"T_d6de9_row4_col1\" class=\"data row4 col1\" >The statement is not explicitly implied by the sentence. The sentence only states that Grip1 binds to both Fras1 and Frem2 through its PDZ domains, but it does not mention anything about Fras1 binding to Frem2. Therefore, the statement \"FRAS1 binds FREM2\" cannot be inferred from the given sentence.</td>\n                        <td id=\"T_d6de9_row4_col2\" class=\"data row4 col2\" >no_relation</td>\n            </tr>\n            <tr>\n                        <th id=\"T_d6de9_level0_row5\" class=\"row_heading level0 row5\" >5</th>\n                        <td id=\"T_d6de9_row5_col0\" class=\"data row5 col0\" >Here is a sentence and a statement:\n\nsentence: \"AhR binding to the CYP1A1 and 1B1 promoter region was determined by chromatin immunoprecipitation as previously described ( ).\"\n\nstatement: \"CYP1A1 binds AHR.\"\n\nIs the statement implied by the sentence?\nIf it isn't, please explain why.\n</td>\n                        <td id=\"T_d6de9_row5_col1\" class=\"data row5 col1\" >No, the statement is not implied by the sentence. The sentence only states that AhR binding to the CYP1A1 and 1B1 promoter region was determined by chromatin immunoprecipitation, but it does not explicitly state that CYP1A1 binds AhR.</td>\n                        <td id=\"T_d6de9_row5_col2\" class=\"data row5 col2\" >other</td>\n            </tr>\n            <tr>\n                        <th id=\"T_d6de9_level0_row6\" class=\"row_heading level0 row6\" >6</th>\n                        <td id=\"T_d6de9_row6_col0\" class=\"data row6 col0\" >Here is a sentence and a statement:\n\nsentence: \"Although DAC treatment typically affects expression of < 1% of the human transcriptome, we can not rule out the possibility that the DAC and HRG combination induces apoptosis independent of HER4.\"\n\nstatement: \"HRG activates ERBB4.\"\n\n\"HER4\" in the sentence is a synonym for \"ERBB4\" in the statement\n\nIs the statement implied by the sentence?\nIf it isn't, please explain why.\n</td>\n                        <td id=\"T_d6de9_row6_col1\" class=\"data row6 col1\" >Yes, the statement is implied by the sentence. The sentence mentions the possibility of the DAC and HRG combination inducing apoptosis independent of HER4, which implies that HRG is capable of activating HER4. Therefore, the statement \"HRG activates ERBB4\" is consistent with the information provided in the sentence.</td>\n                        <td id=\"T_d6de9_row6_col2\" class=\"data row6 col2\" >other</td>\n            </tr>\n            <tr>\n                        <th id=\"T_d6de9_level0_row7\" class=\"row_heading level0 row7\" >7</th>\n                        <td id=\"T_d6de9_row7_col0\" class=\"data row7 col0\" >Here is a sentence and a statement:\n\nsentence: \"Co-transfection of wild type (WT) FoxO1 into satellite cells increased p27Kip1 promoter activity in the absence of IGF-I supplementation.\"\n\nstatement: \"FOXO1 activates CDKN1B.\"\n\n\"P27KIP1\" in the sentence is a synonym for \"CDKN1B\" in the statement\n\nIs the statement implied by the sentence?\nIf it isn't, please explain why.\n</td>\n                        <td id=\"T_d6de9_row7_col1\" class=\"data row7 col1\" >Yes, the statement is implied by the sentence. The sentence states that transfection of FoxO1 increased p27Kip1 promoter activity, and p27Kip1 is a protein encoded by the CDKN1B gene. Therefore, the sentence implies that FoxO1 activates CDKN1B, which is the statement.</td>\n                        <td id=\"T_d6de9_row7_col2\" class=\"data row7 col2\" >act_vs_amt</td>\n            </tr>\n            <tr>\n                        <th id=\"T_d6de9_level0_row8\" class=\"row_heading level0 row8\" >8</th>\n                        <td id=\"T_d6de9_row8_col0\" class=\"data row8 col0\" >Here is a sentence and a statement:\n\nsentence: \"JDP2, a repressor of AP-1, recruits a histone deacetylase 3 complex to inhibit the retinoic acid-induced differentiation of F9 cells.\"\n\nstatement: \"Histone binds JDP2.\"\n\nIs the statement implied by the sentence?\nIf it isn't, please explain why.\n</td>\n                        <td id=\"T_d6de9_row8_col1\" class=\"data row8 col1\" >No, the statement is not implied by the sentence. The sentence states that JDP2 recruits a histone deacetylase 3 complex, but it does not mention anything about histone binding to JDP2.</td>\n                        <td id=\"T_d6de9_row8_col2\" class=\"data row8 col2\" >entity_boundaries</td>\n            </tr>\n            <tr>\n                        <th id=\"T_d6de9_level0_row9\" class=\"row_heading level0 row9\" >9</th>\n                        <td id=\"T_d6de9_row9_col0\" class=\"data row9 col0\" >Here is a sentence and a statement:\n\nsentence: \"IL-15 prevents AICD of activated cytotoxic CD8 cells.\"\n\nstatement: \"IL15 inhibits CD8.\"\n\n\"IL-15\" in the sentence is a synonym for \"IL15\" in the statement\n\nIs the statement implied by the sentence?\nIf it isn't, please explain why.\n</td>\n                        <td id=\"T_d6de9_row9_col1\" class=\"data row9 col1\" >No, the statement is not implied by the sentence. The sentence states that IL-15 prevents AICD (activation-induced cell death) of activated cytotoxic CD8 cells, which means it is promoting their survival. The statement, on the other hand, says that IL15 inhibits CD8, which implies that it is suppressing their activity. These are two different statements with opposite meanings.</td>\n                        <td id=\"T_d6de9_row9_col2\" class=\"data row9 col2\" >entity_boundaries</td>\n            </tr>\n    </tbody></table>"
     },
     "metadata": {},
     "output_type": "display_data"
    }
   ],
   "source": [
    "from IPython.display import display\n",
    "\n",
    "qa_df = pd.DataFrame(res_dict[\"chat_qa\"])\n",
    "\n",
    "display(qa_df.style.set_properties(**{\n",
    "    'text-align': 'left',\n",
    "    'white-space': 'pre-wrap',\n",
    "}))"
   ],
   "metadata": {
    "collapsed": false
   }
  }
 ],
 "metadata": {
  "kernelspec": {
   "display_name": "Python 3",
   "language": "python",
   "name": "python3"
  },
  "language_info": {
   "codemirror_mode": {
    "name": "ipython",
    "version": 2
   },
   "file_extension": ".py",
   "mimetype": "text/x-python",
   "name": "python",
   "nbconvert_exporter": "python",
   "pygments_lexer": "ipython2",
   "version": "2.7.6"
  }
 },
 "nbformat": 4,
 "nbformat_minor": 0
}
