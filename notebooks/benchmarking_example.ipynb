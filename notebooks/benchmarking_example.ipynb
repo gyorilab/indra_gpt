{
 "cells": [
  {
   "cell_type": "code",
   "execution_count": 1,
   "metadata": {},
   "outputs": [
    {
     "name": "stderr",
     "output_type": "stream",
     "text": [
      "INFO: [2025-02-13 15:54:04] indra.preassembler.grounding_mapper.disambiguate - INDRA DB is not available for text content retrieval for grounding disambiguation.\n",
      "/Users/thomaslim/miniconda3/envs/indra_gpt/lib/python3.11/site-packages/tqdm/auto.py:21: TqdmWarning: IProgress not found. Please update jupyter and ipywidgets. See https://ipywidgets.readthedocs.io/en/stable/user_install.html\n",
      "  from .autonotebook import tqdm as notebook_tqdm\n"
     ]
    }
   ],
   "source": [
    "import sys\n",
    "from pathlib import Path\n",
    "# get current path\n",
    "sys.path.append(str(Path.cwd().parent))\n",
    "\n",
    "from indra_gpt.benchmarks.benchmark import Benchmark\n",
    "from indra_gpt.resources.constants import INPUT_DEFAULT\n"
   ]
  },
  {
   "cell_type": "code",
   "execution_count": 2,
   "metadata": {},
   "outputs": [],
   "source": [
    "model = 'gpt-4o-mini'\n",
    "benchmark_file = INPUT_DEFAULT\n",
    "structured_output = False\n",
    "n_statements = 5\n",
    "benchmark = Benchmark(model, benchmark_file, structured_output, n_statements)\n"
   ]
  },
  {
   "cell_type": "code",
   "execution_count": 3,
   "metadata": {},
   "outputs": [
    {
     "name": "stderr",
     "output_type": "stream",
     "text": [
      "Extracting:   0%|          | 0/5 [00:00<?, ?statement/s]INFO: [2025-02-13 15:54:09] httpx - HTTP Request: POST https://api.openai.com/v1/chat/completions \"HTTP/1.1 200 OK\"\n",
      "INFO: [2025-02-13 15:54:13] httpx - HTTP Request: POST https://api.openai.com/v1/chat/completions \"HTTP/1.1 200 OK\"\n",
      "INFO: [2025-02-13 15:54:17] httpx - HTTP Request: POST https://api.openai.com/v1/chat/completions \"HTTP/1.1 200 OK\"\n",
      "Extracting:  20%|██        | 1/5 [00:12<00:48, 12.20s/statement]INFO: [2025-02-13 15:54:25] httpx - HTTP Request: POST https://api.openai.com/v1/chat/completions \"HTTP/1.1 200 OK\"\n",
      "INFO: [2025-02-13 15:54:29] httpx - HTTP Request: POST https://api.openai.com/v1/chat/completions \"HTTP/1.1 200 OK\"\n",
      "INFO: [2025-02-13 15:54:34] httpx - HTTP Request: POST https://api.openai.com/v1/chat/completions \"HTTP/1.1 200 OK\"\n",
      "Extracting:  40%|████      | 2/5 [00:29<00:45, 15.22s/statement]INFO: [2025-02-13 15:54:41] httpx - HTTP Request: POST https://api.openai.com/v1/chat/completions \"HTTP/1.1 200 OK\"\n",
      "INFO: [2025-02-13 15:54:48] httpx - HTTP Request: POST https://api.openai.com/v1/chat/completions \"HTTP/1.1 200 OK\"\n",
      "INFO: [2025-02-13 15:54:56] httpx - HTTP Request: POST https://api.openai.com/v1/chat/completions \"HTTP/1.1 200 OK\"\n",
      "Extracting:  60%|██████    | 3/5 [00:51<00:36, 18.09s/statement]INFO: [2025-02-13 15:54:59] httpx - HTTP Request: POST https://api.openai.com/v1/chat/completions \"HTTP/1.1 200 OK\"\n",
      "INFO: [2025-02-13 15:55:03] httpx - HTTP Request: POST https://api.openai.com/v1/chat/completions \"HTTP/1.1 200 OK\"\n",
      "INFO: [2025-02-13 15:55:07] httpx - HTTP Request: POST https://api.openai.com/v1/chat/completions \"HTTP/1.1 200 OK\"\n",
      "Extracting:  80%|████████  | 4/5 [01:01<00:15, 15.21s/statement]INFO: [2025-02-13 15:55:11] httpx - HTTP Request: POST https://api.openai.com/v1/chat/completions \"HTTP/1.1 200 OK\"\n",
      "INFO: [2025-02-13 15:55:15] httpx - HTTP Request: POST https://api.openai.com/v1/chat/completions \"HTTP/1.1 200 OK\"\n",
      "INFO: [2025-02-13 15:55:20] httpx - HTTP Request: POST https://api.openai.com/v1/chat/completions \"HTTP/1.1 200 OK\"\n",
      "Extracting: 100%|██████████| 5/5 [01:15<00:00, 15.14s/statement]\n",
      "ERROR: [2025-02-13 15:55:21] indra_gpt.clients.openai.openai_client - Error extracting statement: Expecting ',' delimiter: line 1 column 663 (char 662)\n",
      "INFO: [2025-02-13 15:55:21] indra_gpt.clients.openai.openai_client - Results saved to /Users/thomaslim/gyorilab/indra_gpt/output/statement_json_extraction_results.tsv\n",
      "ERROR: [2025-02-13 15:55:21] indra_gpt.benchmarks.benchmark - Error extracting statement: Expecting ',' delimiter: line 1 column 663 (char 662)\n",
      "INFO: [2025-02-13 15:55:21] indra.ontology.bio.ontology - Loading INDRA bio ontology from cache at /Users/thomaslim/.indra/bio_ontology/1.34/bio_ontology.pkl\n"
     ]
    }
   ],
   "source": [
    "benchmark_df = benchmark.get_comparison_df()\n"
   ]
  },
  {
   "cell_type": "code",
   "execution_count": 4,
   "metadata": {},
   "outputs": [
    {
     "data": {
      "text/html": [
       "<div>\n",
       "<style scoped>\n",
       "    .dataframe tbody tr th:only-of-type {\n",
       "        vertical-align: middle;\n",
       "    }\n",
       "\n",
       "    .dataframe tbody tr th {\n",
       "        vertical-align: top;\n",
       "    }\n",
       "\n",
       "    .dataframe thead th {\n",
       "        text-align: right;\n",
       "    }\n",
       "</style>\n",
       "<table border=\"1\" class=\"dataframe\">\n",
       "  <thead>\n",
       "    <tr style=\"text-align: right;\">\n",
       "      <th></th>\n",
       "      <th>original_statements_json</th>\n",
       "      <th>generated_statements_json</th>\n",
       "      <th>original_statements</th>\n",
       "      <th>generated_statements</th>\n",
       "      <th>original_statements_grounded</th>\n",
       "      <th>generated_statements_grounded</th>\n",
       "      <th>comparison_result</th>\n",
       "      <th>comparison_result_grounded</th>\n",
       "    </tr>\n",
       "  </thead>\n",
       "  <tbody>\n",
       "    <tr>\n",
       "      <th>0</th>\n",
       "      <td>{'type': 'Acetylation', 'enz': {'name': 'C5', ...</td>\n",
       "      <td>{\"type\": \"Acetylation\", \"enz\": {\"name\": \"PCAF\"...</td>\n",
       "      <td>[Acetylation(C5(), STAT3())]</td>\n",
       "      <td>Error: Expecting ',' delimiter: line 1 column ...</td>\n",
       "      <td>[Acetylation(C5(), STAT3())]</td>\n",
       "      <td>Error: Expecting ',' delimiter: line 1 column ...</td>\n",
       "      <td>[{'error': 'One or both lists are empty'}]</td>\n",
       "      <td>[{'error': 'One or both lists are empty'}]</td>\n",
       "    </tr>\n",
       "    <tr>\n",
       "      <th>1</th>\n",
       "      <td>{'type': 'Acetylation', 'enz': {'name': 'KANSL...</td>\n",
       "      <td>{\"type\": \"Activation\", \"subj\": {\"name\": \"MOF a...</td>\n",
       "      <td>[Acetylation(KANSL1(), TP53(), K, 120)]</td>\n",
       "      <td>[Activation(MOF and MSL1v1 complex(), p53(), t...</td>\n",
       "      <td>[Acetylation(KANSL1(), TP53(), K, 120)]</td>\n",
       "      <td>[Activation(MOF and MSL1v1 complex(), TP53(), ...</td>\n",
       "      <td>[{'equals': False, 'equals_type': False, 'agen...</td>\n",
       "      <td>[{'equals': False, 'equals_type': False, 'agen...</td>\n",
       "    </tr>\n",
       "    <tr>\n",
       "      <th>2</th>\n",
       "      <td>{'type': 'Acetylation', 'enz': {'name': 'EP300...</td>\n",
       "      <td>{\\n  \"type\": \"Acetylation\",\\n  \"enz\": {\\n    \"...</td>\n",
       "      <td>[Acetylation(EP300(), TP73())]</td>\n",
       "      <td>[Acetylation(p300(), p73())]</td>\n",
       "      <td>[Acetylation(EP300(), TP73())]</td>\n",
       "      <td>[Acetylation(EP300(), TP73())]</td>\n",
       "      <td>[{'equals': False, 'equals_type': True, 'agent...</td>\n",
       "      <td>[{'equals': False, 'equals_type': True, 'agent...</td>\n",
       "    </tr>\n",
       "    <tr>\n",
       "      <th>3</th>\n",
       "      <td>{'type': 'Activation', 'subj': {'name': 'BMP',...</td>\n",
       "      <td>{\"type\": \"IncreaseAmount\", \"subj\": {\"name\": \"B...</td>\n",
       "      <td>[Activation(BMP(), PTEN())]</td>\n",
       "      <td>[IncreaseAmount(BMP(), PTEN())]</td>\n",
       "      <td>[Activation(BMP(), PTEN())]</td>\n",
       "      <td>[IncreaseAmount(BMP(), PTEN())]</td>\n",
       "      <td>[{'equals': False, 'equals_type': False, 'agen...</td>\n",
       "      <td>[{'equals': False, 'equals_type': False, 'agen...</td>\n",
       "    </tr>\n",
       "    <tr>\n",
       "      <th>4</th>\n",
       "      <td>{'type': 'Activation', 'subj': {'name': 'Caspa...</td>\n",
       "      <td>{\"type\": \"Activation\", \"subj\": {\"name\": \"Caspa...</td>\n",
       "      <td>[Activation(Caspase(), PRKCZ())]</td>\n",
       "      <td>[Activation(Caspase(), PKC zeta(), kinase)]</td>\n",
       "      <td>[Activation(Caspase(), PRKCZ())]</td>\n",
       "      <td>[Activation(Caspase(), PKC zeta(), kinase)]</td>\n",
       "      <td>[{'equals': False, 'equals_type': True, 'agent...</td>\n",
       "      <td>[{'equals': False, 'equals_type': True, 'agent...</td>\n",
       "    </tr>\n",
       "  </tbody>\n",
       "</table>\n",
       "</div>"
      ],
      "text/plain": [
       "                            original_statements_json  \\\n",
       "0  {'type': 'Acetylation', 'enz': {'name': 'C5', ...   \n",
       "1  {'type': 'Acetylation', 'enz': {'name': 'KANSL...   \n",
       "2  {'type': 'Acetylation', 'enz': {'name': 'EP300...   \n",
       "3  {'type': 'Activation', 'subj': {'name': 'BMP',...   \n",
       "4  {'type': 'Activation', 'subj': {'name': 'Caspa...   \n",
       "\n",
       "                           generated_statements_json  \\\n",
       "0  {\"type\": \"Acetylation\", \"enz\": {\"name\": \"PCAF\"...   \n",
       "1  {\"type\": \"Activation\", \"subj\": {\"name\": \"MOF a...   \n",
       "2  {\\n  \"type\": \"Acetylation\",\\n  \"enz\": {\\n    \"...   \n",
       "3  {\"type\": \"IncreaseAmount\", \"subj\": {\"name\": \"B...   \n",
       "4  {\"type\": \"Activation\", \"subj\": {\"name\": \"Caspa...   \n",
       "\n",
       "                       original_statements  \\\n",
       "0             [Acetylation(C5(), STAT3())]   \n",
       "1  [Acetylation(KANSL1(), TP53(), K, 120)]   \n",
       "2           [Acetylation(EP300(), TP73())]   \n",
       "3              [Activation(BMP(), PTEN())]   \n",
       "4         [Activation(Caspase(), PRKCZ())]   \n",
       "\n",
       "                                generated_statements  \\\n",
       "0  Error: Expecting ',' delimiter: line 1 column ...   \n",
       "1  [Activation(MOF and MSL1v1 complex(), p53(), t...   \n",
       "2                       [Acetylation(p300(), p73())]   \n",
       "3                    [IncreaseAmount(BMP(), PTEN())]   \n",
       "4        [Activation(Caspase(), PKC zeta(), kinase)]   \n",
       "\n",
       "              original_statements_grounded  \\\n",
       "0             [Acetylation(C5(), STAT3())]   \n",
       "1  [Acetylation(KANSL1(), TP53(), K, 120)]   \n",
       "2           [Acetylation(EP300(), TP73())]   \n",
       "3              [Activation(BMP(), PTEN())]   \n",
       "4         [Activation(Caspase(), PRKCZ())]   \n",
       "\n",
       "                       generated_statements_grounded  \\\n",
       "0  Error: Expecting ',' delimiter: line 1 column ...   \n",
       "1  [Activation(MOF and MSL1v1 complex(), TP53(), ...   \n",
       "2                     [Acetylation(EP300(), TP73())]   \n",
       "3                    [IncreaseAmount(BMP(), PTEN())]   \n",
       "4        [Activation(Caspase(), PKC zeta(), kinase)]   \n",
       "\n",
       "                                   comparison_result  \\\n",
       "0         [{'error': 'One or both lists are empty'}]   \n",
       "1  [{'equals': False, 'equals_type': False, 'agen...   \n",
       "2  [{'equals': False, 'equals_type': True, 'agent...   \n",
       "3  [{'equals': False, 'equals_type': False, 'agen...   \n",
       "4  [{'equals': False, 'equals_type': True, 'agent...   \n",
       "\n",
       "                          comparison_result_grounded  \n",
       "0         [{'error': 'One or both lists are empty'}]  \n",
       "1  [{'equals': False, 'equals_type': False, 'agen...  \n",
       "2  [{'equals': False, 'equals_type': True, 'agent...  \n",
       "3  [{'equals': False, 'equals_type': False, 'agen...  \n",
       "4  [{'equals': False, 'equals_type': True, 'agent...  "
      ]
     },
     "execution_count": 4,
     "metadata": {},
     "output_type": "execute_result"
    }
   ],
   "source": [
    "benchmark_df\n"
   ]
  },
  {
   "cell_type": "code",
   "execution_count": 18,
   "metadata": {},
   "outputs": [
    {
     "data": {
      "text/plain": [
       "[{'equals': False, 'equals_type': False, 'agents_equal': (False,)}]"
      ]
     },
     "execution_count": 18,
     "metadata": {},
     "output_type": "execute_result"
    }
   ],
   "source": [
    "benchmark_df[benchmark_df['comparison_result'] != benchmark_df['comparison_result_grounded']]['comparison_result'].iloc[1]\n"
   ]
  },
  {
   "cell_type": "code",
   "execution_count": 16,
   "metadata": {},
   "outputs": [
    {
     "data": {
      "text/plain": [
       "[{'equals': False, 'equals_type': False, 'agents_equal': (True,)}]"
      ]
     },
     "execution_count": 16,
     "metadata": {},
     "output_type": "execute_result"
    }
   ],
   "source": [
    "benchmark_df[benchmark_df['comparison_result'] != benchmark_df['comparison_result_grounded']]['comparison_result_grounded'].iloc[1]\n"
   ]
  },
  {
   "cell_type": "code",
   "execution_count": 19,
   "metadata": {},
   "outputs": [
    {
     "data": {
      "text/plain": [
       "[Activation(BMP(), PTEN())]"
      ]
     },
     "execution_count": 19,
     "metadata": {},
     "output_type": "execute_result"
    }
   ],
   "source": [
    "benchmark_df[benchmark_df['comparison_result'] != benchmark_df['comparison_result_grounded']]['original_statements_grounded'].iloc[1]\n"
   ]
  },
  {
   "cell_type": "code",
   "execution_count": null,
   "metadata": {},
   "outputs": [],
   "source": []
  }
 ],
 "metadata": {
  "kernelspec": {
   "display_name": "indra_gpt",
   "language": "python",
   "name": "python3"
  },
  "language_info": {
   "codemirror_mode": {
    "name": "ipython",
    "version": 3
   },
   "file_extension": ".py",
   "mimetype": "text/x-python",
   "name": "python",
   "nbconvert_exporter": "python",
   "pygments_lexer": "ipython3",
   "version": "3.11.11"
  }
 },
 "nbformat": 4,
 "nbformat_minor": 2
}
