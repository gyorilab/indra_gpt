{
 "cells": [
  {
   "cell_type": "code",
   "execution_count": 1,
   "metadata": {},
   "outputs": [
    {
     "name": "stderr",
     "output_type": "stream",
     "text": [
      "INFO: [2025-02-13 10:18:16] indra.preassembler.grounding_mapper.disambiguate - INDRA DB is not available for text content retrieval for grounding disambiguation.\n",
      "/Users/thomaslim/miniconda3/envs/indra_gpt/lib/python3.11/site-packages/tqdm/auto.py:21: TqdmWarning: IProgress not found. Please update jupyter and ipywidgets. See https://ipywidgets.readthedocs.io/en/stable/user_install.html\n",
      "  from .autonotebook import tqdm as notebook_tqdm\n"
     ]
    }
   ],
   "source": [
    "import sys\n",
    "from pathlib import Path\n",
    "# get current path\n",
    "sys.path.append(str(Path.cwd().parent))\n",
    "\n",
    "from indra_gpt.benchmarks.benchmark import Benchmark\n",
    "from indra_gpt.resources.constants import INPUT_DEFAULT\n"
   ]
  },
  {
   "cell_type": "code",
   "execution_count": 2,
   "metadata": {},
   "outputs": [],
   "source": [
    "model = 'gpt-4o-mini'\n",
    "benchmark_file = INPUT_DEFAULT\n",
    "structured_output = False\n",
    "n_statements = 5\n",
    "benchmark = Benchmark(model, benchmark_file, structured_output, n_statements)\n"
   ]
  },
  {
   "cell_type": "code",
   "execution_count": 3,
   "metadata": {},
   "outputs": [
    {
     "name": "stderr",
     "output_type": "stream",
     "text": [
      "Extracting:   0%|          | 0/5 [00:00<?, ?statement/s]INFO: [2025-02-13 10:18:24] httpx - HTTP Request: POST https://api.openai.com/v1/chat/completions \"HTTP/1.1 200 OK\"\n",
      "INFO: [2025-02-13 10:18:29] httpx - HTTP Request: POST https://api.openai.com/v1/chat/completions \"HTTP/1.1 200 OK\"\n",
      "INFO: [2025-02-13 10:18:34] httpx - HTTP Request: POST https://api.openai.com/v1/chat/completions \"HTTP/1.1 200 OK\"\n",
      "Extracting:  20%|██        | 1/5 [00:17<01:09, 17.30s/statement]INFO: [2025-02-13 10:18:41] httpx - HTTP Request: POST https://api.openai.com/v1/chat/completions \"HTTP/1.1 200 OK\"\n",
      "INFO: [2025-02-13 10:18:47] httpx - HTTP Request: POST https://api.openai.com/v1/chat/completions \"HTTP/1.1 200 OK\"\n",
      "INFO: [2025-02-13 10:18:54] httpx - HTTP Request: POST https://api.openai.com/v1/chat/completions \"HTTP/1.1 200 OK\"\n",
      "Extracting:  40%|████      | 2/5 [00:37<00:56, 18.79s/statement]INFO: [2025-02-13 10:19:00] httpx - HTTP Request: POST https://api.openai.com/v1/chat/completions \"HTTP/1.1 200 OK\"\n",
      "INFO: [2025-02-13 10:19:08] httpx - HTTP Request: POST https://api.openai.com/v1/chat/completions \"HTTP/1.1 200 OK\"\n",
      "INFO: [2025-02-13 10:19:13] httpx - HTTP Request: POST https://api.openai.com/v1/chat/completions \"HTTP/1.1 200 OK\"\n",
      "Extracting:  60%|██████    | 3/5 [00:56<00:38, 19.19s/statement]INFO: [2025-02-13 10:19:18] httpx - HTTP Request: POST https://api.openai.com/v1/chat/completions \"HTTP/1.1 200 OK\"\n",
      "INFO: [2025-02-13 10:19:21] httpx - HTTP Request: POST https://api.openai.com/v1/chat/completions \"HTTP/1.1 200 OK\"\n",
      "INFO: [2025-02-13 10:19:25] httpx - HTTP Request: POST https://api.openai.com/v1/chat/completions \"HTTP/1.1 200 OK\"\n",
      "Extracting:  80%|████████  | 4/5 [01:08<00:16, 16.16s/statement]INFO: [2025-02-13 10:19:32] httpx - HTTP Request: POST https://api.openai.com/v1/chat/completions \"HTTP/1.1 200 OK\"\n",
      "INFO: [2025-02-13 10:19:38] httpx - HTTP Request: POST https://api.openai.com/v1/chat/completions \"HTTP/1.1 200 OK\"\n",
      "INFO: [2025-02-13 10:19:45] httpx - HTTP Request: POST https://api.openai.com/v1/chat/completions \"HTTP/1.1 200 OK\"\n",
      "Extracting: 100%|██████████| 5/5 [01:28<00:00, 17.63s/statement]\n",
      "ERROR: [2025-02-13 10:19:45] indra_gpt.clients.openai.openai_client - Error extracting statement: Expecting ',' delimiter: line 1 column 662 (char 661)\n",
      "WARNING: [2025-02-13 10:19:45] indra.statements.statements - Invalid activity type: phosphorylation\n",
      "INFO: [2025-02-13 10:19:45] indra_gpt.clients.openai.openai_client - Results saved to /Users/thomaslim/gyorilab/indra_gpt/output/statement_json_extraction_results.tsv\n",
      "ERROR: [2025-02-13 10:19:45] indra_gpt.benchmarks.benchmark - Error extracting statement: Expecting ',' delimiter: line 1 column 662 (char 661)\n",
      "WARNING: [2025-02-13 10:19:45] indra.statements.statements - Invalid activity type: phosphorylation\n"
     ]
    }
   ],
   "source": [
    "benchmark_df = benchmark.get_comparison_df()\n"
   ]
  },
  {
   "cell_type": "code",
   "execution_count": null,
   "metadata": {},
   "outputs": [
    {
     "data": {
      "text/html": [
       "<div>\n",
       "<style scoped>\n",
       "    .dataframe tbody tr th:only-of-type {\n",
       "        vertical-align: middle;\n",
       "    }\n",
       "\n",
       "    .dataframe tbody tr th {\n",
       "        vertical-align: top;\n",
       "    }\n",
       "\n",
       "    .dataframe thead th {\n",
       "        text-align: right;\n",
       "    }\n",
       "</style>\n",
       "<table border=\"1\" class=\"dataframe\">\n",
       "  <thead>\n",
       "    <tr style=\"text-align: right;\">\n",
       "      <th></th>\n",
       "      <th>original_statements_json</th>\n",
       "      <th>generated_statements_json</th>\n",
       "      <th>original_statements</th>\n",
       "      <th>generated_statements</th>\n",
       "      <th>comparison</th>\n",
       "    </tr>\n",
       "  </thead>\n",
       "  <tbody>\n",
       "    <tr>\n",
       "      <th>0</th>\n",
       "      <td>{'type': 'Acetylation', 'enz': {'name': 'C5', ...</td>\n",
       "      <td>{\"type\": \"Acetylation\", \"enz\": {\"name\": \"PCAF\"...</td>\n",
       "      <td>[Acetylation(C5(), STAT3())]</td>\n",
       "      <td>Error: Expecting ',' delimiter: line 1 column ...</td>\n",
       "      <td>[{'error': 'One or both lists are empty'}]</td>\n",
       "    </tr>\n",
       "    <tr>\n",
       "      <th>1</th>\n",
       "      <td>{'type': 'Acetylation', 'enz': {'name': 'KANSL...</td>\n",
       "      <td>{\"type\": \"Acetylation\", \"enz\": {\"name\": \"MOF a...</td>\n",
       "      <td>[Acetylation(KANSL1(), TP53(), K, 120)]</td>\n",
       "      <td>[Acetylation(MOF and MSL1v1 complex(), TP53(),...</td>\n",
       "      <td>[{'equals': False, 'equals_type': True, 'same_...</td>\n",
       "    </tr>\n",
       "    <tr>\n",
       "      <th>2</th>\n",
       "      <td>{'type': 'Acetylation', 'enz': {'name': 'EP300...</td>\n",
       "      <td>{\\n  \"type\": \"Activation\",\\n  \"subj\": {\\n    \"...</td>\n",
       "      <td>[Acetylation(EP300(), TP73())]</td>\n",
       "      <td>[Activation(c-Abl(), p73(), phosphorylation)]</td>\n",
       "      <td>[{'equals': False, 'equals_type': False, 'same...</td>\n",
       "    </tr>\n",
       "    <tr>\n",
       "      <th>3</th>\n",
       "      <td>{'type': 'Activation', 'subj': {'name': 'BMP',...</td>\n",
       "      <td>{\"type\": \"IncreaseAmount\", \"subj\": {\"name\": \"B...</td>\n",
       "      <td>[Activation(BMP(), PTEN())]</td>\n",
       "      <td>[IncreaseAmount(BMP(), PTEN())]</td>\n",
       "      <td>[{'equals': False, 'equals_type': False, 'same...</td>\n",
       "    </tr>\n",
       "    <tr>\n",
       "      <th>4</th>\n",
       "      <td>{'type': 'Activation', 'subj': {'name': 'Caspa...</td>\n",
       "      <td>{\"type\": \"Ubiquitination\", \"enz\": {\"name\": \"Ca...</td>\n",
       "      <td>[Activation(Caspase(), PRKCZ())]</td>\n",
       "      <td>[Ubiquitination(Caspase(), PRKCZ())]</td>\n",
       "      <td>[{'equals': False, 'equals_type': False, 'same...</td>\n",
       "    </tr>\n",
       "  </tbody>\n",
       "</table>\n",
       "</div>"
      ],
      "text/plain": [
       "                            original_statements_json  \\\n",
       "0  {'type': 'Acetylation', 'enz': {'name': 'C5', ...   \n",
       "1  {'type': 'Acetylation', 'enz': {'name': 'KANSL...   \n",
       "2  {'type': 'Acetylation', 'enz': {'name': 'EP300...   \n",
       "3  {'type': 'Activation', 'subj': {'name': 'BMP',...   \n",
       "4  {'type': 'Activation', 'subj': {'name': 'Caspa...   \n",
       "\n",
       "                           generated_statements_json  \\\n",
       "0  {\"type\": \"Acetylation\", \"enz\": {\"name\": \"PCAF\"...   \n",
       "1  {\"type\": \"Acetylation\", \"enz\": {\"name\": \"MOF a...   \n",
       "2  {\\n  \"type\": \"Activation\",\\n  \"subj\": {\\n    \"...   \n",
       "3  {\"type\": \"IncreaseAmount\", \"subj\": {\"name\": \"B...   \n",
       "4  {\"type\": \"Ubiquitination\", \"enz\": {\"name\": \"Ca...   \n",
       "\n",
       "                       original_statements  \\\n",
       "0             [Acetylation(C5(), STAT3())]   \n",
       "1  [Acetylation(KANSL1(), TP53(), K, 120)]   \n",
       "2           [Acetylation(EP300(), TP73())]   \n",
       "3              [Activation(BMP(), PTEN())]   \n",
       "4         [Activation(Caspase(), PRKCZ())]   \n",
       "\n",
       "                                generated_statements  \\\n",
       "0  Error: Expecting ',' delimiter: line 1 column ...   \n",
       "1  [Acetylation(MOF and MSL1v1 complex(), TP53(),...   \n",
       "2      [Activation(c-Abl(), p73(), phosphorylation)]   \n",
       "3                    [IncreaseAmount(BMP(), PTEN())]   \n",
       "4               [Ubiquitination(Caspase(), PRKCZ())]   \n",
       "\n",
       "                                          comparison  \n",
       "0         [{'error': 'One or both lists are empty'}]  \n",
       "1  [{'equals': False, 'equals_type': True, 'same_...  \n",
       "2  [{'equals': False, 'equals_type': False, 'same...  \n",
       "3  [{'equals': False, 'equals_type': False, 'same...  \n",
       "4  [{'equals': False, 'equals_type': False, 'same...  "
      ]
     },
     "execution_count": 4,
     "metadata": {},
     "output_type": "execute_result"
    }
   ],
   "source": [
    "benchmark_df\n"
   ]
  }
 ],
 "metadata": {
  "kernelspec": {
   "display_name": "indra_gpt",
   "language": "python",
   "name": "python3"
  },
  "language_info": {
   "codemirror_mode": {
    "name": "ipython",
    "version": 3
   },
   "file_extension": ".py",
   "mimetype": "text/x-python",
   "name": "python",
   "nbconvert_exporter": "python",
   "pygments_lexer": "ipython3",
   "version": "3.11.11"
  }
 },
 "nbformat": 4,
 "nbformat_minor": 2
}
