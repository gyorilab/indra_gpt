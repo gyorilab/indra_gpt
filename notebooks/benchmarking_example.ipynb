{
 "cells": [
  {
   "cell_type": "markdown",
   "metadata": {},
   "source": [
    "## This notebook demonstrates benchmarking the statement extraction pipeline by evaluating the LLM generated statements against the benchmark corpus containing correct INDRA statements. "
   ]
  },
  {
   "cell_type": "markdown",
   "metadata": {},
   "source": [
    "Import relevant modules"
   ]
  },
  {
   "cell_type": "code",
   "execution_count": 1,
   "metadata": {},
   "outputs": [
    {
     "name": "stderr",
     "output_type": "stream",
     "text": [
      "INFO: [2025-02-14 12:16:17] indra.preassembler.grounding_mapper.disambiguate - INDRA DB is not available for text content retrieval for grounding disambiguation.\n",
      "/Users/thomaslim/miniconda3/envs/indra_gpt/lib/python3.11/site-packages/tqdm/auto.py:21: TqdmWarning: IProgress not found. Please update jupyter and ipywidgets. See https://ipywidgets.readthedocs.io/en/stable/user_install.html\n",
      "  from .autonotebook import tqdm as notebook_tqdm\n"
     ]
    }
   ],
   "source": [
    "import sys\n",
    "from pathlib import Path\n",
    "# get current path\n",
    "sys.path.append(str(Path.cwd().parent))\n",
    "\n",
    "from indra_gpt.benchmarks.benchmark import Benchmark\n",
    "from indra_gpt.resources.constants import INPUT_DEFAULT\n"
   ]
  },
  {
   "cell_type": "markdown",
   "metadata": {},
   "source": [
    "Let's evaluate the performance of OpenAI model 'gpt-4o-mini', with structured_output mode enabled, and for a sample of 10 examples from the benchmark corpus. "
   ]
  },
  {
   "cell_type": "code",
   "execution_count": 2,
   "metadata": {},
   "outputs": [],
   "source": [
    "model = 'gpt-4o-mini'\n",
    "benchmark_file = INPUT_DEFAULT\n",
    "structured_output = True\n",
    "n_statements = 10\n",
    "benchmark = Benchmark(model, benchmark_file, structured_output, n_statements)\n"
   ]
  },
  {
   "cell_type": "code",
   "execution_count": 3,
   "metadata": {},
   "outputs": [
    {
     "name": "stderr",
     "output_type": "stream",
     "text": [
      "Extracting:   0%|          | 0/10 [00:00<?, ?statement/s]INFO: [2025-02-14 12:16:23] httpx - HTTP Request: POST https://api.openai.com/v1/chat/completions \"HTTP/1.1 200 OK\"\n",
      "INFO: [2025-02-14 12:16:26] httpx - HTTP Request: POST https://api.openai.com/v1/chat/completions \"HTTP/1.1 200 OK\"\n",
      "INFO: [2025-02-14 12:16:29] httpx - HTTP Request: POST https://api.openai.com/v1/chat/completions \"HTTP/1.1 200 OK\"\n",
      "Extracting:  10%|█         | 1/10 [00:11<01:42, 11.41s/statement]INFO: [2025-02-14 12:16:34] httpx - HTTP Request: POST https://api.openai.com/v1/chat/completions \"HTTP/1.1 200 OK\"\n",
      "INFO: [2025-02-14 12:16:39] httpx - HTTP Request: POST https://api.openai.com/v1/chat/completions \"HTTP/1.1 200 OK\"\n",
      "INFO: [2025-02-14 12:16:42] httpx - HTTP Request: POST https://api.openai.com/v1/chat/completions \"HTTP/1.1 200 OK\"\n",
      "Extracting:  20%|██        | 2/10 [00:23<01:36, 12.09s/statement]INFO: [2025-02-14 12:16:46] httpx - HTTP Request: POST https://api.openai.com/v1/chat/completions \"HTTP/1.1 200 OK\"\n",
      "INFO: [2025-02-14 12:16:53] httpx - HTTP Request: POST https://api.openai.com/v1/chat/completions \"HTTP/1.1 200 OK\"\n",
      "INFO: [2025-02-14 12:17:01] httpx - HTTP Request: POST https://api.openai.com/v1/chat/completions \"HTTP/1.1 200 OK\"\n",
      "Extracting:  30%|███       | 3/10 [00:43<01:48, 15.44s/statement]INFO: [2025-02-14 12:17:04] httpx - HTTP Request: POST https://api.openai.com/v1/chat/completions \"HTTP/1.1 200 OK\"\n",
      "INFO: [2025-02-14 12:17:07] httpx - HTTP Request: POST https://api.openai.com/v1/chat/completions \"HTTP/1.1 200 OK\"\n",
      "INFO: [2025-02-14 12:17:10] httpx - HTTP Request: POST https://api.openai.com/v1/chat/completions \"HTTP/1.1 200 OK\"\n",
      "Extracting:  40%|████      | 4/10 [00:52<01:16, 12.78s/statement]INFO: [2025-02-14 12:17:13] httpx - HTTP Request: POST https://api.openai.com/v1/chat/completions \"HTTP/1.1 200 OK\"\n",
      "INFO: [2025-02-14 12:17:16] httpx - HTTP Request: POST https://api.openai.com/v1/chat/completions \"HTTP/1.1 200 OK\"\n",
      "INFO: [2025-02-14 12:17:19] httpx - HTTP Request: POST https://api.openai.com/v1/chat/completions \"HTTP/1.1 200 OK\"\n",
      "Extracting:  50%|█████     | 5/10 [01:01<00:57, 11.44s/statement]INFO: [2025-02-14 12:17:22] httpx - HTTP Request: POST https://api.openai.com/v1/chat/completions \"HTTP/1.1 200 OK\"\n",
      "INFO: [2025-02-14 12:17:26] httpx - HTTP Request: POST https://api.openai.com/v1/chat/completions \"HTTP/1.1 200 OK\"\n",
      "INFO: [2025-02-14 12:17:30] httpx - HTTP Request: POST https://api.openai.com/v1/chat/completions \"HTTP/1.1 200 OK\"\n",
      "Extracting:  60%|██████    | 6/10 [01:11<00:44, 11.20s/statement]INFO: [2025-02-14 12:17:43] httpx - HTTP Request: POST https://api.openai.com/v1/chat/completions \"HTTP/1.1 200 OK\"\n",
      "INFO: [2025-02-14 12:17:52] httpx - HTTP Request: POST https://api.openai.com/v1/chat/completions \"HTTP/1.1 200 OK\"\n",
      "INFO: [2025-02-14 12:18:05] httpx - HTTP Request: POST https://api.openai.com/v1/chat/completions \"HTTP/1.1 200 OK\"\n",
      "Extracting:  70%|███████   | 7/10 [01:47<00:57, 19.28s/statement]INFO: [2025-02-14 12:18:10] httpx - HTTP Request: POST https://api.openai.com/v1/chat/completions \"HTTP/1.1 200 OK\"\n",
      "INFO: [2025-02-14 12:18:15] httpx - HTTP Request: POST https://api.openai.com/v1/chat/completions \"HTTP/1.1 200 OK\"\n",
      "INFO: [2025-02-14 12:18:19] httpx - HTTP Request: POST https://api.openai.com/v1/chat/completions \"HTTP/1.1 200 OK\"\n",
      "Extracting:  80%|████████  | 8/10 [02:01<00:35, 17.57s/statement]INFO: [2025-02-14 12:18:27] httpx - HTTP Request: POST https://api.openai.com/v1/chat/completions \"HTTP/1.1 200 OK\"\n",
      "INFO: [2025-02-14 12:18:38] httpx - HTTP Request: POST https://api.openai.com/v1/chat/completions \"HTTP/1.1 200 OK\"\n",
      "INFO: [2025-02-14 12:18:46] httpx - HTTP Request: POST https://api.openai.com/v1/chat/completions \"HTTP/1.1 200 OK\"\n",
      "Extracting:  90%|█████████ | 9/10 [02:27<00:20, 20.28s/statement]INFO: [2025-02-14 12:18:52] httpx - HTTP Request: POST https://api.openai.com/v1/chat/completions \"HTTP/1.1 200 OK\"\n",
      "INFO: [2025-02-14 12:18:56] httpx - HTTP Request: POST https://api.openai.com/v1/chat/completions \"HTTP/1.1 200 OK\"\n",
      "INFO: [2025-02-14 12:19:03] httpx - HTTP Request: POST https://api.openai.com/v1/chat/completions \"HTTP/1.1 200 OK\"\n",
      "Extracting: 100%|██████████| 10/10 [02:45<00:00, 16.52s/statement]\n",
      "WARNING: [2025-02-14 12:19:03] indra.statements.statements - Invalid activity type: proliferation\n",
      "WARNING: [2025-02-14 12:19:03] indra.statements.statements - Invalid activity type: Phosphorylation\n",
      "WARNING: [2025-02-14 12:19:03] indra.statements.io - Error creating statement: Invalid residue name: 'None'\n",
      "ERROR: [2025-02-14 12:19:03] indra_gpt.clients.openai.openai_client - Error extracting statement: list index out of range\n",
      "WARNING: [2025-02-14 12:19:03] indra.statements.statements - Invalid activity type: autoubiquitination\n",
      "WARNING: [2025-02-14 12:19:03] indra.statements.statements - Invalid activity type: signaling\n",
      "WARNING: [2025-02-14 12:19:03] indra.statements.statements - Invalid activity type: activation\n",
      "WARNING: [2025-02-14 12:19:03] indra.statements.statements - Invalid activity type: activation\n",
      "WARNING: [2025-02-14 12:19:03] indra.statements.statements - Invalid activity type: expression\n",
      "WARNING: [2025-02-14 12:19:03] indra.statements.statements - Invalid activity type: increased\n",
      "WARNING: [2025-02-14 12:19:03] indra.statements.statements - Invalid activity type: signaling\n",
      "WARNING: [2025-02-14 12:19:03] indra.statements.statements - Invalid activity type: signaling\n",
      "INFO: [2025-02-14 12:19:03] indra_gpt.clients.openai.openai_client - Results saved to /Users/thomaslim/gyorilab/indra_gpt/output/statement_json_extraction_results.tsv\n",
      "WARNING: [2025-02-14 12:19:03] indra.statements.statements - Invalid activity type: proliferation\n",
      "WARNING: [2025-02-14 12:19:03] indra.statements.statements - Invalid activity type: Phosphorylation\n",
      "WARNING: [2025-02-14 12:19:03] indra.statements.io - Error creating statement: Invalid residue name: 'None'\n",
      "ERROR: [2025-02-14 12:19:03] indra_gpt.benchmarks.benchmark - Error extracting statement: list index out of range\n",
      "WARNING: [2025-02-14 12:19:03] indra.statements.statements - Invalid activity type: autoubiquitination\n",
      "WARNING: [2025-02-14 12:19:03] indra.statements.statements - Invalid activity type: signaling\n",
      "WARNING: [2025-02-14 12:19:03] indra.statements.statements - Invalid activity type: activation\n",
      "WARNING: [2025-02-14 12:19:03] indra.statements.statements - Invalid activity type: activation\n",
      "WARNING: [2025-02-14 12:19:03] indra.statements.statements - Invalid activity type: expression\n",
      "WARNING: [2025-02-14 12:19:03] indra.statements.statements - Invalid activity type: increased\n",
      "WARNING: [2025-02-14 12:19:03] indra.statements.statements - Invalid activity type: signaling\n",
      "WARNING: [2025-02-14 12:19:03] indra.statements.statements - Invalid activity type: signaling\n",
      "INFO: [2025-02-14 12:19:04] indra.ontology.bio.ontology - Loading INDRA bio ontology from cache at /Users/thomaslim/.indra/bio_ontology/1.34/bio_ontology.pkl\n"
     ]
    }
   ],
   "source": [
    "benchmark_df = benchmark.get_comparison_df()\n"
   ]
  },
  {
   "cell_type": "markdown",
   "metadata": {},
   "source": [
    "This generates a dataframe that has input and generated output, along with the comparison results.\n",
    "Columns:\n",
    "- <b>'original_statement_json'</b>: The original statement in json format, from the benchmark corpus. \n",
    "- <b>'generated_statements_json'</b>: The generated statements in json format, given the input text from the 'evidence' of the original statement.\n",
    "- <b>'original_statement'</b>: The original statement converted from json format to indra statement. \n",
    "- <b>'generated_statements'</b>: The generated statements converted from json format to indra statement.\n",
    "- <b>'original_statement_grounded'</b>: Grounding process applied to 'original_statement'.\n",
    "- <b>'generated_statements_grounded'</b>: Grounding process applied to 'generated_statements'.\n",
    "- <b>'comparison_result'</b>: Result of comparing 'original_statement' with each of the generated statement from 'generated_statements'.\n",
    "- <b>'comparison_result_grounded'</b>: Same as 'comparison_result' but for 'original_statement_grounded' and 'generated_statements_grounded'.\n",
    "- <b>'best_match_index'</b>: This is the list index of the 'generated_statements', corresponding to the statement that is most similar with the original statement. \n",
    "- <b>'best_match_grounded_index'</b>: Same as 'best_match_index' but for 'generated_statements_grounded'"
   ]
  },
  {
   "cell_type": "code",
   "execution_count": 4,
   "metadata": {},
   "outputs": [
    {
     "data": {
      "text/html": [
       "<div>\n",
       "<style scoped>\n",
       "    .dataframe tbody tr th:only-of-type {\n",
       "        vertical-align: middle;\n",
       "    }\n",
       "\n",
       "    .dataframe tbody tr th {\n",
       "        vertical-align: top;\n",
       "    }\n",
       "\n",
       "    .dataframe thead th {\n",
       "        text-align: right;\n",
       "    }\n",
       "</style>\n",
       "<table border=\"1\" class=\"dataframe\">\n",
       "  <thead>\n",
       "    <tr style=\"text-align: right;\">\n",
       "      <th></th>\n",
       "      <th>original_statement_json</th>\n",
       "      <th>generated_statements_json</th>\n",
       "      <th>original_statement</th>\n",
       "      <th>generated_statements</th>\n",
       "      <th>original_statement_grounded</th>\n",
       "      <th>generated_statements_grounded</th>\n",
       "      <th>comparison_result</th>\n",
       "      <th>comparison_result_grounded</th>\n",
       "      <th>best_match_index</th>\n",
       "      <th>best_match_grounded_index</th>\n",
       "    </tr>\n",
       "  </thead>\n",
       "  <tbody>\n",
       "    <tr>\n",
       "      <th>0</th>\n",
       "      <td>{'type': 'Acetylation', 'enz': {'name': 'C5', ...</td>\n",
       "      <td>{\"statements\":[{\"kind\":\"RegulateActivity\",\"typ...</td>\n",
       "      <td>[Acetylation(C5(), STAT3())]</td>\n",
       "      <td>[Activation(C5a(), STAT3(mods: (acetylation, K...</td>\n",
       "      <td>[Acetylation(C5(), STAT3())]</td>\n",
       "      <td>[Activation(C5(), STAT3(mods: (acetylation, K,...</td>\n",
       "      <td>[{'equals': False, 'equals_type': False, 'agen...</td>\n",
       "      <td>[{'equals': False, 'equals_type': False, 'agen...</td>\n",
       "      <td>0</td>\n",
       "      <td>0</td>\n",
       "    </tr>\n",
       "    <tr>\n",
       "      <th>1</th>\n",
       "      <td>{'type': 'Acetylation', 'enz': {'name': 'KANSL...</td>\n",
       "      <td>{\"statements\":[{\"kind\":\"Modification\",\"type\":\"...</td>\n",
       "      <td>[Acetylation(KANSL1(), TP53(), K, 120)]</td>\n",
       "      <td>[Acetylation(MOF(), p53(mods: (acetylation, K,...</td>\n",
       "      <td>[Acetylation(KANSL1(), TP53(), K, 120)]</td>\n",
       "      <td>[Acetylation(MOF(), p53(mods: (acetylation, K,...</td>\n",
       "      <td>[{'equals': False, 'equals_type': True, 'agent...</td>\n",
       "      <td>[{'equals': False, 'equals_type': True, 'agent...</td>\n",
       "      <td>0</td>\n",
       "      <td>0</td>\n",
       "    </tr>\n",
       "    <tr>\n",
       "      <th>2</th>\n",
       "      <td>{'type': 'Acetylation', 'enz': {'name': 'EP300...</td>\n",
       "      <td>{\"statements\":[{\"kind\":\"RegulateActivity\",\"typ...</td>\n",
       "      <td>[Acetylation(EP300(), TP73())]</td>\n",
       "      <td>Error: list index out of range</td>\n",
       "      <td>[Acetylation(EP300(), TP73())]</td>\n",
       "      <td>Error: list index out of range</td>\n",
       "      <td>[{'error': 'One or both lists are empty'}]</td>\n",
       "      <td>[{'error': 'One or both lists are empty'}]</td>\n",
       "      <td>0</td>\n",
       "      <td>0</td>\n",
       "    </tr>\n",
       "    <tr>\n",
       "      <th>3</th>\n",
       "      <td>{'type': 'Activation', 'subj': {'name': 'BMP',...</td>\n",
       "      <td>{\"statements\":[{\"kind\":\"RegulateAmount\",\"type\"...</td>\n",
       "      <td>[Activation(BMP(), PTEN())]</td>\n",
       "      <td>[IncreaseAmount(None, PTEN())]</td>\n",
       "      <td>[Activation(BMP(), PTEN())]</td>\n",
       "      <td>[IncreaseAmount(None, PTEN())]</td>\n",
       "      <td>[{'equals': False, 'equals_type': False, 'agen...</td>\n",
       "      <td>[{'equals': False, 'equals_type': False, 'agen...</td>\n",
       "      <td>0</td>\n",
       "      <td>0</td>\n",
       "    </tr>\n",
       "    <tr>\n",
       "      <th>4</th>\n",
       "      <td>{'type': 'Activation', 'subj': {'name': 'Caspa...</td>\n",
       "      <td>{\"statements\":[{\"kind\":\"RegulateActivity\",\"typ...</td>\n",
       "      <td>[Activation(Caspase(), PRKCZ())]</td>\n",
       "      <td>[Activation(caspase(), atypical protein kinase...</td>\n",
       "      <td>[Activation(Caspase(), PRKCZ())]</td>\n",
       "      <td>[Activation(Caspase(), atypical protein kinase...</td>\n",
       "      <td>[{'equals': False, 'equals_type': True, 'agent...</td>\n",
       "      <td>[{'equals': False, 'equals_type': True, 'agent...</td>\n",
       "      <td>0</td>\n",
       "      <td>0</td>\n",
       "    </tr>\n",
       "  </tbody>\n",
       "</table>\n",
       "</div>"
      ],
      "text/plain": [
       "                             original_statement_json  \\\n",
       "0  {'type': 'Acetylation', 'enz': {'name': 'C5', ...   \n",
       "1  {'type': 'Acetylation', 'enz': {'name': 'KANSL...   \n",
       "2  {'type': 'Acetylation', 'enz': {'name': 'EP300...   \n",
       "3  {'type': 'Activation', 'subj': {'name': 'BMP',...   \n",
       "4  {'type': 'Activation', 'subj': {'name': 'Caspa...   \n",
       "\n",
       "                           generated_statements_json  \\\n",
       "0  {\"statements\":[{\"kind\":\"RegulateActivity\",\"typ...   \n",
       "1  {\"statements\":[{\"kind\":\"Modification\",\"type\":\"...   \n",
       "2  {\"statements\":[{\"kind\":\"RegulateActivity\",\"typ...   \n",
       "3  {\"statements\":[{\"kind\":\"RegulateAmount\",\"type\"...   \n",
       "4  {\"statements\":[{\"kind\":\"RegulateActivity\",\"typ...   \n",
       "\n",
       "                        original_statement  \\\n",
       "0             [Acetylation(C5(), STAT3())]   \n",
       "1  [Acetylation(KANSL1(), TP53(), K, 120)]   \n",
       "2           [Acetylation(EP300(), TP73())]   \n",
       "3              [Activation(BMP(), PTEN())]   \n",
       "4         [Activation(Caspase(), PRKCZ())]   \n",
       "\n",
       "                                generated_statements  \\\n",
       "0  [Activation(C5a(), STAT3(mods: (acetylation, K...   \n",
       "1  [Acetylation(MOF(), p53(mods: (acetylation, K,...   \n",
       "2                     Error: list index out of range   \n",
       "3                     [IncreaseAmount(None, PTEN())]   \n",
       "4  [Activation(caspase(), atypical protein kinase...   \n",
       "\n",
       "               original_statement_grounded  \\\n",
       "0             [Acetylation(C5(), STAT3())]   \n",
       "1  [Acetylation(KANSL1(), TP53(), K, 120)]   \n",
       "2           [Acetylation(EP300(), TP73())]   \n",
       "3              [Activation(BMP(), PTEN())]   \n",
       "4         [Activation(Caspase(), PRKCZ())]   \n",
       "\n",
       "                       generated_statements_grounded  \\\n",
       "0  [Activation(C5(), STAT3(mods: (acetylation, K,...   \n",
       "1  [Acetylation(MOF(), p53(mods: (acetylation, K,...   \n",
       "2                     Error: list index out of range   \n",
       "3                     [IncreaseAmount(None, PTEN())]   \n",
       "4  [Activation(Caspase(), atypical protein kinase...   \n",
       "\n",
       "                                   comparison_result  \\\n",
       "0  [{'equals': False, 'equals_type': False, 'agen...   \n",
       "1  [{'equals': False, 'equals_type': True, 'agent...   \n",
       "2         [{'error': 'One or both lists are empty'}]   \n",
       "3  [{'equals': False, 'equals_type': False, 'agen...   \n",
       "4  [{'equals': False, 'equals_type': True, 'agent...   \n",
       "\n",
       "                          comparison_result_grounded  best_match_index  \\\n",
       "0  [{'equals': False, 'equals_type': False, 'agen...                 0   \n",
       "1  [{'equals': False, 'equals_type': True, 'agent...                 0   \n",
       "2         [{'error': 'One or both lists are empty'}]                 0   \n",
       "3  [{'equals': False, 'equals_type': False, 'agen...                 0   \n",
       "4  [{'equals': False, 'equals_type': True, 'agent...                 0   \n",
       "\n",
       "   best_match_grounded_index  \n",
       "0                          0  \n",
       "1                          0  \n",
       "2                          0  \n",
       "3                          0  \n",
       "4                          0  "
      ]
     },
     "execution_count": 4,
     "metadata": {},
     "output_type": "execute_result"
    }
   ],
   "source": [
    "benchmark_df.head()\n"
   ]
  },
  {
   "cell_type": "markdown",
   "metadata": {},
   "source": [
    "## Evaluate the accuracy of the model  "
   ]
  },
  {
   "cell_type": "markdown",
   "metadata": {},
   "source": [
    "The `benchmark_df` above shows a comprehensive input and output and comparison results for a specified configuration. \n",
    "The performance of the model is measured by in terms of three built-in equivalence methods\n",
    "from `indra` which asks the three questions: \n",
    "\n",
    "1) Are the two statements are equal?\n",
    "2) Do the two statements have the same type?\n",
    "3) Do the two statements have the same set of agents?\n",
    "\n",
    "Since the model can extract multiple statements from given input text, we compare the benchmark example with the \"best\" \n",
    "match from the generated set of statements. <br>\n",
    "E.g. \n",
    "- Original statement:  `Activation(BMP(), PTEN())`\n",
    "- Generated statements: `[Activation(Caspase(), PTEN()), Acetylation(BMP(), PTEN())]` <br><br>\n",
    "The algorithm prioritizes as follows: statement match > type match > agent set match\n",
    "<br>So for the above example, `Activation(Caspase(), PTEN())` will be selected over `Acetylation(BMP(), PTEN())` since the types match."
   ]
  },
  {
   "cell_type": "code",
   "execution_count": 5,
   "metadata": {},
   "outputs": [
    {
     "data": {
      "text/plain": [
       "{'config': {'model': 'gpt-4o-mini',\n",
       "  'benchmark_file': PosixPath('/Users/thomaslim/gyorilab/indra_gpt/indra_gpt/resources/indra_benchmark_corpus_all_correct.json'),\n",
       "  'structured_output': True,\n",
       "  'n_statements': 10},\n",
       " 'equals_accuracy': 0.0,\n",
       " 'equals_type_accuracy': 0.6,\n",
       " 'agents_equal_accuracy': 0.1}"
      ]
     },
     "execution_count": 5,
     "metadata": {},
     "output_type": "execute_result"
    }
   ],
   "source": [
    "benchmark.compute_comparison_statistics(benchmark_df)\n"
   ]
  },
  {
   "cell_type": "markdown",
   "metadata": {},
   "source": [
    "* It is very unlikely for 'equals_accuracy' to be a non-zero value, since the two statements are only equal if\n",
    "types, agent set, and evidence are all equal. "
   ]
  },
  {
   "cell_type": "markdown",
   "metadata": {},
   "source": [
    "Benchmark another configuration, this time, 'gpt-4o-mini' but without structured_output mode enabled."
   ]
  },
  {
   "cell_type": "code",
   "execution_count": 15,
   "metadata": {},
   "outputs": [
    {
     "name": "stderr",
     "output_type": "stream",
     "text": [
      "Extracting:   0%|          | 0/10 [00:00<?, ?statement/s]INFO: [2025-02-14 12:28:28] httpx - HTTP Request: POST https://api.openai.com/v1/chat/completions \"HTTP/1.1 200 OK\"\n",
      "INFO: [2025-02-14 12:28:35] httpx - HTTP Request: POST https://api.openai.com/v1/chat/completions \"HTTP/1.1 200 OK\"\n",
      "INFO: [2025-02-14 12:28:40] httpx - HTTP Request: POST https://api.openai.com/v1/chat/completions \"HTTP/1.1 200 OK\"\n",
      "Extracting:  10%|█         | 1/10 [00:31<04:46, 31.84s/statement]INFO: [2025-02-14 12:28:47] httpx - HTTP Request: POST https://api.openai.com/v1/chat/completions \"HTTP/1.1 200 OK\"\n",
      "INFO: [2025-02-14 12:28:53] httpx - HTTP Request: POST https://api.openai.com/v1/chat/completions \"HTTP/1.1 200 OK\"\n",
      "INFO: [2025-02-14 12:29:00] httpx - HTTP Request: POST https://api.openai.com/v1/chat/completions \"HTTP/1.1 200 OK\"\n",
      "Extracting:  20%|██        | 2/10 [00:51<03:19, 24.92s/statement]INFO: [2025-02-14 12:29:07] httpx - HTTP Request: POST https://api.openai.com/v1/chat/completions \"HTTP/1.1 200 OK\"\n",
      "INFO: [2025-02-14 12:29:12] httpx - HTTP Request: POST https://api.openai.com/v1/chat/completions \"HTTP/1.1 200 OK\"\n",
      "INFO: [2025-02-14 12:29:18] httpx - HTTP Request: POST https://api.openai.com/v1/chat/completions \"HTTP/1.1 200 OK\"\n",
      "Extracting:  30%|███       | 3/10 [01:09<02:30, 21.51s/statement]INFO: [2025-02-14 12:29:22] httpx - HTTP Request: POST https://api.openai.com/v1/chat/completions \"HTTP/1.1 200 OK\"\n",
      "INFO: [2025-02-14 12:29:26] httpx - HTTP Request: POST https://api.openai.com/v1/chat/completions \"HTTP/1.1 200 OK\"\n",
      "INFO: [2025-02-14 12:29:31] httpx - HTTP Request: POST https://api.openai.com/v1/chat/completions \"HTTP/1.1 200 OK\"\n",
      "Extracting:  40%|████      | 4/10 [01:22<01:49, 18.22s/statement]INFO: [2025-02-14 12:29:45] httpx - HTTP Request: POST https://api.openai.com/v1/chat/completions \"HTTP/1.1 200 OK\"\n",
      "INFO: [2025-02-14 12:29:54] httpx - HTTP Request: POST https://api.openai.com/v1/chat/completions \"HTTP/1.1 200 OK\"\n",
      "INFO: [2025-02-14 12:30:02] httpx - HTTP Request: POST https://api.openai.com/v1/chat/completions \"HTTP/1.1 200 OK\"\n",
      "Extracting:  50%|█████     | 5/10 [01:54<01:55, 23.03s/statement]INFO: [2025-02-14 12:30:09] httpx - HTTP Request: POST https://api.openai.com/v1/chat/completions \"HTTP/1.1 200 OK\"\n",
      "INFO: [2025-02-14 12:30:20] httpx - HTTP Request: POST https://api.openai.com/v1/chat/completions \"HTTP/1.1 200 OK\"\n",
      "INFO: [2025-02-14 12:30:26] httpx - HTTP Request: POST https://api.openai.com/v1/chat/completions \"HTTP/1.1 200 OK\"\n",
      "Extracting:  60%|██████    | 6/10 [02:18<01:33, 23.43s/statement]INFO: [2025-02-14 12:30:42] httpx - HTTP Request: POST https://api.openai.com/v1/chat/completions \"HTTP/1.1 200 OK\"\n",
      "INFO: [2025-02-14 12:30:50] httpx - HTTP Request: POST https://api.openai.com/v1/chat/completions \"HTTP/1.1 200 OK\"\n",
      "INFO: [2025-02-14 12:30:59] httpx - HTTP Request: POST https://api.openai.com/v1/chat/completions \"HTTP/1.1 200 OK\"\n",
      "Extracting:  70%|███████   | 7/10 [02:50<01:18, 26.33s/statement]INFO: [2025-02-14 12:31:04] httpx - HTTP Request: POST https://api.openai.com/v1/chat/completions \"HTTP/1.1 200 OK\"\n",
      "INFO: [2025-02-14 12:31:08] httpx - HTTP Request: POST https://api.openai.com/v1/chat/completions \"HTTP/1.1 200 OK\"\n",
      "INFO: [2025-02-14 12:31:11] httpx - HTTP Request: POST https://api.openai.com/v1/chat/completions \"HTTP/1.1 200 OK\"\n",
      "Extracting:  80%|████████  | 8/10 [03:03<00:43, 21.99s/statement]INFO: [2025-02-14 12:31:18] httpx - HTTP Request: POST https://api.openai.com/v1/chat/completions \"HTTP/1.1 200 OK\"\n",
      "INFO: [2025-02-14 12:31:26] httpx - HTTP Request: POST https://api.openai.com/v1/chat/completions \"HTTP/1.1 200 OK\"\n",
      "INFO: [2025-02-14 12:31:31] httpx - HTTP Request: POST https://api.openai.com/v1/chat/completions \"HTTP/1.1 200 OK\"\n",
      "Extracting:  90%|█████████ | 9/10 [03:22<00:21, 21.13s/statement]INFO: [2025-02-14 12:31:38] httpx - HTTP Request: POST https://api.openai.com/v1/chat/completions \"HTTP/1.1 200 OK\"\n",
      "INFO: [2025-02-14 12:31:43] httpx - HTTP Request: POST https://api.openai.com/v1/chat/completions \"HTTP/1.1 200 OK\"\n",
      "INFO: [2025-02-14 12:31:47] httpx - HTTP Request: POST https://api.openai.com/v1/chat/completions \"HTTP/1.1 200 OK\"\n",
      "Extracting: 100%|██████████| 10/10 [03:39<00:00, 21.93s/statement]\n",
      "ERROR: [2025-02-14 12:31:47] indra_gpt.clients.openai.openai_client - Error extracting statement: Expecting ',' delimiter: line 1 column 710 (char 709)\n",
      "WARNING: [2025-02-14 12:31:47] indra.statements.statements - Invalid activity type: acetylation\n",
      "ERROR: [2025-02-14 12:31:47] indra_gpt.clients.openai.openai_client - Error extracting statement: Expecting ',' delimiter: line 1 column 712 (char 711)\n",
      "WARNING: [2025-02-14 12:31:47] indra.statements.io - Error creating statement: RegulateActivity.__init__() takes 1 positional argument but 4 were given\n",
      "ERROR: [2025-02-14 12:31:47] indra_gpt.clients.openai.openai_client - Error extracting statement: list index out of range\n",
      "ERROR: [2025-02-14 12:31:47] indra_gpt.clients.openai.openai_client - Error extracting statement: Expecting ',' delimiter: line 1 column 576 (char 575)\n",
      "INFO: [2025-02-14 12:31:47] indra_gpt.clients.openai.openai_client - Results saved to /Users/thomaslim/gyorilab/indra_gpt/output/statement_json_extraction_results.tsv\n",
      "ERROR: [2025-02-14 12:31:47] indra_gpt.benchmarks.benchmark - Error extracting statement: Expecting ',' delimiter: line 1 column 710 (char 709)\n",
      "WARNING: [2025-02-14 12:31:47] indra.statements.statements - Invalid activity type: acetylation\n",
      "ERROR: [2025-02-14 12:31:47] indra_gpt.benchmarks.benchmark - Error extracting statement: Expecting ',' delimiter: line 1 column 712 (char 711)\n",
      "WARNING: [2025-02-14 12:31:47] indra.statements.io - Error creating statement: RegulateActivity.__init__() takes 1 positional argument but 4 were given\n",
      "ERROR: [2025-02-14 12:31:47] indra_gpt.benchmarks.benchmark - Error extracting statement: list index out of range\n",
      "ERROR: [2025-02-14 12:31:47] indra_gpt.benchmarks.benchmark - Error extracting statement: Expecting ',' delimiter: line 1 column 576 (char 575)\n"
     ]
    },
    {
     "data": {
      "text/plain": [
       "{'config': {'model': 'gpt-4o-mini',\n",
       "  'benchmark_file': PosixPath('/Users/thomaslim/gyorilab/indra_gpt/indra_gpt/resources/indra_benchmark_corpus_all_correct.json'),\n",
       "  'structured_output': False,\n",
       "  'n_statements': 10},\n",
       " 'equals_accuracy': 0.0,\n",
       " 'equals_type_accuracy': 0.2,\n",
       " 'agents_equal_accuracy': 0.1}"
      ]
     },
     "execution_count": 15,
     "metadata": {},
     "output_type": "execute_result"
    }
   ],
   "source": [
    "model = 'gpt-4o-mini'\n",
    "benchmark_file = INPUT_DEFAULT\n",
    "structured_output = False\n",
    "n_statements = 10\n",
    "benchmark = Benchmark(model, benchmark_file, structured_output, n_statements)\n",
    "benchmark_df = benchmark.get_comparison_df()\n",
    "benchmark.compute_comparison_statistics(benchmark_df)\n"
   ]
  }
 ],
 "metadata": {
  "kernelspec": {
   "display_name": "indra_gpt",
   "language": "python",
   "name": "python3"
  },
  "language_info": {
   "codemirror_mode": {
    "name": "ipython",
    "version": 3
   },
   "file_extension": ".py",
   "mimetype": "text/x-python",
   "name": "python",
   "nbconvert_exporter": "python",
   "pygments_lexer": "ipython3",
   "version": "3.11.11"
  }
 },
 "nbformat": 4,
 "nbformat_minor": 2
}
