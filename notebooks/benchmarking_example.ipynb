{
 "cells": [
  {
   "cell_type": "code",
   "execution_count": 1,
   "metadata": {},
   "outputs": [
    {
     "name": "stderr",
     "output_type": "stream",
     "text": [
      "INFO: [2025-02-12 17:46:14] indra.preassembler.grounding_mapper.disambiguate - INDRA DB is not available for text content retrieval for grounding disambiguation.\n",
      "/Users/thomaslim/miniconda3/envs/indra_gpt/lib/python3.11/site-packages/tqdm/auto.py:21: TqdmWarning: IProgress not found. Please update jupyter and ipywidgets. See https://ipywidgets.readthedocs.io/en/stable/user_install.html\n",
      "  from .autonotebook import tqdm as notebook_tqdm\n"
     ]
    }
   ],
   "source": [
    "import sys\n",
    "from pathlib import Path\n",
    "# get current path\n",
    "sys.path.append(str(Path.cwd().parent))\n",
    "\n",
    "from indra_gpt.benchmarks.benchmark import Benchmark\n",
    "from indra_gpt.resources.constants import INPUT_DEFAULT\n"
   ]
  },
  {
   "cell_type": "code",
   "execution_count": 2,
   "metadata": {},
   "outputs": [],
   "source": [
    "model = 'gpt-4o-mini'\n",
    "benchmark_file = INPUT_DEFAULT\n",
    "structured_output = False\n",
    "n_statements = 5\n",
    "benchmark = Benchmark(model, benchmark_file, structured_output, n_statements)\n"
   ]
  },
  {
   "cell_type": "code",
   "execution_count": 3,
   "metadata": {},
   "outputs": [
    {
     "name": "stderr",
     "output_type": "stream",
     "text": [
      "Extracting:   0%|          | 0/5 [00:00<?, ?statement/s]INFO: [2025-02-12 17:46:21] httpx - HTTP Request: POST https://api.openai.com/v1/chat/completions \"HTTP/1.1 200 OK\"\n",
      "INFO: [2025-02-12 17:46:26] httpx - HTTP Request: POST https://api.openai.com/v1/chat/completions \"HTTP/1.1 200 OK\"\n",
      "INFO: [2025-02-12 17:46:31] httpx - HTTP Request: POST https://api.openai.com/v1/chat/completions \"HTTP/1.1 200 OK\"\n",
      "Extracting:  20%|██        | 1/5 [00:14<00:58, 14.62s/statement]INFO: [2025-02-12 17:46:36] httpx - HTTP Request: POST https://api.openai.com/v1/chat/completions \"HTTP/1.1 200 OK\"\n",
      "INFO: [2025-02-12 17:48:11] httpx - HTTP Request: POST https://api.openai.com/v1/chat/completions \"HTTP/1.1 200 OK\"\n",
      "INFO: [2025-02-12 17:48:23] httpx - HTTP Request: POST https://api.openai.com/v1/chat/completions \"HTTP/1.1 200 OK\"\n",
      "Extracting:  40%|████      | 2/5 [02:06<03:35, 71.72s/statement]INFO: [2025-02-12 17:48:30] httpx - HTTP Request: POST https://api.openai.com/v1/chat/completions \"HTTP/1.1 200 OK\"\n",
      "INFO: [2025-02-12 17:48:40] httpx - HTTP Request: POST https://api.openai.com/v1/chat/completions \"HTTP/1.1 200 OK\"\n",
      "INFO: [2025-02-12 17:48:48] httpx - HTTP Request: POST https://api.openai.com/v1/chat/completions \"HTTP/1.1 200 OK\"\n",
      "Extracting:  60%|██████    | 3/5 [02:31<01:40, 50.42s/statement]INFO: [2025-02-12 17:48:56] httpx - HTTP Request: POST https://api.openai.com/v1/chat/completions \"HTTP/1.1 200 OK\"\n",
      "INFO: [2025-02-12 17:49:03] httpx - HTTP Request: POST https://api.openai.com/v1/chat/completions \"HTTP/1.1 200 OK\"\n",
      "INFO: [2025-02-12 17:49:13] httpx - HTTP Request: POST https://api.openai.com/v1/chat/completions \"HTTP/1.1 200 OK\"\n",
      "Extracting:  80%|████████  | 4/5 [02:56<00:40, 40.60s/statement]INFO: [2025-02-12 17:49:18] httpx - HTTP Request: POST https://api.openai.com/v1/chat/completions \"HTTP/1.1 200 OK\"\n",
      "INFO: [2025-02-12 17:49:30] httpx - HTTP Request: POST https://api.openai.com/v1/chat/completions \"HTTP/1.1 200 OK\"\n",
      "INFO: [2025-02-12 17:49:46] httpx - HTTP Request: POST https://api.openai.com/v1/chat/completions \"HTTP/1.1 200 OK\"\n",
      "Extracting: 100%|██████████| 5/5 [03:29<00:00, 41.96s/statement]\n",
      "WARNING: [2025-02-12 17:49:46] indra.statements.statements - Invalid activity type: proliferation\n",
      "ERROR: [2025-02-12 17:49:46] indra_gpt.clients.openai.openai_client - Error extracting statement: Expecting ',' delimiter: line 1 column 688 (char 687)\n",
      "INFO: [2025-02-12 17:49:46] indra_gpt.clients.openai.openai_client - Results saved to /Users/thomaslim/gyorilab/indra_gpt/output/statement_json_extraction_results.tsv\n",
      "WARNING: [2025-02-12 17:49:46] indra.statements.statements - Invalid activity type: proliferation\n",
      "ERROR: [2025-02-12 17:49:46] indra_gpt.benchmarks.benchmark - Error extracting statement: Expecting ',' delimiter: line 1 column 688 (char 687)\n"
     ]
    },
    {
     "name": "stdout",
     "output_type": "stream",
     "text": [
      "5\n",
      "5\n",
      "5\n",
      "5\n"
     ]
    }
   ],
   "source": [
    "benchmark_df = benchmark.get_benchmark_df()\n"
   ]
  },
  {
   "cell_type": "code",
   "execution_count": 4,
   "metadata": {},
   "outputs": [
    {
     "data": {
      "text/html": [
       "<div>\n",
       "<style scoped>\n",
       "    .dataframe tbody tr th:only-of-type {\n",
       "        vertical-align: middle;\n",
       "    }\n",
       "\n",
       "    .dataframe tbody tr th {\n",
       "        vertical-align: top;\n",
       "    }\n",
       "\n",
       "    .dataframe thead th {\n",
       "        text-align: right;\n",
       "    }\n",
       "</style>\n",
       "<table border=\"1\" class=\"dataframe\">\n",
       "  <thead>\n",
       "    <tr style=\"text-align: right;\">\n",
       "      <th></th>\n",
       "      <th>original_statements_json</th>\n",
       "      <th>generated_statements_json</th>\n",
       "      <th>original_statements</th>\n",
       "      <th>generated_statements</th>\n",
       "      <th>results</th>\n",
       "    </tr>\n",
       "  </thead>\n",
       "  <tbody>\n",
       "    <tr>\n",
       "      <th>0</th>\n",
       "      <td>{'type': 'Acetylation', 'enz': {'name': 'C5', ...</td>\n",
       "      <td>{\"type\": \"Activation\", \"subj\": {\"name\": \"C5a\",...</td>\n",
       "      <td>[Acetylation(C5(), STAT3())]</td>\n",
       "      <td>Activation(C5a(), STAT3(), proliferation)</td>\n",
       "      <td>Error: 'list' object has no attribute 'equals'</td>\n",
       "    </tr>\n",
       "    <tr>\n",
       "      <th>1</th>\n",
       "      <td>{'type': 'Acetylation', 'enz': {'name': 'KANSL...</td>\n",
       "      <td>{\"type\": \"Activation\", \"subj\": {\"name\": \"MOF a...</td>\n",
       "      <td>[Acetylation(KANSL1(), TP53(), K, 120)]</td>\n",
       "      <td>Error: Expecting ',' delimiter: line 1 column ...</td>\n",
       "      <td>Error: 'list' object has no attribute 'equals'</td>\n",
       "    </tr>\n",
       "    <tr>\n",
       "      <th>2</th>\n",
       "      <td>{'type': 'Acetylation', 'enz': {'name': 'EP300...</td>\n",
       "      <td>{\\n  \"type\": \"Acetylation\",\\n  \"enz\": {\\n    \"...</td>\n",
       "      <td>[Acetylation(EP300(), TP73())]</td>\n",
       "      <td>Acetylation(p300(), p73())</td>\n",
       "      <td>Error: 'list' object has no attribute 'equals'</td>\n",
       "    </tr>\n",
       "    <tr>\n",
       "      <th>3</th>\n",
       "      <td>{'type': 'Activation', 'subj': {'name': 'BMP',...</td>\n",
       "      <td>{\"type\": \"IncreaseAmount\", \"subj\": {\"name\": \"B...</td>\n",
       "      <td>[Activation(BMP(), PTEN())]</td>\n",
       "      <td>IncreaseAmount(BMP(), PTEN())</td>\n",
       "      <td>Error: 'list' object has no attribute 'equals'</td>\n",
       "    </tr>\n",
       "    <tr>\n",
       "      <th>4</th>\n",
       "      <td>{'type': 'Activation', 'subj': {'name': 'Caspa...</td>\n",
       "      <td>{\"type\": \"Ubiquitination\", \"enz\": {\"name\": \"Ca...</td>\n",
       "      <td>[Activation(Caspase(), PRKCZ())]</td>\n",
       "      <td>Ubiquitination(Caspase(), PRKCZ())</td>\n",
       "      <td>Error: 'list' object has no attribute 'equals'</td>\n",
       "    </tr>\n",
       "  </tbody>\n",
       "</table>\n",
       "</div>"
      ],
      "text/plain": [
       "                            original_statements_json  \\\n",
       "0  {'type': 'Acetylation', 'enz': {'name': 'C5', ...   \n",
       "1  {'type': 'Acetylation', 'enz': {'name': 'KANSL...   \n",
       "2  {'type': 'Acetylation', 'enz': {'name': 'EP300...   \n",
       "3  {'type': 'Activation', 'subj': {'name': 'BMP',...   \n",
       "4  {'type': 'Activation', 'subj': {'name': 'Caspa...   \n",
       "\n",
       "                           generated_statements_json  \\\n",
       "0  {\"type\": \"Activation\", \"subj\": {\"name\": \"C5a\",...   \n",
       "1  {\"type\": \"Activation\", \"subj\": {\"name\": \"MOF a...   \n",
       "2  {\\n  \"type\": \"Acetylation\",\\n  \"enz\": {\\n    \"...   \n",
       "3  {\"type\": \"IncreaseAmount\", \"subj\": {\"name\": \"B...   \n",
       "4  {\"type\": \"Ubiquitination\", \"enz\": {\"name\": \"Ca...   \n",
       "\n",
       "                       original_statements  \\\n",
       "0             [Acetylation(C5(), STAT3())]   \n",
       "1  [Acetylation(KANSL1(), TP53(), K, 120)]   \n",
       "2           [Acetylation(EP300(), TP73())]   \n",
       "3              [Activation(BMP(), PTEN())]   \n",
       "4         [Activation(Caspase(), PRKCZ())]   \n",
       "\n",
       "                                generated_statements  \\\n",
       "0          Activation(C5a(), STAT3(), proliferation)   \n",
       "1  Error: Expecting ',' delimiter: line 1 column ...   \n",
       "2                         Acetylation(p300(), p73())   \n",
       "3                      IncreaseAmount(BMP(), PTEN())   \n",
       "4                 Ubiquitination(Caspase(), PRKCZ())   \n",
       "\n",
       "                                          results  \n",
       "0  Error: 'list' object has no attribute 'equals'  \n",
       "1  Error: 'list' object has no attribute 'equals'  \n",
       "2  Error: 'list' object has no attribute 'equals'  \n",
       "3  Error: 'list' object has no attribute 'equals'  \n",
       "4  Error: 'list' object has no attribute 'equals'  "
      ]
     },
     "execution_count": 4,
     "metadata": {},
     "output_type": "execute_result"
    }
   ],
   "source": [
    "benchmark_df\n"
   ]
  },
  {
   "cell_type": "code",
   "execution_count": null,
   "metadata": {},
   "outputs": [],
   "source": []
  }
 ],
 "metadata": {
  "kernelspec": {
   "display_name": "indra_gpt",
   "language": "python",
   "name": "python3"
  },
  "language_info": {
   "codemirror_mode": {
    "name": "ipython",
    "version": 3
   },
   "file_extension": ".py",
   "mimetype": "text/x-python",
   "name": "python",
   "nbconvert_exporter": "python",
   "pygments_lexer": "ipython3",
   "version": "3.11.11"
  }
 },
 "nbformat": 4,
 "nbformat_minor": 2
}
