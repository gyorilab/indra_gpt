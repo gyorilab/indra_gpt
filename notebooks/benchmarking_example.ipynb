{
 "cells": [
  {
   "cell_type": "markdown",
   "metadata": {},
   "source": [
    "## This notebook demonstrates benchmarking the statement extraction pipeline by evaluating the LLM generated statements against the benchmark corpus containing correct INDRA statements. "
   ]
  },
  {
   "cell_type": "markdown",
   "metadata": {},
   "source": [
    "Import relevant modules"
   ]
  },
  {
   "cell_type": "code",
   "execution_count": 1,
   "metadata": {},
   "outputs": [
    {
     "name": "stderr",
     "output_type": "stream",
     "text": [
      "INFO: [2025-02-27 19:36:07] indra.preassembler.grounding_mapper.disambiguate - INDRA DB is not available for text content retrieval for grounding disambiguation.\n",
      "/Users/thomaslim/miniconda3/envs/indra_gpt/lib/python3.11/site-packages/tqdm/auto.py:21: TqdmWarning: IProgress not found. Please update jupyter and ipywidgets. See https://ipywidgets.readthedocs.io/en/stable/user_install.html\n",
      "  from .autonotebook import tqdm as notebook_tqdm\n"
     ]
    }
   ],
   "source": [
    "import sys\n",
    "from pathlib import Path\n",
    "# get current path\n",
    "sys.path.append(str(Path.cwd().parent))\n",
    "\n",
    "from indra_gpt.benchmarks.benchmark import Benchmark\n",
    "from indra_gpt.resources.constants import INPUT_DEFAULT\n",
    "import json\n",
    "import pickle\n",
    "from indra.statements.io import stmts_from_json, stmt_from_json\n"
   ]
  },
  {
   "cell_type": "markdown",
   "metadata": {},
   "source": [
    "Let's evaluate the performance of OpenAI model 'gpt-4o-mini', with structured_output mode enabled, and for a sample of 10 examples from the benchmark corpus. "
   ]
  },
  {
   "cell_type": "code",
   "execution_count": null,
   "metadata": {},
   "outputs": [],
   "source": [
    "model = 'gpt-4o-mini'\n",
    "benchmark_file = INPUT_DEFAULT\n",
    "structured_output = True\n",
    "n_statements = 10\n",
    "random_sample = False\n",
    "benchmark = Benchmark(model, benchmark_file, structured_output, n_statements, random_sample)\n"
   ]
  },
  {
   "cell_type": "code",
   "execution_count": 3,
   "metadata": {},
   "outputs": [
    {
     "name": "stderr",
     "output_type": "stream",
     "text": [
      "Extracting:   0%|          | 0/5 [00:00<?, ?statement/s]INFO: [2025-02-27 19:36:34] httpx - HTTP Request: POST https://api.openai.com/v1/chat/completions \"HTTP/1.1 200 OK\"\n",
      "INFO: [2025-02-27 19:36:50] httpx - HTTP Request: POST https://api.openai.com/v1/chat/completions \"HTTP/1.1 200 OK\"\n",
      "INFO: [2025-02-27 19:37:00] httpx - HTTP Request: POST https://api.openai.com/v1/chat/completions \"HTTP/1.1 200 OK\"\n",
      "Extracting:  20%|██        | 1/5 [00:51<03:25, 51.48s/statement]INFO: [2025-02-27 19:37:04] httpx - HTTP Request: POST https://api.openai.com/v1/chat/completions \"HTTP/1.1 200 OK\"\n",
      "INFO: [2025-02-27 19:37:08] httpx - HTTP Request: POST https://api.openai.com/v1/chat/completions \"HTTP/1.1 200 OK\"\n",
      "INFO: [2025-02-27 19:37:17] httpx - HTTP Request: POST https://api.openai.com/v1/chat/completions \"HTTP/1.1 200 OK\"\n",
      "Extracting:  40%|████      | 2/5 [01:08<01:33, 31.29s/statement]INFO: [2025-02-27 19:37:21] httpx - HTTP Request: POST https://api.openai.com/v1/chat/completions \"HTTP/1.1 200 OK\"\n",
      "INFO: [2025-02-27 19:37:27] httpx - HTTP Request: POST https://api.openai.com/v1/chat/completions \"HTTP/1.1 200 OK\"\n",
      "INFO: [2025-02-27 19:37:32] httpx - HTTP Request: POST https://api.openai.com/v1/chat/completions \"HTTP/1.1 200 OK\"\n",
      "Extracting:  60%|██████    | 3/5 [01:23<00:47, 23.69s/statement]INFO: [2025-02-27 19:37:36] httpx - HTTP Request: POST https://api.openai.com/v1/chat/completions \"HTTP/1.1 200 OK\"\n",
      "INFO: [2025-02-27 19:37:39] httpx - HTTP Request: POST https://api.openai.com/v1/chat/completions \"HTTP/1.1 200 OK\"\n",
      "INFO: [2025-02-27 19:37:44] httpx - HTTP Request: POST https://api.openai.com/v1/chat/completions \"HTTP/1.1 200 OK\"\n",
      "Extracting:  80%|████████  | 4/5 [01:35<00:19, 19.35s/statement]INFO: [2025-02-27 19:37:48] httpx - HTTP Request: POST https://api.openai.com/v1/chat/completions \"HTTP/1.1 200 OK\"\n",
      "INFO: [2025-02-27 19:37:56] httpx - HTTP Request: POST https://api.openai.com/v1/chat/completions \"HTTP/1.1 200 OK\"\n",
      "INFO: [2025-02-27 19:38:09] httpx - HTTP Request: POST https://api.openai.com/v1/chat/completions \"HTTP/1.1 200 OK\"\n",
      "Extracting: 100%|██████████| 5/5 [02:00<00:00, 24.07s/statement]\n",
      "WARNING: [2025-02-27 19:38:09] indra.statements.statements - Invalid activity type: phosphorylation\n",
      "INFO: [2025-02-27 19:38:09] indra.ontology.bio.ontology - Loading INDRA bio ontology from cache at /Users/thomaslim/.indra/bio_ontology/1.34/bio_ontology.pkl\n",
      "INFO: [2025-02-27 19:38:21] indra.tools.assemble_corpus - Mapping grounding on 3 statements...\n",
      "INFO: [2025-02-27 19:38:21] indra.preassembler.grounding_mapper.disambiguate - INDRA DB is not available for text content retrieval for grounding disambiguation.\n",
      "INFO: [2025-02-27 19:38:21] indra.preassembler.grounding_mapper.mapper - 0 statements filtered out\n",
      "INFO: [2025-02-27 19:38:21] indra.tools.assemble_corpus - Combining duplicates on 3 statements...\n",
      "WARNING: [2025-02-27 19:38:21] indra.statements.statements - Invalid activity type: phosphorylation\n",
      "INFO: [2025-02-27 19:38:21] indra.tools.assemble_corpus - 3 unique statements\n",
      "INFO: [2025-02-27 19:38:21] indra.tools.assemble_corpus - Combining related on 3 statements...\n",
      "Finding refinement relations: 100%|██████████| 3/3 [00:00<00:00, 6135.01it/s]\n",
      "INFO: [2025-02-27 19:38:21] indra.preassembler - Found 0 refinements in 0.00s\n",
      "INFO: [2025-02-27 19:38:21] indra.preassembler - Total comparisons: 0\n",
      "INFO: [2025-02-27 19:38:21] indra.tools.assemble_corpus - Filtering 3 statements for top-level...\n",
      "INFO: [2025-02-27 19:38:21] indra.tools.assemble_corpus - 3 statements after filter...\n",
      "INFO: [2025-02-27 19:38:21] indra.tools.assemble_corpus - 3 statements out of which 3 are top-level\n",
      "INFO: [2025-02-27 19:38:22] indra.tools.assemble_corpus - Mapping grounding on 2 statements...\n",
      "INFO: [2025-02-27 19:38:22] indra.preassembler.grounding_mapper.disambiguate - INDRA DB is not available for text content retrieval for grounding disambiguation.\n",
      "INFO: [2025-02-27 19:38:22] indra.preassembler.grounding_mapper.mapper - 0 statements filtered out\n",
      "INFO: [2025-02-27 19:38:22] indra.tools.assemble_corpus - Combining duplicates on 2 statements...\n",
      "INFO: [2025-02-27 19:38:22] indra.tools.assemble_corpus - 2 unique statements\n",
      "INFO: [2025-02-27 19:38:22] indra.tools.assemble_corpus - Combining related on 2 statements...\n",
      "Finding refinement relations: 100%|██████████| 2/2 [00:00<00:00, 18396.07it/s]\n",
      "INFO: [2025-02-27 19:38:22] indra.preassembler - Found 0 refinements in 0.00s\n",
      "INFO: [2025-02-27 19:38:22] indra.preassembler - Total comparisons: 0\n",
      "INFO: [2025-02-27 19:38:22] indra.tools.assemble_corpus - Filtering 2 statements for top-level...\n",
      "INFO: [2025-02-27 19:38:22] indra.tools.assemble_corpus - 2 statements after filter...\n",
      "INFO: [2025-02-27 19:38:22] indra.tools.assemble_corpus - 2 statements out of which 2 are top-level\n",
      "WARNING: [2025-02-27 19:38:22] indra.statements.statements - Invalid activity type: degradation\n",
      "INFO: [2025-02-27 19:38:22] indra.tools.assemble_corpus - Mapping grounding on 1 statements...\n",
      "INFO: [2025-02-27 19:38:22] indra.preassembler.grounding_mapper.disambiguate - INDRA DB is not available for text content retrieval for grounding disambiguation.\n",
      "INFO: [2025-02-27 19:38:22] indra.preassembler.grounding_mapper.mapper - 0 statements filtered out\n",
      "INFO: [2025-02-27 19:38:22] indra.tools.assemble_corpus - Combining duplicates on 1 statements...\n",
      "WARNING: [2025-02-27 19:38:22] indra.statements.statements - Invalid activity type: degradation\n",
      "INFO: [2025-02-27 19:38:22] indra.tools.assemble_corpus - 1 unique statements\n",
      "INFO: [2025-02-27 19:38:22] indra.tools.assemble_corpus - Combining related on 1 statements...\n",
      "Finding refinement relations: 100%|██████████| 1/1 [00:00<00:00, 15477.14it/s]\n",
      "INFO: [2025-02-27 19:38:22] indra.preassembler - Found 0 refinements in 0.00s\n",
      "INFO: [2025-02-27 19:38:22] indra.preassembler - Total comparisons: 0\n",
      "INFO: [2025-02-27 19:38:22] indra.tools.assemble_corpus - Filtering 1 statements for top-level...\n",
      "INFO: [2025-02-27 19:38:22] indra.tools.assemble_corpus - 1 statements after filter...\n",
      "INFO: [2025-02-27 19:38:22] indra.tools.assemble_corpus - 1 statements out of which 1 are top-level\n",
      "INFO: [2025-02-27 19:38:22] indra.tools.assemble_corpus - Mapping grounding on 1 statements...\n",
      "INFO: [2025-02-27 19:38:22] indra.preassembler.grounding_mapper.disambiguate - INDRA DB is not available for text content retrieval for grounding disambiguation.\n",
      "INFO: [2025-02-27 19:38:22] indra.preassembler.grounding_mapper.mapper - 0 statements filtered out\n",
      "INFO: [2025-02-27 19:38:22] indra.tools.assemble_corpus - Combining duplicates on 1 statements...\n",
      "INFO: [2025-02-27 19:38:22] indra.tools.assemble_corpus - 1 unique statements\n",
      "INFO: [2025-02-27 19:38:22] indra.tools.assemble_corpus - Combining related on 1 statements...\n",
      "Finding refinement relations: 100%|██████████| 1/1 [00:00<00:00, 12336.19it/s]\n",
      "INFO: [2025-02-27 19:38:22] indra.preassembler - Found 0 refinements in 0.00s\n",
      "INFO: [2025-02-27 19:38:22] indra.preassembler - Total comparisons: 0\n",
      "INFO: [2025-02-27 19:38:22] indra.tools.assemble_corpus - Filtering 1 statements for top-level...\n",
      "INFO: [2025-02-27 19:38:22] indra.tools.assemble_corpus - 1 statements after filter...\n",
      "INFO: [2025-02-27 19:38:22] indra.tools.assemble_corpus - 1 statements out of which 1 are top-level\n",
      "INFO: [2025-02-27 19:38:22] indra.tools.assemble_corpus - Mapping grounding on 1 statements...\n",
      "INFO: [2025-02-27 19:38:22] indra.preassembler.grounding_mapper.disambiguate - INDRA DB is not available for text content retrieval for grounding disambiguation.\n",
      "INFO: [2025-02-27 19:38:22] indra.preassembler.grounding_mapper.mapper - 0 statements filtered out\n",
      "INFO: [2025-02-27 19:38:22] indra.tools.assemble_corpus - Combining duplicates on 1 statements...\n",
      "INFO: [2025-02-27 19:38:22] indra.tools.assemble_corpus - 1 unique statements\n",
      "INFO: [2025-02-27 19:38:22] indra.tools.assemble_corpus - Combining related on 1 statements...\n",
      "Finding refinement relations: 100%|██████████| 1/1 [00:00<00:00, 10433.59it/s]\n",
      "INFO: [2025-02-27 19:38:22] indra.preassembler - Found 0 refinements in 0.00s\n",
      "INFO: [2025-02-27 19:38:22] indra.preassembler - Total comparisons: 0\n",
      "INFO: [2025-02-27 19:38:22] indra.tools.assemble_corpus - Filtering 1 statements for top-level...\n",
      "INFO: [2025-02-27 19:38:22] indra.tools.assemble_corpus - 1 statements after filter...\n",
      "INFO: [2025-02-27 19:38:22] indra.tools.assemble_corpus - 1 statements out of which 1 are top-level\n"
     ]
    }
   ],
   "source": [
    "benchmark_df = benchmark.get_comparison_df()\n"
   ]
  },
  {
   "cell_type": "code",
   "execution_count": null,
   "metadata": {},
   "outputs": [
    {
     "data": {
      "text/html": [
       "<div>\n",
       "<style scoped>\n",
       "    .dataframe tbody tr th:only-of-type {\n",
       "        vertical-align: middle;\n",
       "    }\n",
       "\n",
       "    .dataframe tbody tr th {\n",
       "        vertical-align: top;\n",
       "    }\n",
       "\n",
       "    .dataframe thead th {\n",
       "        text-align: right;\n",
       "    }\n",
       "</style>\n",
       "<table border=\"1\" class=\"dataframe\">\n",
       "  <thead>\n",
       "    <tr style=\"text-align: right;\">\n",
       "      <th></th>\n",
       "      <th>original_statement_json</th>\n",
       "      <th>generated_statements_json</th>\n",
       "      <th>original_statement</th>\n",
       "      <th>generated_statements</th>\n",
       "      <th>comparison_result</th>\n",
       "      <th>best_match_index</th>\n",
       "    </tr>\n",
       "  </thead>\n",
       "  <tbody>\n",
       "    <tr>\n",
       "      <th>0</th>\n",
       "      <td>{'type': 'Phosphorylation', 'enz': {'name': 'T...</td>\n",
       "      <td>[{'kind': 'RegulateActivity', 'type': 'Activat...</td>\n",
       "      <td>[Phosphorylation(THBS1(), EGFR(), Y, 1110)]</td>\n",
       "      <td>[Activation(THBS1(), phospholipase Cgamma(), c...</td>\n",
       "      <td>[{'equals': False, 'equals_type': False, 'agen...</td>\n",
       "      <td>0</td>\n",
       "    </tr>\n",
       "    <tr>\n",
       "      <th>1</th>\n",
       "      <td>{'type': 'Ubiquitination', 'enz': {'name': 'RB...</td>\n",
       "      <td>[{'kind': 'Modification', 'type': 'Ubiquitinat...</td>\n",
       "      <td>[Ubiquitination(RBX1(bound: [KEAP1, True], bou...</td>\n",
       "      <td>[Complex(KEAP1-CUL3-RBX1 complex(), MCM2-7 com...</td>\n",
       "      <td>[{'equals': False, 'equals_type': False, 'agen...</td>\n",
       "      <td>1</td>\n",
       "    </tr>\n",
       "    <tr>\n",
       "      <th>2</th>\n",
       "      <td>{'type': 'Complex', 'members': [{'name': 'CAV1...</td>\n",
       "      <td>[{'kind': 'RegulateActivity', 'type': 'Inhibit...</td>\n",
       "      <td>[Complex(CAV1(), MCL1())]</td>\n",
       "      <td>[Inhibition(CAV1(), MCL1(), degradation)]</td>\n",
       "      <td>[{'equals': False, 'equals_type': False, 'agen...</td>\n",
       "      <td>0</td>\n",
       "    </tr>\n",
       "    <tr>\n",
       "      <th>3</th>\n",
       "      <td>{'type': 'Complex', 'members': [{'name': 'MCM1...</td>\n",
       "      <td>[{'kind': 'Complex', 'type': 'Complex', 'membe...</td>\n",
       "      <td>[Complex(MCM10(), POLA1())]</td>\n",
       "      <td>[Complex(DNA_polymerase_alpha(), MCM10())]</td>\n",
       "      <td>[{'equals': False, 'equals_type': True, 'agent...</td>\n",
       "      <td>0</td>\n",
       "    </tr>\n",
       "    <tr>\n",
       "      <th>4</th>\n",
       "      <td>{'type': 'Acetylation', 'enz': {'name': 'KANSL...</td>\n",
       "      <td>[{'kind': 'RegulateActivity', 'type': 'Activat...</td>\n",
       "      <td>[Acetylation(KANSL1(), TP53(), K, 120)]</td>\n",
       "      <td>[Activation(MOF and MSL1v1 complex(), TP53(mod...</td>\n",
       "      <td>[{'equals': False, 'equals_type': False, 'agen...</td>\n",
       "      <td>0</td>\n",
       "    </tr>\n",
       "  </tbody>\n",
       "</table>\n",
       "</div>"
      ],
      "text/plain": [
       "                             original_statement_json  \\\n",
       "0  {'type': 'Phosphorylation', 'enz': {'name': 'T...   \n",
       "1  {'type': 'Ubiquitination', 'enz': {'name': 'RB...   \n",
       "2  {'type': 'Complex', 'members': [{'name': 'CAV1...   \n",
       "3  {'type': 'Complex', 'members': [{'name': 'MCM1...   \n",
       "4  {'type': 'Acetylation', 'enz': {'name': 'KANSL...   \n",
       "\n",
       "                           generated_statements_json  \\\n",
       "0  [{'kind': 'RegulateActivity', 'type': 'Activat...   \n",
       "1  [{'kind': 'Modification', 'type': 'Ubiquitinat...   \n",
       "2  [{'kind': 'RegulateActivity', 'type': 'Inhibit...   \n",
       "3  [{'kind': 'Complex', 'type': 'Complex', 'membe...   \n",
       "4  [{'kind': 'RegulateActivity', 'type': 'Activat...   \n",
       "\n",
       "                                  original_statement  \\\n",
       "0        [Phosphorylation(THBS1(), EGFR(), Y, 1110)]   \n",
       "1  [Ubiquitination(RBX1(bound: [KEAP1, True], bou...   \n",
       "2                          [Complex(CAV1(), MCL1())]   \n",
       "3                        [Complex(MCM10(), POLA1())]   \n",
       "4            [Acetylation(KANSL1(), TP53(), K, 120)]   \n",
       "\n",
       "                                generated_statements  \\\n",
       "0  [Activation(THBS1(), phospholipase Cgamma(), c...   \n",
       "1  [Complex(KEAP1-CUL3-RBX1 complex(), MCM2-7 com...   \n",
       "2          [Inhibition(CAV1(), MCL1(), degradation)]   \n",
       "3         [Complex(DNA_polymerase_alpha(), MCM10())]   \n",
       "4  [Activation(MOF and MSL1v1 complex(), TP53(mod...   \n",
       "\n",
       "                                   comparison_result  best_match_index  \n",
       "0  [{'equals': False, 'equals_type': False, 'agen...                 0  \n",
       "1  [{'equals': False, 'equals_type': False, 'agen...                 1  \n",
       "2  [{'equals': False, 'equals_type': False, 'agen...                 0  \n",
       "3  [{'equals': False, 'equals_type': True, 'agent...                 0  \n",
       "4  [{'equals': False, 'equals_type': False, 'agen...                 0  "
      ]
     },
     "execution_count": 4,
     "metadata": {},
     "output_type": "execute_result"
    }
   ],
   "source": [
    "benchmark_df\n"
   ]
  },
  {
   "cell_type": "code",
   "execution_count": null,
   "metadata": {},
   "outputs": [],
   "source": []
  }
 ],
 "metadata": {
  "kernelspec": {
   "display_name": "indra_gpt",
   "language": "python",
   "name": "python3"
  },
  "language_info": {
   "codemirror_mode": {
    "name": "ipython",
    "version": 3
   },
   "file_extension": ".py",
   "mimetype": "text/x-python",
   "name": "python",
   "nbconvert_exporter": "python",
   "pygments_lexer": "ipython3",
   "version": "3.11.11"
  }
 },
 "nbformat": 4,
 "nbformat_minor": 2
}
