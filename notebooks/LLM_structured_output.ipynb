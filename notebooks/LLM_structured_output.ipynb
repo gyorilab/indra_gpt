{
 "cells": [
  {
   "cell_type": "markdown",
   "metadata": {},
   "source": [
    "# Using structured JSON output feature from OpenAI\n",
    "Sources: \n",
    "- OpenAI web page for JSON formatting rules to use 'strict' mode: https://platform.openai.com/docs/guides/structured-outputs\n",
    "- A Python Package for high-level usage of LLM structured output: https://github.com/dottxt-ai/outlines"
   ]
  },
  {
   "cell_type": "code",
   "execution_count": 1,
   "metadata": {},
   "outputs": [],
   "source": [
    "# !pip uninstall -y sympy pysb torch outlines\n",
    "# !pip install pysb sympy==1.11.1\n",
    "# !pip install torch sympy==1.13.1 --no-deps\n",
    "# !pip install outlines --no-deps\n"
   ]
  },
  {
   "cell_type": "code",
   "execution_count": 1,
   "metadata": {},
   "outputs": [],
   "source": [
    "import sys\n",
    "from pathlib import Path\n",
    "import os\n",
    "# get current path\n",
    "sys.path.append(str(Path.cwd().parent))\n"
   ]
  },
  {
   "cell_type": "markdown",
   "metadata": {},
   "source": [
    "## Providing the JSON schema directly as the response format\n",
    "- I.e. Provide the indra JSON schema to the `response_format` parameter of `OpenAI.beta.chat.completions.parse` function of OpenAI"
   ]
  },
  {
   "cell_type": "markdown",
   "metadata": {},
   "source": [
    "OpenAI enforces a subset of the 'JSON Schema' language. The below is a list of non-exhaustive rules that is enforced:\n",
    "1. root JSON object is 'object' type\n",
    "2. 'required' includes all and only the fields in 'property' \n",
    "    - This ensures LLM doesn't generate any key-val pair in 'property' that is not defined in the schema.\n",
    "    - To make a defined field in 'property' optional, we can add \"null\" as an optional type of that field. \n",
    "3. 'additionalProperties' field is set to false and is included for every 'object' type.\n",
    "4. Each sub-schema in 'anyOf', namely \"#/definitions/RegulateActivity\", \"#/definitions/Modification\", \"#/definitions/SelfModification\", etc. has a different first key\n",
    "   in their 'property' field. <br>\n",
    "   This is achievable by adding a new field with a unique constant value. E.g. \"#/definitions/RegulateActivity\" has \n",
    "   ```\n",
    "   \"kind\": {\n",
    "                \"type\": \"string\",\n",
    "                \"const\": \"RegulateActivity\"\n",
    "            }\n",
    "    ```\n",
    "    And \"#/definitions/Modification\" has\n",
    "    ```\n",
    "    \"kind\": {\n",
    "                \"type\": \"string\",\n",
    "                \"const\": \"Modification\"\n",
    "            }\n",
    "    ```"
   ]
  },
  {
   "cell_type": "markdown",
   "metadata": {},
   "source": [
    "- The below schema follows all the rules for OpenAI 'strict' mode, except for one. It contains the 'allOf' syntax, which OpenAI doesn't currently support.\n",
    "- We can resolve 'allOf' syntax by merging the items and removing the 'allOf' syntax."
   ]
  },
  {
   "cell_type": "code",
   "execution_count": 2,
   "metadata": {},
   "outputs": [],
   "source": [
    "import json\n",
    "from indra.statements.io import stmts_from_json\n",
    "import pandas as pd\n"
   ]
  },
  {
   "cell_type": "code",
   "execution_count": 3,
   "metadata": {},
   "outputs": [],
   "source": [
    "from indra_gpt.util.util import merge_allOf\n",
    "\n",
    "# Load the JSON schema\n",
    "schema_path = \"/Users/thomaslim/gyorilab/indra_gpt/indra_gpt/resources/indra_schema_openai_structured_output.json\"\n",
    "with open(schema_path, \"r\") as f:\n",
    "    schema = json.load(f)\n",
    "\n",
    "post_processed_schema = merge_allOf(schema, schema)\n"
   ]
  },
  {
   "cell_type": "code",
   "execution_count": 4,
   "metadata": {},
   "outputs": [],
   "source": [
    "# Sample Prompt\n",
    "prompt = \"We found that 24 hours of BMP pretreatment caused a doubling in PTEN half-life (15.1 hours to 28.4 hours, p = 0.03, n = 4).\"\n"
   ]
  },
  {
   "cell_type": "markdown",
   "metadata": {},
   "source": [
    "### Use `outlines` package to use OpenAI's 'structured outputs' feature."
   ]
  },
  {
   "cell_type": "code",
   "execution_count": 12,
   "metadata": {},
   "outputs": [
    {
     "ename": "ValueError",
     "evalue": "Cannot parse schema {'$schema': 'http://json-schema.org/draft-06/schema#', 'definitions': {'ModCondition': {'type': 'object', 'description': 'Mutation state of an amino acid position of an Agent.', 'properties': {'mod_type': {'type': 'string', 'description': \"The type of post-translational modification, e.g., 'phosphorylation'. Valid modification types currently include: 'phosphorylation', 'ubiquitination', 'sumoylation', 'hydroxylation', and 'acetylation'. If an invalid modification type is passed an InvalidModTypeError is raised.\"}, 'residue': {'type': 'string', 'description': \"String indicating the modified amino acid, e.g., 'Y' or 'tyrosine'. If None, indicates that the residue at the modification site is unknown or unspecified.\"}, 'position': {'type': 'string', 'description': \"String indicating the position of the modified amino acid, e.g., '202'. If None, indicates that the position is unknown or unspecified.\"}, 'is_modified': {'type': 'boolean', 'description': 'Specifies whether the modification is present or absent. Setting the flag specifies that the Agent with the ModCondition is unmodified at the site.'}}, 'required': ['mod_type', 'is_modified']}, 'MutCondition': {'type': 'object', 'description': 'Mutation state of an amino acid position of an Agent.', 'properties': {'position': {'type': ['string', 'null'], 'description': 'Residue position of the mutation in the protein sequence.'}, 'residue_from': {'type': ['string', 'null'], 'description': 'Wild-type (unmodified) amino acid residue at the given position.'}, 'residue_to': {'type': ['string', 'null'], 'description': 'Amino acid at the position resulting from the mutation.'}}, 'required': ['position', 'residue_from', 'residue_to']}, 'ActivityCondition': {'type': 'object', 'description': 'An active or inactive state of a protein.', 'properties': {'activity_type': {'type': 'string', 'description': \"The type of activity, e.g. 'kinase'. The basic, unspecified molecular activity is represented as 'activity'. Examples of other activity types are 'kinase', 'phosphatase', 'catalytic', 'transcription', etc.\"}, 'is_active': {'type': 'boolean', 'description': 'Specifies whether the given activity type is present or absent.'}}, 'required': ['activity_type', 'is_active']}, 'BoundCondition': {'type': 'object', 'description': 'Identify Agents bound (or not bound) to a given Agent in a given context.', 'properties': {'agent': {'$ref': '#/definitions/Agent'}, 'is_bound': {'type': 'boolean', 'description': 'Specifies whether the given Agent is bound or unbound in the current context.'}}, 'required': ['agent', 'is_bound']}, 'Agent': {'type': 'object', 'description': 'A molecular entity, e.g., a protein.', 'properties': {'name': {'type': 'string', 'description': 'The name of the agent, preferably a canonicalized name such as an HGNC gene name.'}, 'mods': {'type': 'array', 'items': {'$ref': '#/definitions/ModCondition'}, 'description': 'Modification state of the agent.'}, 'mutations': {'type': 'array', 'items': {'$ref': '#/definitions/MutCondition'}, 'description': 'Amino acid mutations of the agent.'}, 'bound_conditions': {'type': 'array', 'items': {'$ref': '#/definitions/BoundCondition'}, 'description': 'Other agents bound to the agent in this context.'}, 'activity': {'$ref': '#/definitions/ActivityCondition', 'description': 'Activity of the agent.'}, 'location': {'type': 'string', 'description': \"Cellular location of the agent. Must be a valid name (e.g. 'nucleus') or identifier (e.g. 'GO:0005634')for a GO cellular compartment.\"}, 'db_refs': {'type': 'object', 'description': 'Dictionary of database identifiers associated with this agent.'}, 'sbo': {'type': 'string', 'description': 'Role of this agent in the systems biology ontology'}}, 'required': ['name', 'db_refs']}, 'Concept': {'type': 'object', 'description': 'A concept/entity of interest that is the argument of a Statement', 'properties': {'name': {'type': 'string', 'description': 'The name of the concept, possibly a canonicalized name.'}, 'db_refs': {'type': 'object', 'description': 'Dictionary of database identifiers associated with this concept.'}}, 'required': ['name', 'db_refs']}, 'Context': {'type': 'object', 'description': 'The context in which a given Statement was reported.', 'properties': {'type': {'type': 'string', 'pattern': '^((bio)|(world))$', 'description': \"Either 'world' or 'bio', depending on the type of context being repersented.\"}}}, 'BioContext': {'type': 'object', 'description': 'The biological context of a Statement.', 'properties': {'type': {'type': 'string', 'pattern': '^bio$', 'description': \"The type of context, in this case 'bio'.\"}, 'location': {'$ref': '#/definitions/RefContext', 'description': 'Cellular location, typically a sub-cellular compartment.'}, 'cell_line': {'$ref': '#/definitions/RefContext', 'description': 'Cell line context, e.g., a specific cell line, like BT20.'}, 'cell_type': {'$ref': '#/definitions/RefContext', 'description': 'Cell type context, broader than a cell line, like macrophage.'}, 'organ': {'$ref': '#/definitions/RefContext', 'description': 'Organ context.'}, 'disease': {'$ref': '#/definitions/RefContext', 'description': 'Disease context.'}, 'species': {'$ref': '#/definitions/RefContext', 'description': 'Species context.'}}}, 'RefContext': {'type': 'object', 'description': 'Represents a context identified by name and grounding references.', 'properties': {'name': {'type': 'string', 'description': 'The name associated with the context.'}, 'db_refs': {'type': 'object', 'description': 'Dictionary of database identifiers associated with this context.'}}}, 'Evidence': {'type': 'object', 'description': 'Container for evidence supporting a given statement.', 'properties': {'source_api': {'type': 'string', 'description': \"String identifying the INDRA API used to capture the statement, e.g., 'trips', 'biopax', 'bel'.\"}, 'pmid': {'type': 'string', 'description': 'String indicating the Pubmed ID of the source of the statement.'}, 'source_id': {'type': 'string', 'description': 'For statements drawn from databases, ID of the database entity corresponding to the statement.'}, 'text': {'type': 'string', 'description': 'Natural language text supporting the statement.'}, 'annotations': {'type': 'object', 'description': 'Dictionary containing additional information on the context of the statement, e.g., species, cell line, tissue type, etc. The entries may vary depending on the source of the information.'}, 'epistemics': {'type': 'object', 'description': 'A dictionary describing various forms of epistemic certainty associated with the statement.'}}}, 'Statement': {'type': 'object', 'description': \"All statement types, below, may have these fields and 'inherit' from this schema\", 'properties': {'evidence': {'type': 'array', 'items': {'$ref': '#/definitions/Evidence'}}, 'id': {'type': 'string', 'description': 'Statement UUID'}, 'supports': {'type': 'array', 'items': {'type': 'string'}}, 'supported_by': {'type': 'array', 'items': {'type': 'string'}}}, 'required': ['id']}, 'Modification': {'description': 'Statement representing the modification of a protein.', 'allOf': [{'$ref': '#/definitions/Statement'}, {'type': 'object', 'properties': {'type': {'type': 'string', 'pattern': '^((Phosphorylation)|(Dephosphorylation)|(Ubiquitination)|(Deubiquitination)|(Sumoylation)|(Desumoylation)|(Hydroxylation)|(Dehydroxylation)|(Acetylation)|(Deacetylation)|(Glycosylation)|(Deglycosylation)|(Farnesylation)|(Defarnesylation)|(Geranylgeranylation)|(Degeranylgeranylation)|(Palmitoylation)|(Depalmitoylation)|(Myristoylation)|(Demyristoylation)|(Ribosylation)|(Deribosylation)|(Methylation)|(Demethylation))$', 'description': 'The type of the statement'}, 'enz': {'$ref': '#/definitions/Agent', 'description': 'The enzyme involved in the modification.'}, 'sub': {'$ref': '#/definitions/Agent', 'description': 'The substrate of the modification.'}, 'residue': {'type': 'string', 'description': 'The amino acid residue being modified, or None if it is unknown or unspecified.'}, 'position': {'type': 'string', 'description': 'The position of the modified amino acid, or None if it is unknown or unspecified.'}}, 'required': ['type']}]}, 'SelfModification': {'description': 'Statement representing the self-modification of a protein.', 'allOf': [{'$ref': '#/definitions/Statement'}, {'type': 'object', 'properties': {'type': {'type': 'string', 'pattern': '^((Autophosphorylation)|(Transphosphorylation))$', 'description': 'The type of the statement'}, 'enz': {'$ref': '#/definitions/Agent', 'description': 'The enzyme involved in the modification.'}, 'residue': {'type': 'string', 'description': 'The amino acid residue being modified, or None if it is unknown or unspecified.'}, 'position': {'type': 'string', 'description': 'The position of the modified amino acid, or None if it is unknown or unspecified.'}}, 'required': ['type']}]}, 'RegulateActivity': {'description': 'Regulation of activity (such as activation and inhibition)', 'allOf': [{'$ref': '#/definitions/Statement'}, {'type': 'object', 'properties': {'type': {'type': 'string', 'pattern': '^((Activation)|(Inhibition))$', 'description': 'The type of the statement'}, 'subj': {'$ref': '#/definitions/Agent', 'description': \"The agent responsible for the change in activity, i.e., the 'upstream' node.\"}, 'obj': {'$ref': '#/definitions/Agent', 'description': \"The agent whose activity is influenced by the subject, i.e., the 'downstream' node.\"}, 'obj_activity': {'type': 'string', 'description': \"The activity of the obj Agent that is affected, e.g., its 'kinase' activity.\"}}, 'required': ['type']}]}, 'ActiveForm': {'description': 'Specifies conditions causing an Agent to be active or inactive. Types of conditions influencing a specific type of biochemical activity can include modifications, bound Agents, and mutations.', 'allOf': [{'$ref': '#/definitions/Statement'}, {'type': 'object', 'properties': {'type': {'type': 'string', 'pattern': '^ActiveForm$', 'description': 'The type of the statement'}, 'agent': {'$ref': '#/definitions/Agent', 'description': 'The Agent in a particular active or inactive state. The sets of ModConditions, BoundConditions, and MutConditions on the given Agent instance indicate the relevant conditions.'}, 'activity': {'type': 'string', 'description': \"The type of activity influenced by the given set of conditions, e.g., 'kinase'.\"}, 'is_active': {'type': 'boolean', 'description': 'Whether the conditions are activating (True) or inactivating (False).'}}, 'required': ['type', 'agent', 'activity']}]}, 'Gef': {'description': 'Exchange of GTP for GDP on a small GTPase protein mediated by a GEF. Represents the generic process by which a guanosine exchange factor (GEF) catalyzes nucleotide exchange on a GTPase protein.', 'allOf': [{'$ref': '#/definitions/Statement'}, {'type': 'object', 'properties': {'type': {'type': 'string', 'pattern': '^Gef$', 'description': 'The type of the statement'}, 'gef': {'$ref': '#/definitions/Agent', 'description': 'The guanosine exchange factor.'}, 'ras': {'$ref': '#/definitions/Agent', 'description': 'The GTPase protein.'}}, 'required': ['type']}]}, 'Gap': {'description': \"Acceleration of a GTPase protein's GTP hydrolysis rate by a GAP. Represents the generic process by which a GTPase activating protein (GAP) catalyzes GTP hydrolysis by a particular small GTPase protein.\", 'allOf': [{'$ref': '#/definitions/Statement'}, {'type': 'object', 'properties': {'type': {'type': 'string', 'pattern': '^Gap$', 'description': 'The type of the statement'}, 'gap': {'$ref': '#/definitions/Agent', 'description': 'The GTPase activating protein.'}, 'ras': {'$ref': '#/definitions/Agent', 'description': 'The GTPase protein.'}}, 'required': ['type']}]}, 'Complex': {'description': 'A set of proteins observed to be in a complex.', 'allOf': [{'$ref': '#/definitions/Statement'}, {'type': 'object', 'properties': {'type': {'type': 'string', 'pattern': '^((Complex)|(Association))$', 'description': 'The type of the statement'}, 'members': {'type': 'array', 'items': {'$ref': '#/definitions/Agent'}}}, 'required': ['type']}]}, 'Association': {'description': 'A set of unordered concepts that are associated with each other.', 'allOf': [{'$ref': '#/definitions/Complex'}]}, 'Translocation': {'description': 'The translocation of a molecular agent from one location to another.', 'allOf': [{'$ref': '#/definitions/Statement'}, {'type': 'object', 'properties': {'type': {'type': 'string', 'pattern': '^Translocation$', 'description': 'The type of the statement'}, 'agent': {'$ref': '#/definitions/Agent', 'description': 'The agent which translocates.'}, 'from_location': {'type': 'string', 'description': \"The location from which the agent translocates. This must be a valid GO cellular component name (e.g. 'cytoplasm') or ID (e.g. 'GO:0005737').\"}, 'to_location': {'type': 'string', 'description': 'The location to which the agent translocates. This must be a valid GO cellular component name or ID.'}}, 'required': ['type', 'agent']}]}, 'RegulateAmount': {'description': 'Represents directed, two-element interactions.', 'allOf': [{'$ref': '#/definitions/Statement'}, {'type': 'object', 'properties': {'type': {'type': 'string', 'pattern': '^((IncreaseAmount)|(DecreaseAmount))$'}, 'subj': {'$ref': '#/definitions/Agent', 'description': 'The mediating protein'}, 'obj': {'$ref': '#/definitions/Agent', 'description': 'The affected protein'}}, 'required': ['type']}]}, 'Conversion': {'description': 'Conversion of molecular species mediated by a controller protein.', 'allOf': [{'$ref': '#/definitions/Statement'}, {'type': 'object', 'properties': {'type': {'type': 'string', 'pattern': '^Conversion$'}, 'subj': {'$ref': '#/definitions/Agent', 'description': 'The protein mediating the conversion.'}, 'obj_from': {'type': 'array', 'items': {'$ref': '#/definitions/Agent'}, 'description': 'The list of molecular species being consumed by the conversion.'}, 'obj_to': {'type': 'array', 'items': {'$ref': '#/definitions/Agent'}, 'description': 'The list of molecular species being created by the conversion.'}}, 'required': ['type']}]}}, 'type': 'array', 'items': {'anyOf': [{'$ref': '#/definitions/RegulateActivity'}, {'$ref': '#/definitions/Modification'}, {'$ref': '#/definitions/SelfModification'}, {'$ref': '#/definitions/ActiveForm'}, {'$ref': '#/definitions/Gef'}, {'$ref': '#/definitions/Gap'}, {'$ref': '#/definitions/Complex'}, {'$ref': '#/definitions/Association'}, {'$ref': '#/definitions/Translocation'}, {'$ref': '#/definitions/RegulateAmount'}]}}. The schema must be either a Pydantic object, a function or a string that contains the JSON Schema specification",
     "output_type": "error",
     "traceback": [
      "\u001b[0;31m---------------------------------------------------------------------------\u001b[0m",
      "\u001b[0;31mValueError\u001b[0m                                Traceback (most recent call last)",
      "Cell \u001b[0;32mIn[12], line 6\u001b[0m\n\u001b[1;32m      4\u001b[0m model \u001b[38;5;241m=\u001b[39m outlines\u001b[38;5;241m.\u001b[39mmodels\u001b[38;5;241m.\u001b[39mopenai(\u001b[38;5;124m\"\u001b[39m\u001b[38;5;124mgpt-4o\u001b[39m\u001b[38;5;124m\"\u001b[39m)  \u001b[38;5;66;03m# Or \"gpt-4-turbo\" for cheaper API cost\u001b[39;00m\n\u001b[1;32m      5\u001b[0m \u001b[38;5;66;03m# Define generators\u001b[39;00m\n\u001b[0;32m----> 6\u001b[0m generator \u001b[38;5;241m=\u001b[39m \u001b[43moutlines\u001b[49m\u001b[38;5;241;43m.\u001b[39;49m\u001b[43mgenerate\u001b[49m\u001b[38;5;241;43m.\u001b[39;49m\u001b[43mjson\u001b[49m\u001b[43m(\u001b[49m\u001b[43mmodel\u001b[49m\u001b[43m,\u001b[49m\u001b[43m \u001b[49m\u001b[43mschema\u001b[49m\u001b[43m)\u001b[49m\n",
      "File \u001b[0;32m~/miniconda3/envs/indra_gpt/lib/python3.11/functools.py:909\u001b[0m, in \u001b[0;36msingledispatch.<locals>.wrapper\u001b[0;34m(*args, **kw)\u001b[0m\n\u001b[1;32m    905\u001b[0m \u001b[38;5;28;01mif\u001b[39;00m \u001b[38;5;129;01mnot\u001b[39;00m args:\n\u001b[1;32m    906\u001b[0m     \u001b[38;5;28;01mraise\u001b[39;00m \u001b[38;5;167;01mTypeError\u001b[39;00m(\u001b[38;5;124mf\u001b[39m\u001b[38;5;124m'\u001b[39m\u001b[38;5;132;01m{\u001b[39;00mfuncname\u001b[38;5;132;01m}\u001b[39;00m\u001b[38;5;124m requires at least \u001b[39m\u001b[38;5;124m'\u001b[39m\n\u001b[1;32m    907\u001b[0m                     \u001b[38;5;124m'\u001b[39m\u001b[38;5;124m1 positional argument\u001b[39m\u001b[38;5;124m'\u001b[39m)\n\u001b[0;32m--> 909\u001b[0m \u001b[38;5;28;01mreturn\u001b[39;00m \u001b[43mdispatch\u001b[49m\u001b[43m(\u001b[49m\u001b[43margs\u001b[49m\u001b[43m[\u001b[49m\u001b[38;5;241;43m0\u001b[39;49m\u001b[43m]\u001b[49m\u001b[38;5;241;43m.\u001b[39;49m\u001b[38;5;18;43m__class__\u001b[39;49m\u001b[43m)\u001b[49m\u001b[43m(\u001b[49m\u001b[38;5;241;43m*\u001b[39;49m\u001b[43margs\u001b[49m\u001b[43m,\u001b[49m\u001b[43m \u001b[49m\u001b[38;5;241;43m*\u001b[39;49m\u001b[38;5;241;43m*\u001b[39;49m\u001b[43mkw\u001b[49m\u001b[43m)\u001b[49m\n",
      "File \u001b[0;32m~/miniconda3/envs/indra_gpt/lib/python3.11/site-packages/outlines/generate/json.py:101\u001b[0m, in \u001b[0;36mjson_openai\u001b[0;34m(model, schema_object, sampler)\u001b[0m\n\u001b[1;32m     99\u001b[0m     format_sequence \u001b[38;5;241m=\u001b[39m \u001b[38;5;28;01mlambda\u001b[39;00m x: pyjson\u001b[38;5;241m.\u001b[39mloads(x)\n\u001b[1;32m    100\u001b[0m \u001b[38;5;28;01melse\u001b[39;00m:\n\u001b[0;32m--> 101\u001b[0m     \u001b[38;5;28;01mraise\u001b[39;00m \u001b[38;5;167;01mValueError\u001b[39;00m(\n\u001b[1;32m    102\u001b[0m         \u001b[38;5;124mf\u001b[39m\u001b[38;5;124m\"\u001b[39m\u001b[38;5;124mCannot parse schema \u001b[39m\u001b[38;5;132;01m{\u001b[39;00mschema_object\u001b[38;5;132;01m}\u001b[39;00m\u001b[38;5;124m. The schema must be either \u001b[39m\u001b[38;5;124m\"\u001b[39m\n\u001b[1;32m    103\u001b[0m         \u001b[38;5;241m+\u001b[39m \u001b[38;5;124m\"\u001b[39m\u001b[38;5;124ma Pydantic object, a function or a string that contains the JSON \u001b[39m\u001b[38;5;124m\"\u001b[39m\n\u001b[1;32m    104\u001b[0m         \u001b[38;5;241m+\u001b[39m \u001b[38;5;124m\"\u001b[39m\u001b[38;5;124mSchema specification\u001b[39m\u001b[38;5;124m\"\u001b[39m\n\u001b[1;32m    105\u001b[0m     )\n\u001b[1;32m    107\u001b[0m \u001b[38;5;66;03m# create copied, patched model with normalized json schema set\u001b[39;00m\n\u001b[1;32m    108\u001b[0m generator \u001b[38;5;241m=\u001b[39m model\u001b[38;5;241m.\u001b[39mnew_with_replacements(\n\u001b[1;32m    109\u001b[0m     response_format\u001b[38;5;241m=\u001b[39m{\n\u001b[1;32m    110\u001b[0m         \u001b[38;5;124m\"\u001b[39m\u001b[38;5;124mtype\u001b[39m\u001b[38;5;124m\"\u001b[39m: \u001b[38;5;124m\"\u001b[39m\u001b[38;5;124mjson_schema\u001b[39m\u001b[38;5;124m\"\u001b[39m,\n\u001b[0;32m   (...)\u001b[0m\n\u001b[1;32m    116\u001b[0m     }\n\u001b[1;32m    117\u001b[0m )\n",
      "\u001b[0;31mValueError\u001b[0m: Cannot parse schema {'$schema': 'http://json-schema.org/draft-06/schema#', 'definitions': {'ModCondition': {'type': 'object', 'description': 'Mutation state of an amino acid position of an Agent.', 'properties': {'mod_type': {'type': 'string', 'description': \"The type of post-translational modification, e.g., 'phosphorylation'. Valid modification types currently include: 'phosphorylation', 'ubiquitination', 'sumoylation', 'hydroxylation', and 'acetylation'. If an invalid modification type is passed an InvalidModTypeError is raised.\"}, 'residue': {'type': 'string', 'description': \"String indicating the modified amino acid, e.g., 'Y' or 'tyrosine'. If None, indicates that the residue at the modification site is unknown or unspecified.\"}, 'position': {'type': 'string', 'description': \"String indicating the position of the modified amino acid, e.g., '202'. If None, indicates that the position is unknown or unspecified.\"}, 'is_modified': {'type': 'boolean', 'description': 'Specifies whether the modification is present or absent. Setting the flag specifies that the Agent with the ModCondition is unmodified at the site.'}}, 'required': ['mod_type', 'is_modified']}, 'MutCondition': {'type': 'object', 'description': 'Mutation state of an amino acid position of an Agent.', 'properties': {'position': {'type': ['string', 'null'], 'description': 'Residue position of the mutation in the protein sequence.'}, 'residue_from': {'type': ['string', 'null'], 'description': 'Wild-type (unmodified) amino acid residue at the given position.'}, 'residue_to': {'type': ['string', 'null'], 'description': 'Amino acid at the position resulting from the mutation.'}}, 'required': ['position', 'residue_from', 'residue_to']}, 'ActivityCondition': {'type': 'object', 'description': 'An active or inactive state of a protein.', 'properties': {'activity_type': {'type': 'string', 'description': \"The type of activity, e.g. 'kinase'. The basic, unspecified molecular activity is represented as 'activity'. Examples of other activity types are 'kinase', 'phosphatase', 'catalytic', 'transcription', etc.\"}, 'is_active': {'type': 'boolean', 'description': 'Specifies whether the given activity type is present or absent.'}}, 'required': ['activity_type', 'is_active']}, 'BoundCondition': {'type': 'object', 'description': 'Identify Agents bound (or not bound) to a given Agent in a given context.', 'properties': {'agent': {'$ref': '#/definitions/Agent'}, 'is_bound': {'type': 'boolean', 'description': 'Specifies whether the given Agent is bound or unbound in the current context.'}}, 'required': ['agent', 'is_bound']}, 'Agent': {'type': 'object', 'description': 'A molecular entity, e.g., a protein.', 'properties': {'name': {'type': 'string', 'description': 'The name of the agent, preferably a canonicalized name such as an HGNC gene name.'}, 'mods': {'type': 'array', 'items': {'$ref': '#/definitions/ModCondition'}, 'description': 'Modification state of the agent.'}, 'mutations': {'type': 'array', 'items': {'$ref': '#/definitions/MutCondition'}, 'description': 'Amino acid mutations of the agent.'}, 'bound_conditions': {'type': 'array', 'items': {'$ref': '#/definitions/BoundCondition'}, 'description': 'Other agents bound to the agent in this context.'}, 'activity': {'$ref': '#/definitions/ActivityCondition', 'description': 'Activity of the agent.'}, 'location': {'type': 'string', 'description': \"Cellular location of the agent. Must be a valid name (e.g. 'nucleus') or identifier (e.g. 'GO:0005634')for a GO cellular compartment.\"}, 'db_refs': {'type': 'object', 'description': 'Dictionary of database identifiers associated with this agent.'}, 'sbo': {'type': 'string', 'description': 'Role of this agent in the systems biology ontology'}}, 'required': ['name', 'db_refs']}, 'Concept': {'type': 'object', 'description': 'A concept/entity of interest that is the argument of a Statement', 'properties': {'name': {'type': 'string', 'description': 'The name of the concept, possibly a canonicalized name.'}, 'db_refs': {'type': 'object', 'description': 'Dictionary of database identifiers associated with this concept.'}}, 'required': ['name', 'db_refs']}, 'Context': {'type': 'object', 'description': 'The context in which a given Statement was reported.', 'properties': {'type': {'type': 'string', 'pattern': '^((bio)|(world))$', 'description': \"Either 'world' or 'bio', depending on the type of context being repersented.\"}}}, 'BioContext': {'type': 'object', 'description': 'The biological context of a Statement.', 'properties': {'type': {'type': 'string', 'pattern': '^bio$', 'description': \"The type of context, in this case 'bio'.\"}, 'location': {'$ref': '#/definitions/RefContext', 'description': 'Cellular location, typically a sub-cellular compartment.'}, 'cell_line': {'$ref': '#/definitions/RefContext', 'description': 'Cell line context, e.g., a specific cell line, like BT20.'}, 'cell_type': {'$ref': '#/definitions/RefContext', 'description': 'Cell type context, broader than a cell line, like macrophage.'}, 'organ': {'$ref': '#/definitions/RefContext', 'description': 'Organ context.'}, 'disease': {'$ref': '#/definitions/RefContext', 'description': 'Disease context.'}, 'species': {'$ref': '#/definitions/RefContext', 'description': 'Species context.'}}}, 'RefContext': {'type': 'object', 'description': 'Represents a context identified by name and grounding references.', 'properties': {'name': {'type': 'string', 'description': 'The name associated with the context.'}, 'db_refs': {'type': 'object', 'description': 'Dictionary of database identifiers associated with this context.'}}}, 'Evidence': {'type': 'object', 'description': 'Container for evidence supporting a given statement.', 'properties': {'source_api': {'type': 'string', 'description': \"String identifying the INDRA API used to capture the statement, e.g., 'trips', 'biopax', 'bel'.\"}, 'pmid': {'type': 'string', 'description': 'String indicating the Pubmed ID of the source of the statement.'}, 'source_id': {'type': 'string', 'description': 'For statements drawn from databases, ID of the database entity corresponding to the statement.'}, 'text': {'type': 'string', 'description': 'Natural language text supporting the statement.'}, 'annotations': {'type': 'object', 'description': 'Dictionary containing additional information on the context of the statement, e.g., species, cell line, tissue type, etc. The entries may vary depending on the source of the information.'}, 'epistemics': {'type': 'object', 'description': 'A dictionary describing various forms of epistemic certainty associated with the statement.'}}}, 'Statement': {'type': 'object', 'description': \"All statement types, below, may have these fields and 'inherit' from this schema\", 'properties': {'evidence': {'type': 'array', 'items': {'$ref': '#/definitions/Evidence'}}, 'id': {'type': 'string', 'description': 'Statement UUID'}, 'supports': {'type': 'array', 'items': {'type': 'string'}}, 'supported_by': {'type': 'array', 'items': {'type': 'string'}}}, 'required': ['id']}, 'Modification': {'description': 'Statement representing the modification of a protein.', 'allOf': [{'$ref': '#/definitions/Statement'}, {'type': 'object', 'properties': {'type': {'type': 'string', 'pattern': '^((Phosphorylation)|(Dephosphorylation)|(Ubiquitination)|(Deubiquitination)|(Sumoylation)|(Desumoylation)|(Hydroxylation)|(Dehydroxylation)|(Acetylation)|(Deacetylation)|(Glycosylation)|(Deglycosylation)|(Farnesylation)|(Defarnesylation)|(Geranylgeranylation)|(Degeranylgeranylation)|(Palmitoylation)|(Depalmitoylation)|(Myristoylation)|(Demyristoylation)|(Ribosylation)|(Deribosylation)|(Methylation)|(Demethylation))$', 'description': 'The type of the statement'}, 'enz': {'$ref': '#/definitions/Agent', 'description': 'The enzyme involved in the modification.'}, 'sub': {'$ref': '#/definitions/Agent', 'description': 'The substrate of the modification.'}, 'residue': {'type': 'string', 'description': 'The amino acid residue being modified, or None if it is unknown or unspecified.'}, 'position': {'type': 'string', 'description': 'The position of the modified amino acid, or None if it is unknown or unspecified.'}}, 'required': ['type']}]}, 'SelfModification': {'description': 'Statement representing the self-modification of a protein.', 'allOf': [{'$ref': '#/definitions/Statement'}, {'type': 'object', 'properties': {'type': {'type': 'string', 'pattern': '^((Autophosphorylation)|(Transphosphorylation))$', 'description': 'The type of the statement'}, 'enz': {'$ref': '#/definitions/Agent', 'description': 'The enzyme involved in the modification.'}, 'residue': {'type': 'string', 'description': 'The amino acid residue being modified, or None if it is unknown or unspecified.'}, 'position': {'type': 'string', 'description': 'The position of the modified amino acid, or None if it is unknown or unspecified.'}}, 'required': ['type']}]}, 'RegulateActivity': {'description': 'Regulation of activity (such as activation and inhibition)', 'allOf': [{'$ref': '#/definitions/Statement'}, {'type': 'object', 'properties': {'type': {'type': 'string', 'pattern': '^((Activation)|(Inhibition))$', 'description': 'The type of the statement'}, 'subj': {'$ref': '#/definitions/Agent', 'description': \"The agent responsible for the change in activity, i.e., the 'upstream' node.\"}, 'obj': {'$ref': '#/definitions/Agent', 'description': \"The agent whose activity is influenced by the subject, i.e., the 'downstream' node.\"}, 'obj_activity': {'type': 'string', 'description': \"The activity of the obj Agent that is affected, e.g., its 'kinase' activity.\"}}, 'required': ['type']}]}, 'ActiveForm': {'description': 'Specifies conditions causing an Agent to be active or inactive. Types of conditions influencing a specific type of biochemical activity can include modifications, bound Agents, and mutations.', 'allOf': [{'$ref': '#/definitions/Statement'}, {'type': 'object', 'properties': {'type': {'type': 'string', 'pattern': '^ActiveForm$', 'description': 'The type of the statement'}, 'agent': {'$ref': '#/definitions/Agent', 'description': 'The Agent in a particular active or inactive state. The sets of ModConditions, BoundConditions, and MutConditions on the given Agent instance indicate the relevant conditions.'}, 'activity': {'type': 'string', 'description': \"The type of activity influenced by the given set of conditions, e.g., 'kinase'.\"}, 'is_active': {'type': 'boolean', 'description': 'Whether the conditions are activating (True) or inactivating (False).'}}, 'required': ['type', 'agent', 'activity']}]}, 'Gef': {'description': 'Exchange of GTP for GDP on a small GTPase protein mediated by a GEF. Represents the generic process by which a guanosine exchange factor (GEF) catalyzes nucleotide exchange on a GTPase protein.', 'allOf': [{'$ref': '#/definitions/Statement'}, {'type': 'object', 'properties': {'type': {'type': 'string', 'pattern': '^Gef$', 'description': 'The type of the statement'}, 'gef': {'$ref': '#/definitions/Agent', 'description': 'The guanosine exchange factor.'}, 'ras': {'$ref': '#/definitions/Agent', 'description': 'The GTPase protein.'}}, 'required': ['type']}]}, 'Gap': {'description': \"Acceleration of a GTPase protein's GTP hydrolysis rate by a GAP. Represents the generic process by which a GTPase activating protein (GAP) catalyzes GTP hydrolysis by a particular small GTPase protein.\", 'allOf': [{'$ref': '#/definitions/Statement'}, {'type': 'object', 'properties': {'type': {'type': 'string', 'pattern': '^Gap$', 'description': 'The type of the statement'}, 'gap': {'$ref': '#/definitions/Agent', 'description': 'The GTPase activating protein.'}, 'ras': {'$ref': '#/definitions/Agent', 'description': 'The GTPase protein.'}}, 'required': ['type']}]}, 'Complex': {'description': 'A set of proteins observed to be in a complex.', 'allOf': [{'$ref': '#/definitions/Statement'}, {'type': 'object', 'properties': {'type': {'type': 'string', 'pattern': '^((Complex)|(Association))$', 'description': 'The type of the statement'}, 'members': {'type': 'array', 'items': {'$ref': '#/definitions/Agent'}}}, 'required': ['type']}]}, 'Association': {'description': 'A set of unordered concepts that are associated with each other.', 'allOf': [{'$ref': '#/definitions/Complex'}]}, 'Translocation': {'description': 'The translocation of a molecular agent from one location to another.', 'allOf': [{'$ref': '#/definitions/Statement'}, {'type': 'object', 'properties': {'type': {'type': 'string', 'pattern': '^Translocation$', 'description': 'The type of the statement'}, 'agent': {'$ref': '#/definitions/Agent', 'description': 'The agent which translocates.'}, 'from_location': {'type': 'string', 'description': \"The location from which the agent translocates. This must be a valid GO cellular component name (e.g. 'cytoplasm') or ID (e.g. 'GO:0005737').\"}, 'to_location': {'type': 'string', 'description': 'The location to which the agent translocates. This must be a valid GO cellular component name or ID.'}}, 'required': ['type', 'agent']}]}, 'RegulateAmount': {'description': 'Represents directed, two-element interactions.', 'allOf': [{'$ref': '#/definitions/Statement'}, {'type': 'object', 'properties': {'type': {'type': 'string', 'pattern': '^((IncreaseAmount)|(DecreaseAmount))$'}, 'subj': {'$ref': '#/definitions/Agent', 'description': 'The mediating protein'}, 'obj': {'$ref': '#/definitions/Agent', 'description': 'The affected protein'}}, 'required': ['type']}]}, 'Conversion': {'description': 'Conversion of molecular species mediated by a controller protein.', 'allOf': [{'$ref': '#/definitions/Statement'}, {'type': 'object', 'properties': {'type': {'type': 'string', 'pattern': '^Conversion$'}, 'subj': {'$ref': '#/definitions/Agent', 'description': 'The protein mediating the conversion.'}, 'obj_from': {'type': 'array', 'items': {'$ref': '#/definitions/Agent'}, 'description': 'The list of molecular species being consumed by the conversion.'}, 'obj_to': {'type': 'array', 'items': {'$ref': '#/definitions/Agent'}, 'description': 'The list of molecular species being created by the conversion.'}}, 'required': ['type']}]}}, 'type': 'array', 'items': {'anyOf': [{'$ref': '#/definitions/RegulateActivity'}, {'$ref': '#/definitions/Modification'}, {'$ref': '#/definitions/SelfModification'}, {'$ref': '#/definitions/ActiveForm'}, {'$ref': '#/definitions/Gef'}, {'$ref': '#/definitions/Gap'}, {'$ref': '#/definitions/Complex'}, {'$ref': '#/definitions/Association'}, {'$ref': '#/definitions/Translocation'}, {'$ref': '#/definitions/RegulateAmount'}]}}. The schema must be either a Pydantic object, a function or a string that contains the JSON Schema specification"
     ]
    }
   ],
   "source": [
    "import outlines\n",
    "\n",
    "# Use OpenAI API instead of local model\n",
    "model = outlines.models.openai(\"gpt-4o\")  # Or \"gpt-4-turbo\" for cheaper API cost\n",
    "# Define generators\n",
    "generator = outlines.generate.json(model, json.dumps(post_processed_schema))\n"
   ]
  },
  {
   "cell_type": "code",
   "execution_count": 6,
   "metadata": {},
   "outputs": [
    {
     "name": "stderr",
     "output_type": "stream",
     "text": [
      "INFO: [2025-02-27 14:24:11] httpx - HTTP Request: POST https://api.openai.com/v1/chat/completions \"HTTP/1.1 200 OK\"\n"
     ]
    }
   ],
   "source": [
    "result = generator(prompt)\n"
   ]
  },
  {
   "cell_type": "code",
   "execution_count": 7,
   "metadata": {},
   "outputs": [
    {
     "name": "stdout",
     "output_type": "stream",
     "text": [
      "{\n",
      "  \"statements\": [\n",
      "    {\n",
      "      \"kind\": \"RegulateAmount\",\n",
      "      \"type\": \"IncreaseAmount\",\n",
      "      \"subj\": {\n",
      "        \"name\": \"BMP\",\n",
      "        \"mods\": [],\n",
      "        \"mutations\": [],\n",
      "        \"bound_conditions\": [],\n",
      "        \"activity\": null,\n",
      "        \"location\": null,\n",
      "        \"db_refs\": {\n",
      "          \"HGNC\": \"BMP\",\n",
      "          \"UP\": null,\n",
      "          \"FPLX\": null,\n",
      "          \"CHEBI\": null,\n",
      "          \"GO\": null,\n",
      "          \"TEXT\": \"BMP\",\n",
      "          \"NCIT\": null\n",
      "        },\n",
      "        \"sbo\": null\n",
      "      },\n",
      "      \"obj\": {\n",
      "        \"name\": \"PTEN\",\n",
      "        \"mods\": [],\n",
      "        \"mutations\": [],\n",
      "        \"bound_conditions\": [],\n",
      "        \"activity\": null,\n",
      "        \"location\": null,\n",
      "        \"db_refs\": {\n",
      "          \"HGNC\": \"PTEN\",\n",
      "          \"UP\": null,\n",
      "          \"FPLX\": null,\n",
      "          \"CHEBI\": null,\n",
      "          \"GO\": null,\n",
      "          \"TEXT\": \"PTEN\",\n",
      "          \"NCIT\": null\n",
      "        },\n",
      "        \"sbo\": null\n",
      "      },\n",
      "      \"evidence\": [\n",
      "        {\n",
      "          \"text\": \"We found that 24 hours of BMP pretreatment caused a doubling in PTEN half-life (15.1 hours to 28.4 hours, p = 0.03, n = 4).\",\n",
      "          \"source_api\": null,\n",
      "          \"pmid\": null,\n",
      "          \"source_id\": null,\n",
      "          \"annotations\": null,\n",
      "          \"epistemics\": {\n",
      "            \"hypothesis\": false,\n",
      "            \"negation\": false\n",
      "          }\n",
      "        }\n",
      "      ],\n",
      "      \"id\": null,\n",
      "      \"supports\": null,\n",
      "      \"supported_by\": null\n",
      "    }\n",
      "  ]\n",
      "}\n"
     ]
    }
   ],
   "source": [
    "print(json.dumps(result, indent=2))\n"
   ]
  },
  {
   "cell_type": "code",
   "execution_count": null,
   "metadata": {},
   "outputs": [
    {
     "name": "stderr",
     "output_type": "stream",
     "text": [
      "INFO: [2025-02-24 09:24:55] indra.preassembler.grounding_mapper.disambiguate - INDRA DB is not available for text content retrieval for grounding disambiguation.\n"
     ]
    }
   ],
   "source": [
    "from indra_gpt.post_process.post_process import PostProcessor\n",
    "\n",
    "pp = PostProcessor()\n",
    "post_processed_statement_json = pp.post_process_extracted_statement_json(result)\n",
    "post_processed_statement_json = post_processed_statement_json['statements']\n",
    "from indra.statements import stmts_from_json\n",
    "\n",
    "statements = stmts_from_json(post_processed_statement_json)\n"
   ]
  },
  {
   "cell_type": "code",
   "execution_count": 8,
   "metadata": {},
   "outputs": [
    {
     "data": {
      "text/plain": [
       "[IncreaseAmount(BMP(), PTEN())]"
      ]
     },
     "execution_count": 8,
     "metadata": {},
     "output_type": "execute_result"
    }
   ],
   "source": [
    "statements\n"
   ]
  },
  {
   "cell_type": "code",
   "execution_count": null,
   "metadata": {},
   "outputs": [
    {
     "name": "stdout",
     "output_type": "stream",
     "text": [
      "{'output': {'statements': [{'kind': 'RegulateAmount', 'type': 'IncreaseAmount', 'subj': {'name': 'BMP', 'mods': None, 'mutations': None, 'bound_conditions': None, 'activity': None, 'location': None, 'db_refs': {'HGNC': None, 'UP': None, 'FPLX': None, 'CHEBI': None, 'GO': None, 'TEXT': 'BMP', 'NCIT': None}, 'sbo': None}, 'obj': {'name': 'PTEN', 'mods': None, 'mutations': None, 'bound_conditions': None, 'activity': None, 'location': None, 'db_refs': {'HGNC': 'HGNC:9588', 'UP': 'P60484', 'FPLX': 'PTEN', 'CHEBI': None, 'GO': None, 'TEXT': 'PTEN', 'NCIT': None}, 'sbo': None}, 'evidence': [{'text': '24 hours of BMP pretreatment caused a doubling in PTEN half-life (15.1 hours to 28.4 hours, p = 0.03, n = 4).', 'source_api': 'experimental', 'pmid': None, 'source_id': None, 'annotations': None, 'epistemics': None}], 'id': None, 'supports': None, 'supported_by': None}]}}\n"
     ]
    }
   ],
   "source": [
    "import boto3\n",
    "import json\n",
    "\n",
    "# Define the SageMaker runtime client\n",
    "sm_runtime = boto3.client(\"sagemaker-runtime\", region_name=\"us-east-2\")\n",
    "\n",
    "endpoint_name = \"outlines-serverless-ep-2025-02-25-19-44-15\"\n",
    "\n",
    "# Example JSON payload\n",
    "payload = {\n",
    "    \"json_schema\": post_processed_schema,\n",
    "    \"prompt\": prompt\n",
    "}\n",
    "\n",
    "# Invoke the endpoint\n",
    "response = sm_runtime.invoke_endpoint(\n",
    "    EndpointName=endpoint_name,\n",
    "    ContentType=\"application/json\",\n",
    "    Body=json.dumps(payload)\n",
    ")\n",
    "\n",
    "# Parse the response\n",
    "result = json.loads(response[\"Body\"].read().decode(\"utf-8\"))\n",
    "print(result)\n"
   ]
  },
  {
   "cell_type": "markdown",
   "metadata": {},
   "source": [
    "### Directly using OpenAI API call"
   ]
  },
  {
   "cell_type": "code",
   "execution_count": 20,
   "metadata": {},
   "outputs": [],
   "source": [
    "response_format={\n",
    "        \"type\": \"json_schema\", \n",
    "        \"json_schema\": {\n",
    "            \"name\": \"indra_statement_json\",\n",
    "            \"strict\": True, \n",
    "            \"schema\": post_processed_schema\n",
    "        }\n",
    "}\n"
   ]
  },
  {
   "cell_type": "code",
   "execution_count": 28,
   "metadata": {},
   "outputs": [
    {
     "name": "stderr",
     "output_type": "stream",
     "text": [
      "INFO: [2025-02-11 18:29:28] httpx - HTTP Request: POST https://api.openai.com/v1/chat/completions \"HTTP/1.1 200 OK\"\n"
     ]
    }
   ],
   "source": [
    "from openai import OpenAI\n",
    "client = OpenAI()\n",
    "completion = client.beta.chat.completions.parse(\n",
    "    model=\"gpt-4o-2024-08-06\",\n",
    "    messages=[\n",
    "        {\"role\": \"system\", \"content\": \"Extract the event information.\"},\n",
    "        {\"role\": \"user\", \"content\": \"We found that 24 hours of BMP pretreatment caused a doubling in PTEN half-life (15.1 hours to 28.4 hours, p = 0.03, n = 4).\"},\n",
    "    ]\n",
    ")\n"
   ]
  },
  {
   "cell_type": "code",
   "execution_count": 16,
   "metadata": {},
   "outputs": [
    {
     "data": {
      "text/plain": [
       "'{\"statements\":[{\"kind\":\"RegulateAmount\",\"type\":\"IncreaseAmount\",\"subj\":{\"name\":\"BMP\",\"mods\":null,\"mutations\":null,\"bound_conditions\":null,\"activity\":null,\"location\":null,\"db_refs\":null,\"sbo\":null},\"obj\":{\"name\":\"PTEN\",\"mods\":null,\"mutations\":null,\"bound_conditions\":null,\"activity\":null,\"location\":null,\"db_refs\":null,\"sbo\":null},\"evidence\":[{\"text\":\"We found that 24 hours of BMP pretreatment caused a doubling in PTEN half-life (15.1 hours to 28.4 hours, p = 0.03, n = 4).\",\"source_api\":null,\"pmid\":null,\"source_id\":null,\"annotations\":null,\"epistemics\":null}],\"id\":null,\"supports\":null,\"supported_by\":null}]}'"
      ]
     },
     "execution_count": 16,
     "metadata": {},
     "output_type": "execute_result"
    }
   ],
   "source": [
    "completion.choices[0].message.content\n"
   ]
  },
  {
   "cell_type": "code",
   "execution_count": 9,
   "metadata": {},
   "outputs": [
    {
     "name": "stdout",
     "output_type": "stream",
     "text": [
      "{\n",
      "    \"statements\": [\n",
      "        {\n",
      "            \"kind\": \"RegulateAmount\",\n",
      "            \"type\": \"IncreaseAmount\",\n",
      "            \"subj\": {\n",
      "                \"name\": \"BMP\",\n",
      "                \"mods\": null,\n",
      "                \"mutations\": null,\n",
      "                \"bound_conditions\": null,\n",
      "                \"activity\": null,\n",
      "                \"location\": null,\n",
      "                \"db_refs\": null,\n",
      "                \"sbo\": null\n",
      "            },\n",
      "            \"obj\": {\n",
      "                \"name\": \"PTEN\",\n",
      "                \"mods\": null,\n",
      "                \"mutations\": null,\n",
      "                \"bound_conditions\": null,\n",
      "                \"activity\": null,\n",
      "                \"location\": null,\n",
      "                \"db_refs\": null,\n",
      "                \"sbo\": null\n",
      "            },\n",
      "            \"evidence\": [\n",
      "                {\n",
      "                    \"text\": \"We found that 24 hours of BMP pretreatment caused a doubling in PTEN half-life (15.1 hours to 28.4 hours, p = 0.03, n = 4).\",\n",
      "                    \"source_api\": null,\n",
      "                    \"pmid\": null,\n",
      "                    \"source_id\": null,\n",
      "                    \"annotations\": null,\n",
      "                    \"epistemics\": null\n",
      "                }\n",
      "            ],\n",
      "            \"id\": null,\n",
      "            \"supports\": null,\n",
      "            \"supported_by\": null\n",
      "        }\n",
      "    ]\n",
      "}\n"
     ]
    }
   ],
   "source": [
    "print(json.dumps(result, indent=4))\n"
   ]
  },
  {
   "cell_type": "markdown",
   "metadata": {},
   "source": [
    "## Apply to benchmark corpus"
   ]
  },
  {
   "cell_type": "code",
   "execution_count": 5,
   "metadata": {},
   "outputs": [],
   "source": [
    "indra_benchmark_corpus_sample_50 = json.load(open(\"/Users/thomaslim/gyorilab/indra_gpt/indra_gpt/resources/indra_benchmark_corpus_sample_50.json\", \"r\"))\n"
   ]
  },
  {
   "cell_type": "code",
   "execution_count": 11,
   "metadata": {},
   "outputs": [],
   "source": [
    "# Assuming indra_benchmark_corpus_all_correct is a list of JSON objects\n",
    "data = [\n",
    "    {\n",
    "        'text': obj['evidence'][0]['text'] if 'evidence' in obj and obj['evidence'] else None,\n",
    "        'original_json_statement': obj\n",
    "    }\n",
    "    for obj in indra_benchmark_corpus_sample_50\n",
    "]\n",
    "\n",
    "# Convert list to DataFrame\n",
    "df = pd.DataFrame(data)\n"
   ]
  },
  {
   "cell_type": "code",
   "execution_count": 12,
   "metadata": {},
   "outputs": [],
   "source": [
    "# Now use the indra.statements.io.stmt_from_json to convert the extracted_statement_json to a list of INDRA statements\n",
    "for i, row in df.iterrows():\n",
    "    try:\n",
    "        indra_statement_from_original = stmts_from_json([row.original_json_statement], on_missing_support='handle')\n",
    "        df.at[i, 'indra_statements_from_original'] = indra_statement_from_original\n",
    "    except Exception as e:\n",
    "        df.at[i, 'indra_statements_from_original'] = str(e)\n"
   ]
  },
  {
   "cell_type": "code",
   "execution_count": 13,
   "metadata": {},
   "outputs": [
    {
     "name": "stderr",
     "output_type": "stream",
     "text": [
      "INFO: [2025-02-11 11:25:07] openai._base_client - Retrying request to /chat/completions in 0.414386 seconds\n"
     ]
    },
    {
     "name": "stderr",
     "output_type": "stream",
     "text": [
      "INFO: [2025-02-11 11:25:31] httpx - HTTP Request: POST https://api.openai.com/v1/chat/completions \"HTTP/1.1 200 OK\"\n",
      "INFO: [2025-02-11 11:25:31] openai._base_client - Retrying request to /chat/completions in 0.464199 seconds\n",
      "INFO: [2025-02-11 11:25:38] httpx - HTTP Request: POST https://api.openai.com/v1/chat/completions \"HTTP/1.1 200 OK\"\n",
      "INFO: [2025-02-11 11:25:38] openai._base_client - Retrying request to /chat/completions in 0.395519 seconds\n",
      "INFO: [2025-02-11 11:25:53] httpx - HTTP Request: POST https://api.openai.com/v1/chat/completions \"HTTP/1.1 200 OK\"\n",
      "INFO: [2025-02-11 11:25:53] openai._base_client - Retrying request to /chat/completions in 0.396036 seconds\n",
      "INFO: [2025-02-11 11:26:17] httpx - HTTP Request: POST https://api.openai.com/v1/chat/completions \"HTTP/1.1 200 OK\"\n",
      "INFO: [2025-02-11 11:26:17] openai._base_client - Retrying request to /chat/completions in 0.412226 seconds\n",
      "INFO: [2025-02-11 11:26:46] httpx - HTTP Request: POST https://api.openai.com/v1/chat/completions \"HTTP/1.1 200 OK\"\n",
      "INFO: [2025-02-11 11:26:46] openai._base_client - Retrying request to /chat/completions in 0.475213 seconds\n",
      "INFO: [2025-02-11 11:27:16] httpx - HTTP Request: POST https://api.openai.com/v1/chat/completions \"HTTP/1.1 200 OK\"\n",
      "INFO: [2025-02-11 11:27:16] openai._base_client - Retrying request to /chat/completions in 0.414239 seconds\n",
      "INFO: [2025-02-11 11:27:28] httpx - HTTP Request: POST https://api.openai.com/v1/chat/completions \"HTTP/1.1 200 OK\"\n",
      "INFO: [2025-02-11 11:27:28] openai._base_client - Retrying request to /chat/completions in 0.420389 seconds\n",
      "INFO: [2025-02-11 11:27:37] httpx - HTTP Request: POST https://api.openai.com/v1/chat/completions \"HTTP/1.1 200 OK\"\n",
      "INFO: [2025-02-11 11:27:37] openai._base_client - Retrying request to /chat/completions in 0.432746 seconds\n",
      "INFO: [2025-02-11 11:27:50] httpx - HTTP Request: POST https://api.openai.com/v1/chat/completions \"HTTP/1.1 200 OK\"\n",
      "INFO: [2025-02-11 11:27:50] openai._base_client - Retrying request to /chat/completions in 0.477403 seconds\n",
      "INFO: [2025-02-11 11:27:55] httpx - HTTP Request: POST https://api.openai.com/v1/chat/completions \"HTTP/1.1 200 OK\"\n",
      "INFO: [2025-02-11 11:27:55] openai._base_client - Retrying request to /chat/completions in 0.378140 seconds\n",
      "INFO: [2025-02-11 11:28:02] httpx - HTTP Request: POST https://api.openai.com/v1/chat/completions \"HTTP/1.1 200 OK\"\n",
      "INFO: [2025-02-11 11:28:02] openai._base_client - Retrying request to /chat/completions in 0.491952 seconds\n",
      "INFO: [2025-02-11 11:28:12] httpx - HTTP Request: POST https://api.openai.com/v1/chat/completions \"HTTP/1.1 200 OK\"\n",
      "INFO: [2025-02-11 11:28:12] openai._base_client - Retrying request to /chat/completions in 0.473731 seconds\n",
      "INFO: [2025-02-11 11:28:20] httpx - HTTP Request: POST https://api.openai.com/v1/chat/completions \"HTTP/1.1 200 OK\"\n",
      "INFO: [2025-02-11 11:28:20] openai._base_client - Retrying request to /chat/completions in 0.420897 seconds\n",
      "INFO: [2025-02-11 11:28:28] httpx - HTTP Request: POST https://api.openai.com/v1/chat/completions \"HTTP/1.1 200 OK\"\n",
      "INFO: [2025-02-11 11:28:28] openai._base_client - Retrying request to /chat/completions in 0.489453 seconds\n",
      "INFO: [2025-02-11 11:28:52] httpx - HTTP Request: POST https://api.openai.com/v1/chat/completions \"HTTP/1.1 200 OK\"\n",
      "INFO: [2025-02-11 11:28:52] openai._base_client - Retrying request to /chat/completions in 0.469331 seconds\n",
      "INFO: [2025-02-11 11:29:04] httpx - HTTP Request: POST https://api.openai.com/v1/chat/completions \"HTTP/1.1 200 OK\"\n",
      "INFO: [2025-02-11 11:29:04] openai._base_client - Retrying request to /chat/completions in 0.438618 seconds\n",
      "INFO: [2025-02-11 11:29:18] httpx - HTTP Request: POST https://api.openai.com/v1/chat/completions \"HTTP/1.1 200 OK\"\n",
      "INFO: [2025-02-11 11:29:18] openai._base_client - Retrying request to /chat/completions in 0.451753 seconds\n",
      "INFO: [2025-02-11 11:29:34] httpx - HTTP Request: POST https://api.openai.com/v1/chat/completions \"HTTP/1.1 200 OK\"\n",
      "INFO: [2025-02-11 11:29:34] openai._base_client - Retrying request to /chat/completions in 0.476815 seconds\n",
      "INFO: [2025-02-11 11:29:45] httpx - HTTP Request: POST https://api.openai.com/v1/chat/completions \"HTTP/1.1 200 OK\"\n",
      "INFO: [2025-02-11 11:29:45] openai._base_client - Retrying request to /chat/completions in 0.411696 seconds\n",
      "INFO: [2025-02-11 11:29:54] httpx - HTTP Request: POST https://api.openai.com/v1/chat/completions \"HTTP/1.1 200 OK\"\n",
      "INFO: [2025-02-11 11:29:54] openai._base_client - Retrying request to /chat/completions in 0.448970 seconds\n",
      "INFO: [2025-02-11 11:30:08] httpx - HTTP Request: POST https://api.openai.com/v1/chat/completions \"HTTP/1.1 200 OK\"\n",
      "INFO: [2025-02-11 11:30:08] openai._base_client - Retrying request to /chat/completions in 0.403195 seconds\n",
      "INFO: [2025-02-11 11:30:41] httpx - HTTP Request: POST https://api.openai.com/v1/chat/completions \"HTTP/1.1 200 OK\"\n",
      "INFO: [2025-02-11 11:30:41] openai._base_client - Retrying request to /chat/completions in 0.456889 seconds\n",
      "INFO: [2025-02-11 11:30:51] httpx - HTTP Request: POST https://api.openai.com/v1/chat/completions \"HTTP/1.1 200 OK\"\n",
      "INFO: [2025-02-11 11:30:51] openai._base_client - Retrying request to /chat/completions in 0.461112 seconds\n",
      "INFO: [2025-02-11 11:30:57] httpx - HTTP Request: POST https://api.openai.com/v1/chat/completions \"HTTP/1.1 200 OK\"\n",
      "INFO: [2025-02-11 11:30:57] openai._base_client - Retrying request to /chat/completions in 0.438096 seconds\n",
      "INFO: [2025-02-11 11:31:11] httpx - HTTP Request: POST https://api.openai.com/v1/chat/completions \"HTTP/1.1 200 OK\"\n",
      "INFO: [2025-02-11 11:31:11] openai._base_client - Retrying request to /chat/completions in 0.428821 seconds\n",
      "INFO: [2025-02-11 11:31:37] httpx - HTTP Request: POST https://api.openai.com/v1/chat/completions \"HTTP/1.1 200 OK\"\n",
      "INFO: [2025-02-11 11:31:37] openai._base_client - Retrying request to /chat/completions in 0.408087 seconds\n",
      "INFO: [2025-02-11 11:32:04] httpx - HTTP Request: POST https://api.openai.com/v1/chat/completions \"HTTP/1.1 200 OK\"\n",
      "INFO: [2025-02-11 11:32:04] openai._base_client - Retrying request to /chat/completions in 0.385943 seconds\n",
      "INFO: [2025-02-11 11:32:10] httpx - HTTP Request: POST https://api.openai.com/v1/chat/completions \"HTTP/1.1 200 OK\"\n",
      "INFO: [2025-02-11 11:32:10] openai._base_client - Retrying request to /chat/completions in 0.457730 seconds\n",
      "INFO: [2025-02-11 11:32:18] httpx - HTTP Request: POST https://api.openai.com/v1/chat/completions \"HTTP/1.1 200 OK\"\n",
      "INFO: [2025-02-11 11:32:18] openai._base_client - Retrying request to /chat/completions in 0.463447 seconds\n",
      "INFO: [2025-02-11 11:32:34] httpx - HTTP Request: POST https://api.openai.com/v1/chat/completions \"HTTP/1.1 200 OK\"\n",
      "INFO: [2025-02-11 11:32:34] openai._base_client - Retrying request to /chat/completions in 0.440441 seconds\n",
      "INFO: [2025-02-11 11:32:40] httpx - HTTP Request: POST https://api.openai.com/v1/chat/completions \"HTTP/1.1 200 OK\"\n",
      "INFO: [2025-02-11 11:32:40] openai._base_client - Retrying request to /chat/completions in 0.410419 seconds\n",
      "INFO: [2025-02-11 11:32:52] httpx - HTTP Request: POST https://api.openai.com/v1/chat/completions \"HTTP/1.1 200 OK\"\n",
      "INFO: [2025-02-11 11:32:52] openai._base_client - Retrying request to /chat/completions in 0.387422 seconds\n",
      "INFO: [2025-02-11 11:33:00] httpx - HTTP Request: POST https://api.openai.com/v1/chat/completions \"HTTP/1.1 200 OK\"\n",
      "INFO: [2025-02-11 11:33:00] openai._base_client - Retrying request to /chat/completions in 0.445662 seconds\n",
      "INFO: [2025-02-11 11:33:16] httpx - HTTP Request: POST https://api.openai.com/v1/chat/completions \"HTTP/1.1 200 OK\"\n",
      "INFO: [2025-02-11 11:33:16] openai._base_client - Retrying request to /chat/completions in 0.428367 seconds\n",
      "INFO: [2025-02-11 11:33:29] httpx - HTTP Request: POST https://api.openai.com/v1/chat/completions \"HTTP/1.1 200 OK\"\n",
      "INFO: [2025-02-11 11:33:29] openai._base_client - Retrying request to /chat/completions in 0.388550 seconds\n",
      "INFO: [2025-02-11 11:33:51] httpx - HTTP Request: POST https://api.openai.com/v1/chat/completions \"HTTP/1.1 200 OK\"\n",
      "INFO: [2025-02-11 11:33:51] openai._base_client - Retrying request to /chat/completions in 0.380461 seconds\n",
      "INFO: [2025-02-11 11:33:59] httpx - HTTP Request: POST https://api.openai.com/v1/chat/completions \"HTTP/1.1 200 OK\"\n",
      "INFO: [2025-02-11 11:33:59] openai._base_client - Retrying request to /chat/completions in 0.441990 seconds\n",
      "INFO: [2025-02-11 11:34:09] httpx - HTTP Request: POST https://api.openai.com/v1/chat/completions \"HTTP/1.1 200 OK\"\n",
      "INFO: [2025-02-11 11:34:09] openai._base_client - Retrying request to /chat/completions in 0.451370 seconds\n",
      "INFO: [2025-02-11 11:34:17] httpx - HTTP Request: POST https://api.openai.com/v1/chat/completions \"HTTP/1.1 200 OK\"\n",
      "INFO: [2025-02-11 11:34:17] openai._base_client - Retrying request to /chat/completions in 0.471131 seconds\n",
      "INFO: [2025-02-11 11:34:33] httpx - HTTP Request: POST https://api.openai.com/v1/chat/completions \"HTTP/1.1 200 OK\"\n",
      "INFO: [2025-02-11 11:34:33] openai._base_client - Retrying request to /chat/completions in 0.412531 seconds\n",
      "INFO: [2025-02-11 11:34:47] httpx - HTTP Request: POST https://api.openai.com/v1/chat/completions \"HTTP/1.1 200 OK\"\n",
      "INFO: [2025-02-11 11:34:47] openai._base_client - Retrying request to /chat/completions in 0.409203 seconds\n",
      "INFO: [2025-02-11 11:34:57] httpx - HTTP Request: POST https://api.openai.com/v1/chat/completions \"HTTP/1.1 200 OK\"\n",
      "INFO: [2025-02-11 11:34:57] openai._base_client - Retrying request to /chat/completions in 0.454420 seconds\n",
      "INFO: [2025-02-11 11:35:19] httpx - HTTP Request: POST https://api.openai.com/v1/chat/completions \"HTTP/1.1 200 OK\"\n",
      "INFO: [2025-02-11 11:35:19] openai._base_client - Retrying request to /chat/completions in 0.468710 seconds\n",
      "INFO: [2025-02-11 11:35:32] httpx - HTTP Request: POST https://api.openai.com/v1/chat/completions \"HTTP/1.1 200 OK\"\n",
      "INFO: [2025-02-11 11:35:32] openai._base_client - Retrying request to /chat/completions in 0.375736 seconds\n",
      "INFO: [2025-02-11 11:35:41] httpx - HTTP Request: POST https://api.openai.com/v1/chat/completions \"HTTP/1.1 200 OK\"\n",
      "INFO: [2025-02-11 11:35:41] openai._base_client - Retrying request to /chat/completions in 0.420785 seconds\n",
      "INFO: [2025-02-11 11:35:47] httpx - HTTP Request: POST https://api.openai.com/v1/chat/completions \"HTTP/1.1 200 OK\"\n",
      "INFO: [2025-02-11 11:35:47] openai._base_client - Retrying request to /chat/completions in 0.481375 seconds\n",
      "INFO: [2025-02-11 11:35:53] httpx - HTTP Request: POST https://api.openai.com/v1/chat/completions \"HTTP/1.1 200 OK\"\n",
      "INFO: [2025-02-11 11:35:53] openai._base_client - Retrying request to /chat/completions in 0.476957 seconds\n",
      "INFO: [2025-02-11 11:36:10] httpx - HTTP Request: POST https://api.openai.com/v1/chat/completions \"HTTP/1.1 200 OK\"\n",
      "INFO: [2025-02-11 11:36:10] openai._base_client - Retrying request to /chat/completions in 0.406294 seconds\n",
      "INFO: [2025-02-11 11:36:20] httpx - HTTP Request: POST https://api.openai.com/v1/chat/completions \"HTTP/1.1 200 OK\"\n"
     ]
    }
   ],
   "source": [
    "# Extract statements\n",
    "for i, row in df.iterrows():\n",
    "    try:\n",
    "        extracted_statement_json = generator(row.text)\n",
    "        df.at[i, 'extracted_statement_json'] = extracted_statement_json['statements']\n",
    "    except Exception as e:\n",
    "        df.at[i, 'extracted_statement_json'] = str(e)\n"
   ]
  },
  {
   "cell_type": "code",
   "execution_count": 14,
   "metadata": {},
   "outputs": [],
   "source": [
    "# Recursively go through each key-value, and if it is an empty string or list or dict, remove the key-value pair\n",
    "def remove_empty_strings_and_lists(d):\n",
    "    for key, value in list(d.items()):\n",
    "        if isinstance(value, dict):\n",
    "            remove_empty_strings_and_lists(value)\n",
    "        elif isinstance(value, list):\n",
    "            for i in value:\n",
    "                if isinstance(i, dict):\n",
    "                    remove_empty_strings_and_lists(i)\n",
    "        if value in [None, \"\", [], {}]:\n",
    "            del d[key]\n",
    "    return d\n"
   ]
  },
  {
   "cell_type": "code",
   "execution_count": 17,
   "metadata": {},
   "outputs": [
    {
     "name": "stderr",
     "output_type": "stream",
     "text": [
      "WARNING: [2025-02-11 11:44:29] indra.statements.agent - Invalid activity type: cytokine production\n",
      "WARNING: [2025-02-11 11:44:29] indra.statements.statements - Agent in ActiveForm should not have ActivityConditions.\n",
      "WARNING: [2025-02-11 11:44:29] indra.statements.statements - Invalid activity type: cytokine production\n",
      "WARNING: [2025-02-11 11:44:29] indra.statements.agent - Invalid activity type: stimulation\n",
      "WARNING: [2025-02-11 11:44:29] indra.statements.statements - Invalid activity type: SM22 promoter activity\n",
      "WARNING: [2025-02-11 11:44:29] indra.statements.agent - Invalid activity type: stimulation\n",
      "WARNING: [2025-02-11 11:44:29] indra.statements.statements - Invalid activity type: SM22 promoter activity\n",
      "WARNING: [2025-02-11 11:44:29] indra.statements.statements - Invalid activity type: induction\n",
      "WARNING: [2025-02-11 11:44:29] indra.statements.statements - Invalid activity type: None\n",
      "WARNING: [2025-02-11 11:44:29] indra.statements.statements - Invalid activity type: None\n",
      "WARNING: [2025-02-11 11:44:29] indra.statements.statements - Invalid activity type: None\n",
      "WARNING: [2025-02-11 11:44:29] indra.statements.statements - Invalid activity type: None\n",
      "WARNING: [2025-02-11 11:44:29] indra.statements.statements - Invalid activity type: None\n",
      "WARNING: [2025-02-11 11:44:29] indra.statements.statements - Invalid activity type: None\n",
      "WARNING: [2025-02-11 11:44:29] indra.statements.statements - Invalid activity type: Autophosphorylation\n",
      "WARNING: [2025-02-11 11:44:29] indra.statements.statements - Invalid activity type: binding\n",
      "WARNING: [2025-02-11 11:44:29] indra.statements.agent - Unknown modification type: ubiquitin\n",
      "WARNING: [2025-02-11 11:44:29] indra.statements.agent - Unknown modification type: ubiquitin\n",
      "WARNING: [2025-02-11 11:44:29] indra.statements.io - Error creating statement: attribute name must be string, not 'NoneType'\n",
      "WARNING: [2025-02-11 11:44:29] indra.statements.statements - Invalid activity type: None\n",
      "WARNING: [2025-02-11 11:44:29] indra.statements.statements - Invalid activity type: expression\n",
      "WARNING: [2025-02-11 11:44:29] indra.statements.statements - Invalid activity type: downstream signaling\n",
      "WARNING: [2025-02-11 11:44:29] indra.statements.statements - Invalid activity type: TMZ Sensitizing\n",
      "WARNING: [2025-02-11 11:44:29] indra.statements.statements - Invalid activity type: phosphorylation\n",
      "WARNING: [2025-02-11 11:44:29] indra.statements.io - Error creating statement: Invalid residue name: 'S28'\n",
      "WARNING: [2025-02-11 11:44:29] indra.statements.statements - Invalid activity type: desilencing\n",
      "WARNING: [2025-02-11 11:44:29] indra.statements.statements - Invalid activity type: binding\n",
      "WARNING: [2025-02-11 11:44:29] indra.statements.statements - Invalid activity type: None\n",
      "WARNING: [2025-02-11 11:44:29] indra.statements.statements - Invalid activity type: None\n",
      "WARNING: [2025-02-11 11:44:29] indra.statements.statements - Invalid activity type: protein stability\n",
      "WARNING: [2025-02-11 11:44:29] indra.statements.statements - Invalid activity type: phosphorylation\n",
      "WARNING: [2025-02-11 11:44:29] indra.statements.statements - Invalid activity type: phosphorylation\n",
      "WARNING: [2025-02-11 11:44:29] indra.statements.statements - Invalid activity type: phosphorylation\n",
      "WARNING: [2025-02-11 11:44:29] indra.statements.statements - Invalid activity type: binding\n",
      "WARNING: [2025-02-11 11:44:29] indra.statements.statements - Invalid activity type: phosphorylation\n",
      "WARNING: [2025-02-11 11:44:29] indra.statements.statements - Invalid activity type: None\n",
      "WARNING: [2025-02-11 11:44:29] indra.statements.statements - Invalid activity type: None\n",
      "WARNING: [2025-02-11 11:44:29] indra.statements.io - Error creating statement: Invalid residue name: 'N/A'\n",
      "WARNING: [2025-02-11 11:44:29] indra.statements.io - Error creating statement: Invalid residue name: 'N/A'\n",
      "WARNING: [2025-02-11 11:44:29] indra.statements.agent - Unknown modification type: Phosphorylation\n",
      "WARNING: [2025-02-11 11:44:29] indra.statements.agent - Unknown modification type: Phosphorylation\n",
      "WARNING: [2025-02-11 11:44:29] indra.statements.io - Error creating statement: attribute name must be string, not 'NoneType'\n"
     ]
    }
   ],
   "source": [
    "# Now ally the indra.statements.io.stmt_from_json to convert the extracted_statement_json to a list of INDRA statements\n",
    "for i, row in df.iterrows():\n",
    "    try:\n",
    "        cleaned = [remove_empty_strings_and_lists(x) for x in row.extracted_statement_json]\n",
    "        indra_statement_from_generated = stmts_from_json(cleaned, on_missing_support='handle')\n",
    "        df.at[i, 'indra_statement_from_generated'] = indra_statement_from_generated\n",
    "    except Exception as e:\n",
    "        df.at[i, 'indra_statement_from_generated'] = str(e)\n"
   ]
  },
  {
   "cell_type": "code",
   "execution_count": 72,
   "metadata": {},
   "outputs": [
    {
     "name": "stdout",
     "output_type": "stream",
     "text": [
      "These HY specific CD8+ T cells produced interferon gamma (IFNG) following peptide stimulation, demonstrating their functional capacity.\n",
      "[Activation(KDM5D(), IFNG())]\n",
      "[ActiveForm(CD8+ T cell(location: extracellular region), cytokine production, True)]\n"
     ]
    }
   ],
   "source": [
    "i = 2\n",
    "print(df.text[i])\n",
    "print(df.indra_statements_from_original[i])\n",
    "print(df.indra_statement_from_generated[i])\n"
   ]
  },
  {
   "cell_type": "markdown",
   "metadata": {},
   "source": [
    "(* There is issue with parsing 'Association' statements because in 'indra.statements.statements' module, line 2263 \n",
    "`members = [Statement._from_json(m) for m in members]` where the dict objects of 'members' is expected to be Statement instead\n",
    "of Agent, and Statement requires 'type' property, but Agent does not have 'type' property, leading to missing key error. Either this line should be changed to `members = [Agent._from_json(m) for m in members]` or the schema should add 'type' field in Agent definition)"
   ]
  }
 ],
 "metadata": {
  "kernelspec": {
   "display_name": "indra_gpt",
   "language": "python",
   "name": "python3"
  },
  "language_info": {
   "codemirror_mode": {
    "name": "ipython",
    "version": 3
   },
   "file_extension": ".py",
   "mimetype": "text/x-python",
   "name": "python",
   "nbconvert_exporter": "python",
   "pygments_lexer": "ipython3",
   "version": "3.11.11"
  }
 },
 "nbformat": 4,
 "nbformat_minor": 2
}
