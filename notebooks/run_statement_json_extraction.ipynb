{
 "cells": [
  {
   "cell_type": "code",
   "execution_count": 210,
   "id": "78a77c60-6ad0-45d3-95be-86ff946eff68",
   "metadata": {},
   "outputs": [
    {
     "data": {
      "text/plain": [
       "'This module contains functions for extracting statements from text by\\nfeeding the full json schema to ChatGPT.'"
      ]
     },
     "execution_count": 210,
     "metadata": {},
     "output_type": "execute_result"
    }
   ],
   "source": [
    "\"\"\"This module contains functions for extracting statements from text by\n",
    "feeding the full json schema to ChatGPT.\"\"\""
   ]
  },
  {
   "cell_type": "code",
   "execution_count": 211,
   "id": "2fc074b8-bd5d-472c-bb4e-6ffd48465345",
   "metadata": {},
   "outputs": [],
   "source": [
    "# import libraries\n",
    "import json\n",
    "import random\n",
    "import pandas as pd\n",
    "from indra.statements.io import stmt_from_json\n",
    "from tqdm import tqdm\n",
    "from tqdm.contrib.logging import logging_redirect_tqdm\n",
    "from indra_gpt.api import run_openai_chat\n",
    "from indra_gpt.constants import JSON_SCHEMA\n",
    "import openai.error\n",
    "from indra.statements import Agent\n",
    "from indra.ontology.standardize import standardize_agent_name\n",
    "from indra.preassembler.grounding_mapper.gilda import ground_statements"
   ]
  },
  {
   "cell_type": "code",
   "execution_count": 212,
   "id": "1db38e71-c20b-4ef6-a6cb-f4fe5f546a23",
   "metadata": {},
   "outputs": [],
   "source": [
    "# import functions\n",
    "from indra_gpt.run_statement_json_extraction import gpt_stmt_json\n",
    "from indra_gpt.run_statement_json_extraction import process_indra_object\n",
    "from indra_gpt.run_statement_json_extraction import gpt_stmt_json"
   ]
  },
  {
   "cell_type": "code",
   "execution_count": 213,
   "id": "1efb73d2-0b96-4aca-b793-fccc25ad22f5",
   "metadata": {},
   "outputs": [
    {
     "data": {
      "text/plain": [
       "'Checking For Accuracy'"
      ]
     },
     "execution_count": 213,
     "metadata": {},
     "output_type": "execute_result"
    }
   ],
   "source": [
    "\"\"\"Checking For Accuracy\"\"\""
   ]
  },
  {
   "cell_type": "code",
   "execution_count": 214,
   "id": "b327a705-af4f-4ee5-a493-96cc6a74b37d",
   "metadata": {},
   "outputs": [],
   "source": [
    "# load dataframe\n",
    "df = pd.read_table(\"statement_json_extraction_results.tsv\")"
   ]
  },
  {
   "cell_type": "code",
   "execution_count": 215,
   "id": "8c263c0d-9ce7-4329-bf20-3c1891b62373",
   "metadata": {},
   "outputs": [],
   "source": [
    "# get original statement json and the statement json from chatGPT\n",
    "original_statement_jsons = [json.loads(sj) for sj in df[\"input\"]]\n",
    "gpt_statement_jsons = [json.loads(sj) for sj in df[\"generated_json_object\"]]"
   ]
  },
  {
   "cell_type": "code",
   "execution_count": 216,
   "id": "820b8b31-97a5-41aa-ac70-0bef111f3f8b",
   "metadata": {},
   "outputs": [
    {
     "name": "stderr",
     "output_type": "stream",
     "text": [
      "WARNING: [2023-09-19 17:15:16] indra.statements.statements - Invalid activity type: acetylation\n",
      "WARNING: [2023-09-19 17:15:16] indra.statements.statements - Invalid activity type: phosphorylation-dependent interaction\n",
      "WARNING: [2023-09-19 17:15:16] indra.statements.statements - Invalid activity type: autoubiquitination\n",
      "WARNING: [2023-09-19 17:15:16] indra.statements.statements - Invalid activity type: None\n",
      "WARNING: [2023-09-19 17:15:16] indra.statements.statements - Invalid activity type: expression\n",
      "WARNING: [2023-09-19 17:15:16] indra.statements.io - Error creating statement: __init__() takes 1 positional argument but 4 were given\n",
      "WARNING: [2023-09-19 17:15:16] indra.statements.statements - Invalid activity type: cytokine production\n",
      "WARNING: [2023-09-19 17:15:16] indra.statements.statements - Invalid activity type: ERK activation\n",
      "WARNING: [2023-09-19 17:15:16] indra.statements.statements - Invalid activity type: uptake\n",
      "WARNING: [2023-09-19 17:15:16] indra.statements.statements - Invalid activity type: nucleosome relaxation\n",
      "WARNING: [2023-09-19 17:15:16] indra.statements.statements - Invalid activity type: activation\n",
      "WARNING: [2023-09-19 17:15:16] indra.statements.statements - Invalid activity type: expression\n",
      "WARNING: [2023-09-19 17:15:16] indra.statements.statements - Invalid activity type: expression\n",
      "WARNING: [2023-09-19 17:15:16] indra.statements.statements - Invalid activity type: non-canonical NF-κB pathway\n",
      "WARNING: [2023-09-19 17:15:16] indra.statements.statements - Invalid activity type: promoter activity\n",
      "WARNING: [2023-09-19 17:15:16] indra.statements.statements - Invalid activity type: None\n"
     ]
    }
   ],
   "source": [
    "# create statement objects from the jsons, skip the ones that can't be loaded\n",
    "original_statements = []\n",
    "gpt_statements = []\n",
    "for og_json, gpt_json in zip(original_statement_jsons, gpt_statement_jsons):\n",
    "    try:\n",
    "        og_stmt = stmt_from_json(og_json)\n",
    "        original_statements.append(og_stmt)\n",
    "\n",
    "        gpt_stmt = stmt_from_json(gpt_json)\n",
    "        gpt_statements.append(gpt_stmt)\n",
    "    except (IndexError, ValueError):\n",
    "        continue"
   ]
  },
  {
   "cell_type": "code",
   "execution_count": 217,
   "id": "9fbf8c4c-cbe9-47de-ba2b-d6e52a9b1bde",
   "metadata": {},
   "outputs": [],
   "source": [
    "# use list of statements to check if chatGPT is correct\n",
    "incorrect_stmt_type = 0\n",
    "incorrect_grounding = 0\n",
    "correct_stmt_type = 0\n",
    "correct_grounding = 0\n",
    "for og_stmt, gpt_stmt in zip(original_statements, gpt_statements):\n",
    "    # compare statement types then db_refs\n",
    "    if type(og_stmt) == type(gpt_stmt):\n",
    "        correct_stmt_type_grounded += 1  # count each correct statement type\n",
    "        og_ns_list = []\n",
    "        og_id_list = []\n",
    "        gpt_ns_list = []\n",
    "        gpt_id_list = []\n",
    "        for og_agent, gpt_agent in zip(og_stmt.real_agent_list(), gpt_stmt.real_agent_list()):\n",
    "    # Do comparison: access the grounding of the agent by calling agent.get_grounding()\n",
    "            og_ns, og_id = og_agent.get_grounding()\n",
    "            gpt_ns, gpt_id = gpt_agent.get_grounding()\n",
    "            og_ns_list.append(og_ns)\n",
    "            og_id_list.append(og_id)\n",
    "            gpt_ns_list.append(gpt_ns)\n",
    "            gpt_id_list.append(gpt_id)\n",
    "        if (og_ns_list,og_id_list) != (gpt_ns_list,gpt_id_list):\n",
    "            incorrect_grounding_grounded+=1\n",
    "        else:\n",
    "            correct_grounding_grounded+=1   \n",
    "    else:\n",
    "      incorrect_stmt_type+=1  # count as incorrect statement type"
   ]
  },
  {
   "cell_type": "code",
   "execution_count": 218,
   "id": "ee8c6db0-4cfa-4a81-8179-d0720638f78d",
   "metadata": {
    "scrolled": true
   },
   "outputs": [
    {
     "name": "stdout",
     "output_type": "stream",
     "text": [
      "35\n",
      "14\n",
      "0\n",
      "70\n"
     ]
    }
   ],
   "source": [
    "print(correct_stmt_type)\n",
    "print(incorrect_stmt_type)\n",
    "print(correct_grounding)\n",
    "print(incorrect_grounding)"
   ]
  },
  {
   "cell_type": "code",
   "execution_count": 219,
   "id": "fbd39ee3-4661-4a2c-988a-9876602b0283",
   "metadata": {},
   "outputs": [],
   "source": [
    "#  send the gpt statements to ground_statements\n",
    "gpt_statements_grounded = ground_statements(gpt_statements)"
   ]
  },
  {
   "cell_type": "code",
   "execution_count": 226,
   "id": "4c81c6b9-33de-4432-8d4d-18548744af6c",
   "metadata": {},
   "outputs": [],
   "source": [
    "# use list of statements to check if chatGPT is correct\n",
    "incorrect_stmt_type_grounded = 0\n",
    "incorrect_grounding_grounded = 0\n",
    "correct_stmt_type_grounded = 0\n",
    "correct_grounding_grounded = 0\n",
    "for og_stmt, gpt_stmt in zip(original_statements, gpt_statements_grounded):\n",
    "    # compare statement types then db_refs\n",
    "    if type(og_stmt) == type(gpt_stmt):\n",
    "        correct_stmt_type_grounded += 1  # count each correct statement type\n",
    "        og_ns_list = []\n",
    "        og_id_list = []\n",
    "        gpt_ns_list = []\n",
    "        gpt_id_list = []\n",
    "        for og_agent, gpt_agent in zip(og_stmt.real_agent_list(), gpt_stmt.real_agent_list()):\n",
    "    # Do comparison: access the grounding of the agent by calling agent.get_grounding()\n",
    "            og_ns, og_id = og_agent.get_grounding()\n",
    "            gpt_ns, gpt_id = gpt_agent.get_grounding()\n",
    "            og_ns_list.append(og_ns)\n",
    "            og_id_list.append(og_id)\n",
    "            gpt_ns_list.append(gpt_ns)\n",
    "            gpt_id_list.append(gpt_id)\n",
    "        if (og_ns_list,og_id_list) != (gpt_ns_list,gpt_id_list):\n",
    "            incorrect_grounding_grounded+=1\n",
    "        else:\n",
    "            correct_grounding_grounded+=1        \n",
    "    else:\n",
    "      incorrect_stmt_type_grounded+=1  # count as incorrect statement type"
   ]
  },
  {
   "cell_type": "code",
   "execution_count": 227,
   "id": "95068e6b-a510-44bf-8ac4-885b96a5a5d0",
   "metadata": {},
   "outputs": [
    {
     "name": "stdout",
     "output_type": "stream",
     "text": [
      "35\n",
      "14\n",
      "0\n",
      "35\n"
     ]
    }
   ],
   "source": [
    "print(correct_stmt_type_grounded)\n",
    "print(incorrect_stmt_type_grounded)\n",
    "print(correct_grounding_grounded)\n",
    "print(incorrect_grounding_grounded)"
   ]
  },
  {
   "cell_type": "code",
   "execution_count": null,
   "id": "60387997-c7c6-4509-9f68-1644846bff51",
   "metadata": {},
   "outputs": [],
   "source": []
  }
 ],
 "metadata": {
  "kernelspec": {
   "display_name": "Python 3 (ipykernel)",
   "language": "python",
   "name": "python3"
  },
  "language_info": {
   "codemirror_mode": {
    "name": "ipython",
    "version": 3
   },
   "file_extension": ".py",
   "mimetype": "text/x-python",
   "name": "python",
   "nbconvert_exporter": "python",
   "pygments_lexer": "ipython3",
   "version": "3.9.17"
  }
 },
 "nbformat": 4,
 "nbformat_minor": 5
}
