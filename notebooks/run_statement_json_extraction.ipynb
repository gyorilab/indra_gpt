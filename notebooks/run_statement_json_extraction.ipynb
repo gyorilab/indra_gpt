{
 "cells": [
  {
   "cell_type": "code",
   "execution_count": 62,
   "id": "78a77c60-6ad0-45d3-95be-86ff946eff68",
   "metadata": {},
   "outputs": [
    {
     "data": {
      "text/plain": [
       "'This module contains functions for extracting statements from text by\\nfeeding the full json schema to ChatGPT.'"
      ]
     },
     "execution_count": 62,
     "metadata": {},
     "output_type": "execute_result"
    }
   ],
   "source": [
    "\"\"\"This module contains functions for extracting statements from text by\n",
    "feeding the full json schema to ChatGPT.\"\"\""
   ]
  },
  {
   "cell_type": "code",
   "execution_count": 63,
   "id": "2fc074b8-bd5d-472c-bb4e-6ffd48465345",
   "metadata": {},
   "outputs": [],
   "source": [
    "# import libraries\n",
    "import json\n",
    "import random\n",
    "import pandas as pd\n",
    "from indra.statements.io import stmt_from_json\n",
    "from tqdm import tqdm\n",
    "from tqdm.contrib.logging import logging_redirect_tqdm\n",
    "from indra_gpt.api import run_openai_chat\n",
    "from indra_gpt.constants import JSON_SCHEMA\n",
    "import openai.error\n",
    "from indra.statements import Agent\n",
    "from indra.ontology.standardize import standardize_agent_name"
   ]
  },
  {
   "cell_type": "code",
   "execution_count": 64,
   "id": "1db38e71-c20b-4ef6-a6cb-f4fe5f546a23",
   "metadata": {},
   "outputs": [],
   "source": [
    "# import functions\n",
    "from indra_gpt.run_statement_json_extraction import gpt_stmt_json\n",
    "from indra_gpt.run_statement_json_extraction import process_indra_object\n",
    "from indra_gpt.run_statement_json_extraction import gpt_stmt_json"
   ]
  },
  {
   "cell_type": "code",
   "execution_count": 65,
   "id": "c4e88482-70b5-4158-a704-9105502aaf7f",
   "metadata": {},
   "outputs": [
    {
     "name": "stderr",
     "output_type": "stream",
     "text": [
      "Extracting:   0%|                                                                                              | 0.00/50.0 [00:00<?, ?statement/s]WARNING: [2023-09-18 16:04:06] indra.statements.statements - Invalid activity type: acetylation\n",
      "Extracting:   4%|███▍                                                                                   | 2.00/50.0 [00:06<02:46, 3.48s/statement]WARNING: [2023-09-18 16:04:13] indra.statements.statements - Invalid activity type: phosphorylation-dependent interaction\n",
      "Extracting:  10%|████████▋                                                                              | 5.00/50.0 [00:16<02:27, 3.29s/statement]WARNING: [2023-09-18 16:04:22] indra.statements.statements - Invalid activity type: autoubiquitination\n",
      "Extracting:  12%|██████████▍                                                                            | 6.00/50.0 [00:20<02:25, 3.32s/statement]WARNING: [2023-09-18 16:04:26] indra.statements.statements - Invalid activity type: None\n",
      "Extracting:  14%|████████████▏                                                                          | 7.00/50.0 [00:24<02:29, 3.48s/statement]WARNING: [2023-09-18 16:04:29] indra.statements.statements - Invalid activity type: expression\n",
      "Extracting:  16%|█████████████▉                                                                         | 8.00/50.0 [00:27<02:19, 3.31s/statement]WARNING: [2023-09-18 16:04:33] indra.statements.io - Error creating statement: __init__() takes 1 positional argument but 4 were given\n",
      "Extracting:  20%|█████████████████▍                                                                     | 10.0/50.0 [00:34<02:18, 3.47s/statement]WARNING: [2023-09-18 16:04:41] indra.statements.statements - Invalid activity type: cytokine production\n",
      "Extracting:  22%|███████████████████▏                                                                   | 11.0/50.0 [00:38<02:23, 3.68s/statement]WARNING: [2023-09-18 16:04:43] indra.statements.statements - Invalid activity type: ERK activation\n",
      "Extracting:  26%|██████████████████████▌                                                                | 13.0/50.0 [00:45<02:12, 3.58s/statement]WARNING: [2023-09-18 16:04:50] indra.statements.statements - Invalid activity type: uptake\n",
      "Extracting:  30%|██████████████████████████                                                             | 15.0/50.0 [00:52<02:05, 3.59s/statement]WARNING: [2023-09-18 16:04:58] indra.statements.statements - Invalid activity type: nucleosome relaxation\n",
      "Extracting:  50%|███████████████████████████████████████████▌                                           | 25.0/50.0 [01:25<01:20, 3.23s/statement]WARNING: [2023-09-18 16:05:32] indra.statements.statements - Invalid activity type: activation\n",
      "Extracting:  62%|█████████████████████████████████████████████████████▉                                 | 31.0/50.0 [01:50<01:16, 4.04s/statement]WARNING: [2023-09-18 16:05:55] indra.statements.statements - Invalid activity type: expression\n",
      "Extracting:  64%|███████████████████████████████████████████████████████▋                               | 32.0/50.0 [01:52<01:06, 3.69s/statement]WARNING: [2023-09-18 16:05:58] indra.statements.statements - Invalid activity type: expression\n",
      "Extracting:  72%|██████████████████████████████████████████████████████████████▋                        | 36.0/50.0 [02:04<00:43, 3.07s/statement]WARNING: [2023-09-18 16:06:09] indra.statements.statements - Invalid activity type: non-canonical NF-κB pathway\n",
      "Extracting:  74%|████████████████████████████████████████████████████████████████▍                      | 37.0/50.0 [02:07<00:37, 2.87s/statement]WARNING: [2023-09-18 16:06:14] indra.statements.statements - Invalid activity type: promoter activity\n",
      "Extracting:  94%|█████████████████████████████████████████████████████████████████████████████████▊     | 47.0/50.0 [02:42<00:10, 3.59s/statement]WARNING: [2023-09-18 16:06:48] indra.statements.statements - Invalid activity type: None\n",
      "Extracting: 100%|███████████████████████████████████████████████████████████████████████████████████████| 50.0/50.0 [02:52<00:00, 3.45s/statement]"
     ]
    },
    {
     "name": "stdout",
     "output_type": "stream",
     "text": [
      "Done.\n"
     ]
    },
    {
     "name": "stderr",
     "output_type": "stream",
     "text": [
      "\n"
     ]
    }
   ],
   "source": [
    "if __name__ == \"__main__\":\n",
    "    main(\"indra_benchmark_corpus_all_correct.json\") # run main function here"
   ]
  },
  {
   "cell_type": "code",
   "execution_count": 148,
   "id": "1efb73d2-0b96-4aca-b793-fccc25ad22f5",
   "metadata": {},
   "outputs": [
    {
     "data": {
      "text/plain": [
       "'Checking For Accuracy'"
      ]
     },
     "execution_count": 148,
     "metadata": {},
     "output_type": "execute_result"
    }
   ],
   "source": [
    "\"\"\"Checking For Accuracy\"\"\""
   ]
  },
  {
   "cell_type": "code",
   "execution_count": 69,
   "id": "8a8d69c8-bb6c-4f18-80e0-d9dc8bd0b24d",
   "metadata": {},
   "outputs": [],
   "source": [
    "df = pd.read_table('statement_json_extraction_results.tsv') # transform tsv file back to dataframe"
   ]
  },
  {
   "cell_type": "code",
   "execution_count": 125,
   "id": "f434c40f-a47c-4297-bdf1-1f2cfdac6fcc",
   "metadata": {},
   "outputs": [
    {
     "name": "stdout",
     "output_type": "stream",
     "text": [
      "Acetylation\n",
      "Acetylation\n",
      "Acetylation\n",
      "Activation\n",
      "Activation\n",
      "Activation\n",
      "Activation\n",
      "Activation\n",
      "Activation\n",
      "Activation\n",
      "Activation\n",
      "Activation\n",
      "Activation\n",
      "Activation\n",
      "Activation\n",
      "Activation\n",
      "Activation\n",
      "Activation\n",
      "Activation\n",
      "Activation\n",
      "Activation\n",
      "Activation\n",
      "Activation\n",
      "Activation\n",
      "Activation\n",
      "Activation\n",
      "Activation\n",
      "Activation\n",
      "Activation\n",
      "Activation\n",
      "Activation\n",
      "Activation\n",
      "Activation\n",
      "Activation\n",
      "Activation\n",
      "Activation\n",
      "Activation\n",
      "Activation\n",
      "Activation\n",
      "Activation\n",
      "Activation\n",
      "Activation\n",
      "Activation\n",
      "Activation\n",
      "Activation\n",
      "Activation\n",
      "Activation\n",
      "Activation\n",
      "Activation\n",
      "Activation\n"
     ]
    }
   ],
   "source": [
    "for ix, row in df.iterrows():\n",
    "    original_stmt_json = json.loads(row.input)\n",
    "    print(original_stmt_json['type'])"
   ]
  },
  {
   "cell_type": "code",
   "execution_count": 144,
   "id": "35c06093-6fc9-4d0e-b72e-f839c330c474",
   "metadata": {},
   "outputs": [
    {
     "data": {
      "text/plain": [
       "'For Output Generated By ChatGPT'"
      ]
     },
     "execution_count": 144,
     "metadata": {},
     "output_type": "execute_result"
    }
   ],
   "source": [
    "\"\"\"For Output Generated By ChatGPT\"\"\""
   ]
  },
  {
   "cell_type": "code",
   "execution_count": 126,
   "id": "c2d3c92c-8dc3-4d99-a948-03669c7b14b3",
   "metadata": {},
   "outputs": [
    {
     "name": "stdout",
     "output_type": "stream",
     "text": [
      "Activation\n",
      "Activation\n",
      "Activation\n",
      "IncreaseAmount\n",
      "Activation\n",
      "Activation\n",
      "Activation\n",
      "Activation\n",
      "RegulateActivity\n",
      "Activation\n",
      "Activation\n",
      "Activation\n",
      "IncreaseAmount\n",
      "Inhibition\n",
      "Activation\n",
      "Activation\n",
      "Activation\n",
      "IncreaseAmount\n",
      "Modification\n",
      "Activation\n",
      "Activation\n",
      "Activation\n",
      "Inhibition\n",
      "Activation\n",
      "Activation\n",
      "Activation\n",
      "Activation\n",
      "Activation\n",
      "Activation\n",
      "Modification\n",
      "Activation\n",
      "Activation\n",
      "Activation\n",
      "Activation\n",
      "Activation\n",
      "Inhibition\n",
      "Activation\n",
      "Inhibition\n",
      "Activation\n",
      "Activation\n",
      "Inhibition\n",
      "Activation\n",
      "Activation\n",
      "Activation\n",
      "Activation\n",
      "Activation\n",
      "Activation\n",
      "Inhibition\n",
      "Activation\n",
      "Activation\n"
     ]
    }
   ],
   "source": [
    "for ix, row in df.iterrows():\n",
    "    gpt_stmt_json = json.loads(row.generated_json_object)\n",
    "    print(gpt_stmt_json['type'])"
   ]
  },
  {
   "cell_type": "code",
   "execution_count": 145,
   "id": "d811aaf7-6cfa-4f6c-8b68-06598544644c",
   "metadata": {},
   "outputs": [
    {
     "data": {
      "text/plain": [
       "'For Inputted JSON Object'"
      ]
     },
     "execution_count": 145,
     "metadata": {},
     "output_type": "execute_result"
    }
   ],
   "source": [
    "\"\"\"For Inputted JSON Object\"\"\""
   ]
  },
  {
   "cell_type": "code",
   "execution_count": 147,
   "id": "1fa9180f-3e1d-44b2-97de-59cba0eb7664",
   "metadata": {},
   "outputs": [
    {
     "name": "stdout",
     "output_type": "stream",
     "text": [
      "OrderedDict([('name', 'C5'), ('db_refs', {'TEXT': 'C5a', 'NCIT': 'C20487', 'UP': 'P01031', 'HGNC': '1331'})])\n",
      "OrderedDict([('name', 'KANSL1'), ('db_refs', {'UP': 'Q7Z3B3', 'HGNC': '24565', 'TEXT': 'MSL1v1'})])\n",
      "OrderedDict([('name', 'EP300'), ('db_refs', {'UP': 'Q09472', 'HGNC': '3373', 'TEXT': 'p300'})])\n",
      "OrderedDict([('name', 'BMP'), ('db_refs', {'FPLX': 'BMP', 'TEXT': 'BMP'})])\n",
      "OrderedDict([('name', 'Caspase'), ('db_refs', {'FPLX': 'Caspase', 'TEXT': 'caspase'})])\n",
      "OrderedDict([('name', 'E3_Ub_ligase'), ('db_refs', {'FPLX': 'E3_Ub_ligase', 'TEXT': 'E3'})])\n",
      "OrderedDict([('name', 'ERK'), ('db_refs', {'FPLX': 'ERK', 'TEXT': 'MAPK'})])\n",
      "OrderedDict([('name', 'IL12'), ('db_refs', {'FPLX': 'IL12', 'TEXT': 'IL-12'})])\n",
      "OrderedDict([('name', 'PDGF'), ('db_refs', {'FPLX': 'PDGF', 'TEXT': 'PDGF'})])\n",
      "OrderedDict([('name', 'TCR'), ('db_refs', {'FPLX': 'TCR', 'TEXT': 'TCR'})])\n",
      "OrderedDict([('name', 'TCR'), ('db_refs', {'FPLX': 'TCR', 'TEXT': 'TCR'})])\n",
      "OrderedDict([('name', 'TGFB'), ('db_refs', {'FPLX': 'TGFB', 'TEXT': 'TGF-β'})])\n",
      "OrderedDict([('name', 'TGFB'), ('db_refs', {'FPLX': 'TGFB', 'TEXT': 'TGF-beta'})])\n",
      "OrderedDict([('name', 'VEGF'), ('db_refs', {'FPLX': 'VEGF', 'TEXT': 'VEGF'})])\n",
      "OrderedDict([('name', 'RHEB'), ('db_refs', {'TEXT': 'RHEB', 'HGNC': '10011', 'UP': 'Q15382', 'NCIT': 'C115284'})])\n",
      "OrderedDict([('name', 'RNF20'), ('db_refs', {'UP': 'Q5VTR2', 'HGNC': '10062', 'TEXT': 'RNF20'})])\n",
      "OrderedDict([('name', 'CXCL12'), ('db_refs', {'TEXT': 'SDF-1', 'UP': 'P48061', 'HGNC': '10672', 'NCIT': 'C28774'})])\n",
      "OrderedDict([('name', 'SP3'), ('db_refs', {'UP': 'Q02447', 'HGNC': '11208', 'TEXT': 'Sp3'})])\n",
      "OrderedDict([('name', 'SQSTM1'), ('db_refs', {'UP': 'Q13501', 'HGNC': '11280', 'TEXT': 'p62'})])\n",
      "OrderedDict([('name', 'SRC'), ('db_refs', {'UP': 'P12931', 'HGNC': '11283', 'TEXT': 'Src'})])\n",
      "OrderedDict([('name', 'SRC'), ('bound_conditions', [OrderedDict([('agent', OrderedDict([('name', 'TLR4'), ('db_refs', {'UP': 'O00206', 'HGNC': '11850', 'TEXT': 'TLR4'})])), ('is_bound', True)])]), ('db_refs', {'UP': 'P12931', 'HGNC': '11283', 'TEXT': 'Src'})])\n",
      "OrderedDict([('name', 'TERT'), ('db_refs', {'UP': 'O14746', 'HGNC': '11730', 'TEXT': 'hTERT'})])\n",
      "OrderedDict([('name', 'TGFB1'), ('db_refs', {'UP': 'P01137', 'HGNC': '11766', 'TEXT': 'TGF-beta1'})])\n",
      "OrderedDict([('name', 'TGFB1'), ('db_refs', {'UP': 'P01137', 'HGNC': '11766', 'TEXT': 'TGF-beta1'})])\n",
      "OrderedDict([('name', 'TIAM1'), ('db_refs', {'UP': 'Q13009', 'HGNC': '11805', 'TEXT': 'Tiam1'})])\n",
      "OrderedDict([('name', 'TLR4'), ('db_refs', {'UP': 'O00206', 'HGNC': '11850', 'TEXT': 'TLR4'})])\n",
      "OrderedDict([('name', 'TNFRSF1B'), ('db_refs', {'UP': 'P20333', 'HGNC': '11917', 'TEXT': 'TNFR-II'})])\n",
      "OrderedDict([('name', 'TNFSF10'), ('db_refs', {'UP': 'P50591', 'HGNC': '11925', 'TEXT': 'TRAIL'})])\n",
      "OrderedDict([('name', 'TXN'), ('db_refs', {'UP': 'P10599', 'HGNC': '12435', 'TEXT': 'Trx1'})])\n",
      "OrderedDict([('name', 'UBE2I'), ('db_refs', {'UP': 'P63279', 'HGNC': '12485', 'TEXT': 'Ubc9'})])\n",
      "OrderedDict([('name', 'VAV3'), ('db_refs', {'TEXT': 'VAV3', 'HGNC': '12659', 'UP': 'Q9UKW4', 'NCIT': 'C52964'})])\n",
      "OrderedDict([('name', 'WNT1'), ('db_refs', {'TEXT': 'WNT1', 'HGNC': '12774', 'UP': 'P04628', 'NCIT': 'C52988'})])\n",
      "OrderedDict([('name', 'YME1L1'), ('db_refs', {'UP': 'Q96TA2', 'TEXT': 'PAMPs', 'HGNC': '12843'})])\n",
      "OrderedDict([('name', 'PINK1'), ('mutations', [OrderedDict([('position', '209'), ('residue_from', 'P'), ('residue_to', 'A')])]), ('db_refs', {'HGNC': '14581', 'UP': 'Q9BXM7', 'TEXT': 'PINK1'})])\n",
      "OrderedDict([('name', 'FBXW7'), ('db_refs', {'UP': 'Q969H0', 'HGNC': '16712', 'TEXT': 'Fbw7'})])\n",
      "OrderedDict([('name', 'NCSTN'), ('db_refs', {'HGNC': '17091', 'UP': 'Q92542', 'TEXT': 'NCSTN'})])\n",
      "OrderedDict([('name', 'EDA2R'), ('db_refs', {'HGNC': '17756', 'UP': 'Q9HAV5', 'TEXT': 'XEDAR'})])\n",
      "OrderedDict([('name', 'FHOD1'), ('db_refs', {'UP': 'Q9Y613', 'HGNC': '17905', 'TEXT': 'FHOD1'})])\n",
      "OrderedDict([('name', 'CYP4Z1'), ('db_refs', {'UP': 'Q86W10', 'HGNC': '20583', 'TEXT': 'CYP4Z1'})])\n",
      "OrderedDict([('name', 'E2F1'), ('db_refs', {'UP': 'Q01094', 'HGNC': '3113', 'TEXT': 'E2F1'})])\n",
      "OrderedDict([('name', 'AGER'), ('db_refs', {'UP': 'Q15109', 'HGNC': '320', 'TEXT': 'RAGE'})])\n",
      "OrderedDict([('name', 'ELN'), ('db_refs', {'UP': 'P15502', 'HGNC': '3327', 'TEXT': 'elastin'})])\n",
      "OrderedDict([('name', 'ERG'), ('db_refs', {'UP': 'P11308', 'HGNC': '3446', 'TEXT': 'Erg'})])\n",
      "OrderedDict([('name', 'GAS6'), ('db_refs', {'UP': 'Q14393', 'TEXT': 'Gas6', 'HGNC': '4168'})])\n",
      "OrderedDict([('name', 'RAPGEF1'), ('db_refs', {'TEXT': 'C3G', 'NCIT': 'C52910', 'HGNC': '4568', 'UP': 'Q13905'})])\n",
      "OrderedDict([('name', 'GZMB'), ('db_refs', {'HGNC': '4709', 'UP': 'P10144', 'TEXT': 'granzyme B'})])\n",
      "OrderedDict([('name', 'HGF'), ('db_refs', {'UP': 'P14210', 'HGNC': '4893', 'TEXT': 'HGF'})])\n",
      "OrderedDict([('name', 'HIF1A'), ('db_refs', {'UP': 'Q16665', 'HGNC': '4910', 'TEXT': 'HIF-1alpha'})])\n",
      "OrderedDict([('name', 'HRG'), ('db_refs', {'UP': 'P04196', 'HGNC': '5181', 'TEXT': 'HRG'})])\n",
      "OrderedDict([('name', 'IFNB1'), ('db_refs', {'UP': 'P01574', 'HGNC': '5434', 'TEXT': 'IFN-β'})])\n"
     ]
    }
   ],
   "source": [
    "for ix, row in df.iterrows():\n",
    "    original_stmt_json = json.loads(row.input)\n",
    "    if original_stmt_json['type'] == 'Acetylation':\n",
    "        enz = Agent._from_json(original_stmt_json['enz'])  # load the agent\n",
    "        print(enz.to_json()) # get db refs\n",
    "    else:\n",
    "        subj = Agent._from_json(original_stmt_json['subj'])  # load the agent\n",
    "        print(subj.to_json()) # get db refs"
   ]
  },
  {
   "cell_type": "code",
   "execution_count": 143,
   "id": "c2f09f4a-cb6f-46ab-8f1d-47a42221f175",
   "metadata": {},
   "outputs": [
    {
     "data": {
      "text/plain": [
       "'For Output Generated By ChatGPT'"
      ]
     },
     "execution_count": 143,
     "metadata": {},
     "output_type": "execute_result"
    }
   ],
   "source": [
    "\"\"\"For Output Generated By ChatGPT\"\"\""
   ]
  },
  {
   "cell_type": "code",
   "execution_count": 141,
   "id": "6ddd4579-ac57-4e8f-8e3f-4758e6bfaa34",
   "metadata": {},
   "outputs": [
    {
     "name": "stdout",
     "output_type": "stream",
     "text": [
      "OrderedDict([('name', 'C5a'), ('db_refs', {'TEXT': 'C5a'})])\n",
      "OrderedDict([('name', 'MOF and MSL1v1 complex'), ('db_refs', {'TEXT': 'MOF and MSL1v1 complex'})])\n",
      "OrderedDict([('name', 'c-Abl'), ('db_refs', {'UP': 'P00519', 'HGNC': '76', 'TEXT': 'c-Abl'})])\n",
      "OrderedDict([('name', 'BMP'), ('db_refs', {'TEXT': 'BMP'})])\n",
      "OrderedDict([('name', 'Caspase'), ('db_refs', {'TEXT': 'caspase'})])\n",
      "OrderedDict([('name', 'hMDMX p60'), ('db_refs', {'TEXT': 'hMDMX p60'})])\n",
      "OrderedDict([('name', 'HGF/c-Met signaling'), ('db_refs', {'TEXT': 'HGF/c-Met signaling'})])\n",
      "OrderedDict([('name', 'IL-18'), ('db_refs', {'TEXT': 'IL-18'})])\n",
      "OrderedDict([('name', 'LRP1'), ('db_refs', {'HGNC': '6693', 'TEXT': 'LRP1'})])\n",
      "OrderedDict([('name', 'TCR'), ('db_refs', {'TEXT': 'TCR'})])\n",
      "OrderedDict([('name', 'TLR2'), ('db_refs', {'TEXT': 'TLR2', 'HGNC': '11850', 'UP': 'O60603', 'NCIT': 'C18079'})])\n",
      "OrderedDict([('name', 'FFA'), ('db_refs', {'TEXT': 'FFA'})])\n",
      "OrderedDict([('name', 'ENTPD1'), ('db_refs', {'TEXT': 'ENTPD1', 'HGNC': '3349', 'UP': 'Q67790'})])\n",
      "OrderedDict([('name', 'VEGF'), ('db_refs', {'TEXT': 'VEGF'})])\n",
      "OrderedDict([('name', 'RHEB'), ('db_refs', {'HGNC': '10005', 'TEXT': 'Rheb'})])\n",
      "OrderedDict([('name', 'RNF20'), ('db_refs', {'HGNC': '10099', 'UP': 'Q8IUQ0', 'TEXT': 'RNF20'})])\n",
      "OrderedDict([('name', 'SDF-1alpha'), ('db_refs', {'TEXT': 'SDF-1alpha'})])\n",
      "OrderedDict([('name', 'Sp1'), ('db_refs', {'HGNC': '11204', 'TEXT': 'Sp1'})])\n",
      "OrderedDict([('name', 'p62'), ('db_refs', {'TEXT': 'p62'})])\n",
      "OrderedDict([('name', 'G-protein coupled receptors'), ('db_refs', {'TEXT': 'G coupled receptors'})])\n",
      "OrderedDict([('name', 'TLR4'), ('db_refs', {'UP': 'O00206', 'HGNC': '11850', 'TEXT': 'TLR4'})])\n",
      "OrderedDict([('name', 'hTERT'), ('db_refs', {'TEXT': 'hTERT'})])\n",
      "OrderedDict([('name', 'Smad2'), ('db_refs', {'HGNC': '6774', 'UP': 'Q15796', 'TEXT': 'Smad2 protein'})])\n",
      "OrderedDict([('name', 'TGF-beta1'), ('db_refs', {'TEXT': 'TGF-beta1'})])\n",
      "OrderedDict([('name', 'TIAM1'), ('db_refs', {'HGNC': '11789', 'TEXT': 'Tiam1'})])\n",
      "OrderedDict([('name', 'TLR4'), ('db_refs', {'TEXT': 'TLR4'})])\n",
      "OrderedDict([('name', 'TNFR2'), ('db_refs', {'TEXT': 'TNFR-II'})])\n",
      "OrderedDict([('name', 'Fas'), ('db_refs', {'HGNC': '11925', 'TEXT': 'Fas'})])\n",
      "OrderedDict([('name', 'TXN'), ('db_refs', {'UP': 'P10599', 'HGNC': '12441', 'TEXT': 'Trx1'})])\n",
      "OrderedDict([('name', 'UBE2I'), ('db_refs', {'HGNC': '12402', 'UP': 'P63279', 'TEXT': 'E2 Ubc9'})])\n",
      "OrderedDict([('name', 'VAV3'), ('db_refs', {'HGNC': '12663', 'TEXT': 'Vav3'})])\n",
      "OrderedDict([('name', 'Wnt1'), ('db_refs', {'HGNC': '12781', 'TEXT': 'Wnt1'})])\n",
      "OrderedDict([('name', 'TLR'), ('db_refs', {'TEXT': 'TLRs'})])\n",
      "OrderedDict([('name', 'PINK1 P209A mutant'), ('db_refs', {'TEXT': 'PINK1 P209A mutant'})])\n",
      "OrderedDict([('name', 'FBXW7'), ('db_refs', {'HGNC': '3607', 'TEXT': 'WT Fbw7'})])\n",
      "OrderedDict([('name', 'NCSTN'), ('db_refs', {'HGNC': '7645', 'TEXT': 'NCSTN'})])\n",
      "OrderedDict([('name', 'XEDAR'), ('db_refs', {'TEXT': 'XEDAR'})])\n",
      "OrderedDict([('name', 'FHOD1'), ('db_refs', {'HGNC': '28935', 'UP': 'Q9H8V3', 'TEXT': 'FHOD1'})])\n",
      "OrderedDict([('name', 'CYP4Z2P'), ('db_refs', {'TEXT': 'CYP4Z2P'})])\n",
      "OrderedDict([('name', 'DRIL1'), ('db_refs', {'TEXT': 'DRIL1'})])\n",
      "OrderedDict([('name', 'RAGE'), ('db_refs', {'TEXT': 'RAGE'})])\n",
      "OrderedDict([('name', 'ELK1'), ('db_refs', {'HGNC': '3349', 'UP': 'P19419', 'TEXT': 'ERK'})])\n",
      "OrderedDict([('name', 'ETS2'), ('db_refs', {'UP': 'P15036', 'HGNC': '3461', 'TEXT': 'Ets2'})])\n",
      "OrderedDict([('name', 'Gas6'), ('db_refs', {'TEXT': 'Gas6'})])\n",
      "OrderedDict([('name', 'C3G'), ('db_refs', {'TEXT': 'C3G'})])\n",
      "OrderedDict([('name', 'granzyme B'), ('db_refs', {'TEXT': 'granzyme B'})])\n",
      "OrderedDict([('name', 'HGF'), ('db_refs', {'TEXT': 'hepatocyte growth factor'})])\n",
      "OrderedDict([('name', 'HIF2A'), ('db_refs', {'HGNC': '4886', 'UP': 'Q99814', 'TEXT': 'HIF-2alpha'})])\n",
      "OrderedDict([('name', 'HRG'), ('db_refs', {'TEXT': 'Heregulin', 'UP': 'Q02297'})])\n",
      "OrderedDict([('name', 'JAK1'), ('db_refs', {'HGNC': '6190', 'TEXT': 'JAK1'})])\n"
     ]
    }
   ],
   "source": [
    "for ix, row in df.iterrows():\n",
    "    gpt_stmt_json = json.loads(row.generated_json_object)\n",
    "    if gpt_stmt_json['type'] == 'Modification':\n",
    "        enz = Agent._from_json(gpt_stmt_json['enz'])  # load the agent\n",
    "        print(enz.to_json()) # get db refs\n",
    "    else:\n",
    "        subj = Agent._from_json(gpt_stmt_json['subj'])  # load the agent\n",
    "        print(subj.to_json()) # get db refs"
   ]
  },
  {
   "cell_type": "code",
   "execution_count": 150,
   "id": "62c13135-2845-4d9f-b003-c42b86f66314",
   "metadata": {},
   "outputs": [
    {
     "data": {
      "text/plain": [
       "'Check Number of Accurate Statement Types'"
      ]
     },
     "execution_count": 150,
     "metadata": {},
     "output_type": "execute_result"
    }
   ],
   "source": [
    "\"\"\"Check Number of Accurate Statement Types\"\"\""
   ]
  },
  {
   "cell_type": "code",
   "execution_count": 153,
   "id": "76f59bac-490c-46ec-a7db-b0c5a79c4934",
   "metadata": {},
   "outputs": [
    {
     "name": "stdout",
     "output_type": "stream",
     "text": [
      "original: Activation generated: Activation\n",
      "original: Activation generated: Activation\n",
      "original: Activation generated: Activation\n",
      "original: Activation generated: Activation\n",
      "original: Activation generated: Activation\n",
      "original: Activation generated: Activation\n",
      "original: Activation generated: Activation\n",
      "original: Activation generated: Activation\n",
      "original: Activation generated: Activation\n",
      "original: Activation generated: Activation\n",
      "original: Activation generated: Activation\n",
      "original: Activation generated: Activation\n",
      "original: Activation generated: Activation\n",
      "original: Activation generated: Activation\n",
      "original: Activation generated: Activation\n",
      "original: Activation generated: Activation\n",
      "original: Activation generated: Activation\n",
      "original: Activation generated: Activation\n",
      "original: Activation generated: Activation\n",
      "original: Activation generated: Activation\n",
      "original: Activation generated: Activation\n",
      "original: Activation generated: Activation\n",
      "original: Activation generated: Activation\n",
      "original: Activation generated: Activation\n",
      "original: Activation generated: Activation\n",
      "original: Activation generated: Activation\n",
      "original: Activation generated: Activation\n",
      "original: Activation generated: Activation\n",
      "original: Activation generated: Activation\n",
      "original: Activation generated: Activation\n",
      "original: Activation generated: Activation\n",
      "original: Activation generated: Activation\n",
      "original: Activation generated: Activation\n",
      "original: Activation generated: Activation\n",
      "original: Activation generated: Activation\n",
      "original: Activation generated: Activation\n",
      "original: Activation generated: Activation\n",
      "original: Activation generated: Activation\n",
      "original: Activation generated: Activation\n",
      "original: Activation generated: Activation\n",
      "original: Activation generated: Activation\n",
      "original: Activation generated: Activation\n",
      "original: Activation generated: Activation\n",
      "original: Activation generated: Activation\n",
      "original: Activation generated: Activation\n",
      "original: Activation generated: Activation\n",
      "original: Activation generated: Activation\n",
      "original: Activation generated: Activation\n",
      "original: Activation generated: Activation\n",
      "original: Activation generated: Activation\n",
      "Number of Correct Statement Types: 50\n"
     ]
    }
   ],
   "source": [
    "counter = 0\n",
    "for ix, row in df.iterrows():\n",
    "    if original_stmt_json['type'] == gpt_stmt_json['type']:\n",
    "        print(\"original: \" + str(original_stmt_json['type']), \"generated: \" + str(gpt_stmt_json['type']))\n",
    "        counter+=1\n",
    "print(\"Number of Correct Statement Types: \" + str(counter))"
   ]
  },
  {
   "cell_type": "code",
   "execution_count": null,
   "id": "d8f36c37-fa84-47ba-86b0-d2e8c7ddae1c",
   "metadata": {},
   "outputs": [],
   "source": []
  }
 ],
 "metadata": {
  "kernelspec": {
   "display_name": "Python 3 (ipykernel)",
   "language": "python",
   "name": "python3"
  },
  "language_info": {
   "codemirror_mode": {
    "name": "ipython",
    "version": 3
   },
   "file_extension": ".py",
   "mimetype": "text/x-python",
   "name": "python",
   "nbconvert_exporter": "python",
   "pygments_lexer": "ipython3",
   "version": "3.9.17"
  }
 },
 "nbformat": 4,
 "nbformat_minor": 5
}
