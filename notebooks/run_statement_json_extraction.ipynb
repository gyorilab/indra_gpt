{
 "cells": [
  {
   "cell_type": "code",
   "execution_count": 62,
   "id": "78a77c60-6ad0-45d3-95be-86ff946eff68",
   "metadata": {},
   "outputs": [
    {
     "data": {
      "text/plain": [
       "'This module contains functions for extracting statements from text by\\nfeeding the full json schema to ChatGPT.'"
      ]
     },
     "execution_count": 62,
     "metadata": {},
     "output_type": "execute_result"
    }
   ],
   "source": [
    "\"\"\"This module contains functions for extracting statements from text by\n",
    "feeding the full json schema to ChatGPT.\"\"\""
   ]
  },
  {
   "cell_type": "code",
   "execution_count": 63,
   "id": "2fc074b8-bd5d-472c-bb4e-6ffd48465345",
   "metadata": {},
   "outputs": [],
   "source": [
    "# import libraries\n",
    "import json\n",
    "import random\n",
    "import pandas as pd\n",
    "from indra.statements.io import stmt_from_json\n",
    "from tqdm import tqdm\n",
    "from tqdm.contrib.logging import logging_redirect_tqdm\n",
    "from indra_gpt.api import run_openai_chat\n",
    "from indra_gpt.constants import JSON_SCHEMA\n",
    "import openai.error\n",
    "from indra.statements import Agent\n",
    "from indra.ontology.standardize import standardize_agent_name"
   ]
  },
  {
   "cell_type": "code",
   "execution_count": 64,
   "id": "1db38e71-c20b-4ef6-a6cb-f4fe5f546a23",
   "metadata": {},
   "outputs": [],
   "source": [
    "# import functions\n",
    "from indra_gpt.run_statement_json_extraction import gpt_stmt_json\n",
    "from indra_gpt.run_statement_json_extraction import process_indra_object\n",
    "from indra_gpt.run_statement_json_extraction import gpt_stmt_json"
   ]
  },
  {
   "cell_type": "code",
   "execution_count": 65,
   "id": "c4e88482-70b5-4158-a704-9105502aaf7f",
   "metadata": {},
   "outputs": [
    {
     "name": "stderr",
     "output_type": "stream",
     "text": [
      "Extracting:   0%|                                                                                              | 0.00/50.0 [00:00<?, ?statement/s]WARNING: [2023-09-18 16:04:06] indra.statements.statements - Invalid activity type: acetylation\n",
      "Extracting:   4%|███▍                                                                                   | 2.00/50.0 [00:06<02:46, 3.48s/statement]WARNING: [2023-09-18 16:04:13] indra.statements.statements - Invalid activity type: phosphorylation-dependent interaction\n",
      "Extracting:  10%|████████▋                                                                              | 5.00/50.0 [00:16<02:27, 3.29s/statement]WARNING: [2023-09-18 16:04:22] indra.statements.statements - Invalid activity type: autoubiquitination\n",
      "Extracting:  12%|██████████▍                                                                            | 6.00/50.0 [00:20<02:25, 3.32s/statement]WARNING: [2023-09-18 16:04:26] indra.statements.statements - Invalid activity type: None\n",
      "Extracting:  14%|████████████▏                                                                          | 7.00/50.0 [00:24<02:29, 3.48s/statement]WARNING: [2023-09-18 16:04:29] indra.statements.statements - Invalid activity type: expression\n",
      "Extracting:  16%|█████████████▉                                                                         | 8.00/50.0 [00:27<02:19, 3.31s/statement]WARNING: [2023-09-18 16:04:33] indra.statements.io - Error creating statement: __init__() takes 1 positional argument but 4 were given\n",
      "Extracting:  20%|█████████████████▍                                                                     | 10.0/50.0 [00:34<02:18, 3.47s/statement]WARNING: [2023-09-18 16:04:41] indra.statements.statements - Invalid activity type: cytokine production\n",
      "Extracting:  22%|███████████████████▏                                                                   | 11.0/50.0 [00:38<02:23, 3.68s/statement]WARNING: [2023-09-18 16:04:43] indra.statements.statements - Invalid activity type: ERK activation\n",
      "Extracting:  26%|██████████████████████▌                                                                | 13.0/50.0 [00:45<02:12, 3.58s/statement]WARNING: [2023-09-18 16:04:50] indra.statements.statements - Invalid activity type: uptake\n",
      "Extracting:  30%|██████████████████████████                                                             | 15.0/50.0 [00:52<02:05, 3.59s/statement]WARNING: [2023-09-18 16:04:58] indra.statements.statements - Invalid activity type: nucleosome relaxation\n",
      "Extracting:  50%|███████████████████████████████████████████▌                                           | 25.0/50.0 [01:25<01:20, 3.23s/statement]WARNING: [2023-09-18 16:05:32] indra.statements.statements - Invalid activity type: activation\n",
      "Extracting:  62%|█████████████████████████████████████████████████████▉                                 | 31.0/50.0 [01:50<01:16, 4.04s/statement]WARNING: [2023-09-18 16:05:55] indra.statements.statements - Invalid activity type: expression\n",
      "Extracting:  64%|███████████████████████████████████████████████████████▋                               | 32.0/50.0 [01:52<01:06, 3.69s/statement]WARNING: [2023-09-18 16:05:58] indra.statements.statements - Invalid activity type: expression\n",
      "Extracting:  72%|██████████████████████████████████████████████████████████████▋                        | 36.0/50.0 [02:04<00:43, 3.07s/statement]WARNING: [2023-09-18 16:06:09] indra.statements.statements - Invalid activity type: non-canonical NF-κB pathway\n",
      "Extracting:  74%|████████████████████████████████████████████████████████████████▍                      | 37.0/50.0 [02:07<00:37, 2.87s/statement]WARNING: [2023-09-18 16:06:14] indra.statements.statements - Invalid activity type: promoter activity\n",
      "Extracting:  94%|█████████████████████████████████████████████████████████████████████████████████▊     | 47.0/50.0 [02:42<00:10, 3.59s/statement]WARNING: [2023-09-18 16:06:48] indra.statements.statements - Invalid activity type: None\n",
      "Extracting: 100%|███████████████████████████████████████████████████████████████████████████████████████| 50.0/50.0 [02:52<00:00, 3.45s/statement]"
     ]
    },
    {
     "name": "stdout",
     "output_type": "stream",
     "text": [
      "Done.\n"
     ]
    },
    {
     "name": "stderr",
     "output_type": "stream",
     "text": [
      "\n"
     ]
    }
   ],
   "source": [
    "if __name__ == \"__main__\":\n",
    "    main(\"indra_benchmark_corpus_all_correct.json\") # run main function here"
   ]
  },
  {
   "cell_type": "code",
   "execution_count": 69,
   "id": "8a8d69c8-bb6c-4f18-80e0-d9dc8bd0b24d",
   "metadata": {},
   "outputs": [],
   "source": [
    "df = pd.read_table('statement_json_extraction_results.tsv') # transform tsv file back to dataframe"
   ]
  },
  {
   "cell_type": "code",
   "execution_count": 77,
   "id": "fde79fbc-de7b-4240-b1ef-5f0baee9dc08",
   "metadata": {},
   "outputs": [
    {
     "data": {
      "text/plain": [
       "'For Output Generated By ChatGPT'"
      ]
     },
     "execution_count": 77,
     "metadata": {},
     "output_type": "execute_result"
    }
   ],
   "source": [
    "\"\"\"For Output Generated By ChatGPT\"\"\""
   ]
  },
  {
   "cell_type": "code",
   "execution_count": 90,
   "id": "db582502-1462-488c-bf36-f3c157ef7584",
   "metadata": {},
   "outputs": [],
   "source": [
    "gen8 = json.loads(df['generated_json_object'][8]) # load the 8th row of outputs column"
   ]
  },
  {
   "cell_type": "code",
   "execution_count": 91,
   "id": "8bbc8855-db9c-4ea5-8672-722175e64156",
   "metadata": {},
   "outputs": [
    {
     "name": "stdout",
     "output_type": "stream",
     "text": [
      "OrderedDict([('name', 'LRP1'), ('db_refs', {'HGNC': '6693', 'TEXT': 'LRP1'})])\n"
     ]
    }
   ],
   "source": [
    "subj = Agent._from_json(gen8['subj'])  # load the agent\n",
    "print(subj.to_json()) # get db refs\n"
   ]
  },
  {
   "cell_type": "code",
   "execution_count": 92,
   "id": "40e8c2dc-2699-43cc-8c38-08e669824ea7",
   "metadata": {},
   "outputs": [
    {
     "name": "stdout",
     "output_type": "stream",
     "text": [
      "OrderedDict([('name', 'LRP1B'), ('db_refs', {'HGNC': '6693', 'TEXT': 'LRP1', 'UP': 'Q9NZR2', 'EGID': '53353'})])\n"
     ]
    }
   ],
   "source": [
    "standardize_agent_name(subj) # standardize the agent name and fix the groundings in db_refs\n",
    "print(subj.to_json())"
   ]
  },
  {
   "cell_type": "code",
   "execution_count": 93,
   "id": "3a1899fa-39b5-45af-8b22-21dfaad334ec",
   "metadata": {},
   "outputs": [
    {
     "data": {
      "text/plain": [
       "'For Inputted JSON Object'"
      ]
     },
     "execution_count": 93,
     "metadata": {},
     "output_type": "execute_result"
    }
   ],
   "source": [
    "\"\"\"For Inputted JSON Object\"\"\""
   ]
  },
  {
   "cell_type": "code",
   "execution_count": 94,
   "id": "84e8ccc9-60e2-4bfb-b1f2-d9d20117bbc0",
   "metadata": {},
   "outputs": [],
   "source": [
    "input8 = json.loads(df['input'][8]) # load the 8th row of outputs column"
   ]
  },
  {
   "cell_type": "code",
   "execution_count": 95,
   "id": "62abab9f-f46a-4660-a0c0-25122a929ab5",
   "metadata": {},
   "outputs": [
    {
     "name": "stdout",
     "output_type": "stream",
     "text": [
      "OrderedDict([('name', 'PDGF'), ('db_refs', {'FPLX': 'PDGF', 'TEXT': 'PDGF'})])\n"
     ]
    }
   ],
   "source": [
    "subj = Agent._from_json(input8['subj'])  # load the agent\n",
    "print(subj.to_json()) # get db refs"
   ]
  },
  {
   "cell_type": "code",
   "execution_count": null,
   "id": "1714b17f-dd9f-4b09-af8c-8fce246831bf",
   "metadata": {},
   "outputs": [],
   "source": []
  },
  {
   "cell_type": "code",
   "execution_count": 125,
   "id": "f434c40f-a47c-4297-bdf1-1f2cfdac6fcc",
   "metadata": {},
   "outputs": [
    {
     "name": "stdout",
     "output_type": "stream",
     "text": [
      "Acetylation\n",
      "Acetylation\n",
      "Acetylation\n",
      "Activation\n",
      "Activation\n",
      "Activation\n",
      "Activation\n",
      "Activation\n",
      "Activation\n",
      "Activation\n",
      "Activation\n",
      "Activation\n",
      "Activation\n",
      "Activation\n",
      "Activation\n",
      "Activation\n",
      "Activation\n",
      "Activation\n",
      "Activation\n",
      "Activation\n",
      "Activation\n",
      "Activation\n",
      "Activation\n",
      "Activation\n",
      "Activation\n",
      "Activation\n",
      "Activation\n",
      "Activation\n",
      "Activation\n",
      "Activation\n",
      "Activation\n",
      "Activation\n",
      "Activation\n",
      "Activation\n",
      "Activation\n",
      "Activation\n",
      "Activation\n",
      "Activation\n",
      "Activation\n",
      "Activation\n",
      "Activation\n",
      "Activation\n",
      "Activation\n",
      "Activation\n",
      "Activation\n",
      "Activation\n",
      "Activation\n",
      "Activation\n",
      "Activation\n",
      "Activation\n"
     ]
    }
   ],
   "source": [
    "for ix, row in df.iterrows():\n",
    "    original_stmt_json = json.loads(row.input)\n",
    "    print(original_stmt_json['type'])"
   ]
  },
  {
   "cell_type": "code",
   "execution_count": 126,
   "id": "c2d3c92c-8dc3-4d99-a948-03669c7b14b3",
   "metadata": {},
   "outputs": [
    {
     "name": "stdout",
     "output_type": "stream",
     "text": [
      "Activation\n",
      "Activation\n",
      "Activation\n",
      "IncreaseAmount\n",
      "Activation\n",
      "Activation\n",
      "Activation\n",
      "Activation\n",
      "RegulateActivity\n",
      "Activation\n",
      "Activation\n",
      "Activation\n",
      "IncreaseAmount\n",
      "Inhibition\n",
      "Activation\n",
      "Activation\n",
      "Activation\n",
      "IncreaseAmount\n",
      "Modification\n",
      "Activation\n",
      "Activation\n",
      "Activation\n",
      "Inhibition\n",
      "Activation\n",
      "Activation\n",
      "Activation\n",
      "Activation\n",
      "Activation\n",
      "Activation\n",
      "Modification\n",
      "Activation\n",
      "Activation\n",
      "Activation\n",
      "Activation\n",
      "Activation\n",
      "Inhibition\n",
      "Activation\n",
      "Inhibition\n",
      "Activation\n",
      "Activation\n",
      "Inhibition\n",
      "Activation\n",
      "Activation\n",
      "Activation\n",
      "Activation\n",
      "Activation\n",
      "Activation\n",
      "Inhibition\n",
      "Activation\n",
      "Activation\n"
     ]
    }
   ],
   "source": [
    "for ix, row in df.iterrows():\n",
    "    gpt_stmt_json = json.loads(row.generated_json_object)\n",
    "    print(gpt_stmt_json['type'])"
   ]
  }
 ],
 "metadata": {
  "kernelspec": {
   "display_name": "Python 3 (ipykernel)",
   "language": "python",
   "name": "python3"
  },
  "language_info": {
   "codemirror_mode": {
    "name": "ipython",
    "version": 3
   },
   "file_extension": ".py",
   "mimetype": "text/x-python",
   "name": "python",
   "nbconvert_exporter": "python",
   "pygments_lexer": "ipython3",
   "version": "3.9.17"
  }
 },
 "nbformat": 4,
 "nbformat_minor": 5
}
