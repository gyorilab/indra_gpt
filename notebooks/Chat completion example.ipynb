{
 "cells": [
  {
   "cell_type": "markdown",
   "id": "0891fd0e",
   "metadata": {},
   "source": [
    "Use chat completeion to extract english statements"
   ]
  },
  {
   "cell_type": "code",
   "execution_count": 7,
   "id": "bdabc3d0",
   "metadata": {},
   "outputs": [
    {
     "data": {
      "text/plain": [
       "('CDC37 inhibits Proteasome.',\n",
       " 'CDC37 silencing promoted the proteasome mediated degradation of kinase clients, suggesting a degradation pathway independent from HSP90 binding.')"
      ]
     },
     "execution_count": 7,
     "metadata": {},
     "output_type": "execute_result"
    }
   ],
   "source": [
    "examples = [(\"CDC37 inhibits Proteasome.\", \"CDC37 silencing promoted the proteasome mediated degradation of kinase clients, suggesting a degradation pathway independent from HSP90 binding.\"),\n",
    "(\"TRAF6 leads to the ubiquitination of IKBKG on K285.\", \"Moreover, we show that mutation of SUMO acceptor sites affects binding of TRAF6 and cIAP1 (D), which interacts inducibly with IKKgamma (H) and ubiquitinates IKKgamma at K285 in cotransfection experiments (D).\"),\n",
    "(\"UTRN increases the amount of SP1.\", \"The previous experiment demonstrated that both Sp1 and Sp3 activate the utrophin transcription in the heterologous SL2 cells.\"),\n",
    "(\"KDM5D activates IFNG.\", \"These HY specific CD8+ T cells produced interferon gamma (IFNG) following peptide stimulation, demonstrating their functional capacity.\"),\n",
    "(\"RPS6KA5 leads to the dephosphorylation of PRC2_complex on S28.\", \"Here, MSK1 targeting also leads to S28 phosphorylation, displacement of PRC1 and PRC2, and gene desilencing.\")]\n",
    "examples[0]"
   ]
  },
  {
   "cell_type": "code",
   "execution_count": 55,
   "id": "7725adbe",
   "metadata": {},
   "outputs": [],
   "source": [
    "# Prompt 1"
   ]
  },
  {
   "cell_type": "code",
   "execution_count": 8,
   "id": "7541bc48",
   "metadata": {
    "scrolled": true
   },
   "outputs": [
    {
     "name": "stdout",
     "output_type": "stream",
     "text": [
      "Extract the relation from this sentence:\n",
      "\"CDC37 silencing promoted the proteasome mediated degradation of kinase clients, suggesting a degradation pathway independent from HSP90 binding.\"\n",
      "===\n",
      "CDC37 inhibits Proteasome.\n",
      "===\n",
      "Extract the relation from this sentence:\n",
      "\"Moreover, we show that mutation of SUMO acceptor sites affects binding of TRAF6 and cIAP1 (D), which interacts inducibly with IKKgamma (H) and ubiquitinates IKKgamma at K285 in cotransfection experiments (D).\"\n",
      "===\n",
      "TRAF6 leads to the ubiquitination of IKBKG on K285.\n",
      "===\n"
     ]
    }
   ],
   "source": [
    "prompt_templ = 'Extract the relation from this sentence:\\n\"{prompt}\"'\n",
    "history = [\n",
    "    {\"role\": \"user\",\n",
    "     \"content\": prompt_templ.format(prompt=examples[0][1])},\n",
    "    {\"role\": \"assistant\",\n",
    "     \"content\": examples[0][0]},\n",
    "    {\"role\": \"user\",\n",
    "     \"content\": prompt_templ.format(prompt=examples[1][1])},\n",
    "    {\"role\": \"assistant\",\n",
    "     \"content\": examples[1][0]}\n",
    "]\n",
    "for chat in history:\n",
    "    print(chat['content'])\n",
    "    print('===')"
   ]
  },
  {
   "cell_type": "code",
   "execution_count": 9,
   "id": "9879f77b",
   "metadata": {
    "scrolled": true
   },
   "outputs": [
    {
     "name": "stdout",
     "output_type": "stream",
     "text": [
      "Extract the relation from this sentence:\n",
      "\"The previous experiment demonstrated that both Sp1 and Sp3 activate the utrophin transcription in the heterologous SL2 cells.\"\n"
     ]
    }
   ],
   "source": [
    "new_prompt = prompt_templ.format(prompt=examples[2][1])\n",
    "true_extraction = examples[2][0]\n",
    "print(new_prompt)"
   ]
  },
  {
   "cell_type": "code",
   "execution_count": 13,
   "id": "3aa26c8f",
   "metadata": {},
   "outputs": [
    {
     "name": "stderr",
     "output_type": "stream",
     "text": [
      "INFO: [2023-08-14 17:10:03] indra_gpt.api - Prompt:\n",
      "-------\n",
      "Extract the relation from this sentence:\n",
      "\"The previous experiment demonstrated that both Sp1 and Sp3 activate the utrophin transcription in the heterologous SL2 cells.\"\n",
      "-------\n",
      "Response:\n",
      "---------\n",
      "{\n",
      "  \"id\": \"chatcmpl-7nZ72DoaJlX4HrkGolBgFGR7CxNfj\",\n",
      "  \"object\": \"chat.completion\",\n",
      "  \"created\": 1692047400,\n",
      "  \"model\": \"gpt-4-0613\",\n",
      "  \"choices\": [\n",
      "    {\n",
      "      \"index\": 0,\n",
      "      \"message\": {\n",
      "        \"role\": \"assistant\",\n",
      "        \"content\": \"Sp1 and Sp3 activate utrophin transcription.\"\n",
      "      },\n",
      "      \"finish_reason\": \"stop\"\n",
      "    }\n",
      "  ],\n",
      "  \"usage\": {\n",
      "    \"prompt_tokens\": 216,\n",
      "    \"completion_tokens\": 11,\n",
      "    \"total_tokens\": 227\n",
      "  }\n",
      "}\n",
      "---------\n",
      "\n",
      "\n"
     ]
    }
   ],
   "source": [
    "from indra_gpt.api import run_openai_chat\n",
    "response = run_openai_chat(prompt=new_prompt, chat_history=history, debug=True, max_tokens=25)"
   ]
  },
  {
   "cell_type": "code",
   "execution_count": 11,
   "id": "87538b82",
   "metadata": {},
   "outputs": [
    {
     "data": {
      "text/plain": [
       "'Sp1 and Sp3 activate utrophin transcription'"
      ]
     },
     "execution_count": 11,
     "metadata": {},
     "output_type": "execute_result"
    }
   ],
   "source": [
    "response"
   ]
  },
  {
   "cell_type": "code",
   "execution_count": 12,
   "id": "cc81cb40",
   "metadata": {},
   "outputs": [
    {
     "data": {
      "text/plain": [
       "'UTRN increases the amount of SP1.'"
      ]
     },
     "execution_count": 12,
     "metadata": {},
     "output_type": "execute_result"
    }
   ],
   "source": [
    "true_extraction"
   ]
  },
  {
   "cell_type": "code",
   "execution_count": 56,
   "id": "b6237e27",
   "metadata": {},
   "outputs": [],
   "source": [
    "# Prompt 2"
   ]
  },
  {
   "cell_type": "code",
   "execution_count": 21,
   "id": "a4338dd6-fc0f-4036-924f-67918339484e",
   "metadata": {},
   "outputs": [
    {
     "name": "stdout",
     "output_type": "stream",
     "text": [
      "What statement does this sentence imply?\n",
      "\"CDC37 silencing promoted the proteasome mediated degradation of kinase clients, suggesting a degradation pathway independent from HSP90 binding.\"\n",
      "===\n",
      "CDC37 inhibits Proteasome.\n",
      "===\n",
      "What statement does this sentence imply?\n",
      "\"Moreover, we show that mutation of SUMO acceptor sites affects binding of TRAF6 and cIAP1 (D), which interacts inducibly with IKKgamma (H) and ubiquitinates IKKgamma at K285 in cotransfection experiments (D).\"\n",
      "===\n",
      "TRAF6 leads to the ubiquitination of IKBKG on K285.\n",
      "===\n"
     ]
    }
   ],
   "source": [
    "prompt_templ = 'What statement does this sentence imply?\\n\"{prompt}\"'\n",
    "history = [\n",
    "    {\"role\": \"user\",\n",
    "     \"content\": prompt_templ.format(prompt=examples[0][1])},\n",
    "    {\"role\": \"assistant\",\n",
    "     \"content\": examples[0][0]},\n",
    "    {\"role\": \"user\",\n",
    "     \"content\": prompt_templ.format(prompt=examples[1][1])},\n",
    "    {\"role\": \"assistant\",\n",
    "     \"content\": examples[1][0]}\n",
    "]\n",
    "for chat in history:\n",
    "    print(chat['content'])\n",
    "    print('===')"
   ]
  },
  {
   "cell_type": "code",
   "execution_count": 22,
   "id": "c6dc2182-c60d-46c0-908b-ddb7ae2601f3",
   "metadata": {
    "scrolled": true
   },
   "outputs": [
    {
     "name": "stdout",
     "output_type": "stream",
     "text": [
      "What statement does this sentence imply?\n",
      "\"The previous experiment demonstrated that both Sp1 and Sp3 activate the utrophin transcription in the heterologous SL2 cells.\"\n"
     ]
    }
   ],
   "source": [
    "new_prompt = prompt_templ.format(prompt=examples[2][1])\n",
    "true_extraction = examples[2][0]\n",
    "print(new_prompt)"
   ]
  },
  {
   "cell_type": "code",
   "execution_count": 42,
   "id": "9b54853e-5a5d-4828-9863-bc780be6c8a6",
   "metadata": {
    "scrolled": true
   },
   "outputs": [
    {
     "name": "stderr",
     "output_type": "stream",
     "text": [
      "INFO: [2023-08-16 09:09:58] indra_gpt.api - Prompt:\n",
      "-------\n",
      "Abbreviate this sentence:\n",
      "\"The previous experiment demonstrated that both Sp1 and Sp3 activate the utrophin transcription in the heterologous SL2 cells.\"\n",
      "-------\n",
      "Response:\n",
      "---------\n",
      "{\n",
      "  \"id\": \"chatcmpl-7oAZYTAAy90EqMOG1tezk4iBmKQsW\",\n",
      "  \"object\": \"chat.completion\",\n",
      "  \"created\": 1692191396,\n",
      "  \"model\": \"gpt-4-0613\",\n",
      "  \"choices\": [\n",
      "    {\n",
      "      \"index\": 0,\n",
      "      \"message\": {\n",
      "        \"role\": \"assistant\",\n",
      "        \"content\": \"Sp1 and Sp3 activate utrophin transcription in SL2 cells.\"\n",
      "      },\n",
      "      \"finish_reason\": \"stop\"\n",
      "    }\n",
      "  ],\n",
      "  \"usage\": {\n",
      "    \"prompt_tokens\": 176,\n",
      "    \"completion_tokens\": 15,\n",
      "    \"total_tokens\": 191\n",
      "  }\n",
      "}\n",
      "---------\n",
      "\n",
      "\n"
     ]
    }
   ],
   "source": [
    "response = run_openai_chat(prompt=new_prompt, chat_history=history, debug=True, max_tokens=25)"
   ]
  },
  {
   "cell_type": "code",
   "execution_count": 44,
   "id": "9f5886b6-6340-485f-977f-da6d9300ac55",
   "metadata": {},
   "outputs": [
    {
     "data": {
      "text/plain": [
       "'Sp1 and Sp3 activate utrophin transcription in SL2 cells'"
      ]
     },
     "execution_count": 44,
     "metadata": {},
     "output_type": "execute_result"
    }
   ],
   "source": [
    "response"
   ]
  },
  {
   "cell_type": "code",
   "execution_count": 45,
   "id": "f3d2d89f-4026-417b-b86d-0bb77db86c9c",
   "metadata": {},
   "outputs": [
    {
     "data": {
      "text/plain": [
       "'UTRN increases the amount of SP1.'"
      ]
     },
     "execution_count": 45,
     "metadata": {},
     "output_type": "execute_result"
    }
   ],
   "source": [
    "true_extraction"
   ]
  },
  {
   "cell_type": "code",
   "execution_count": 58,
   "id": "beed105d-4167-44e7-a4ab-bfe34a72600c",
   "metadata": {},
   "outputs": [],
   "source": [
    "# Prompt 3"
   ]
  },
  {
   "cell_type": "code",
   "execution_count": 26,
   "id": "d4b6fd3d-0a02-4d1b-ab1d-cc9faebe6428",
   "metadata": {},
   "outputs": [
    {
     "name": "stdout",
     "output_type": "stream",
     "text": [
      "Can you please make this sentence simpler so we can use it with rule-based text mining for biomedical relation extraction?\n",
      "\"CDC37 silencing promoted the proteasome mediated degradation of kinase clients, suggesting a degradation pathway independent from HSP90 binding.\"\n",
      "===\n",
      "CDC37 inhibits Proteasome.\n",
      "===\n",
      "Can you please make this sentence simpler so we can use it with rule-based text mining for biomedical relation extraction?\n",
      "\"Moreover, we show that mutation of SUMO acceptor sites affects binding of TRAF6 and cIAP1 (D), which interacts inducibly with IKKgamma (H) and ubiquitinates IKKgamma at K285 in cotransfection experiments (D).\"\n",
      "===\n",
      "TRAF6 leads to the ubiquitination of IKBKG on K285.\n",
      "===\n"
     ]
    }
   ],
   "source": [
    "prompt_templ = 'Can you please make this sentence simpler so we can use it with rule-based text mining for biomedical relation extraction?\\n\"{prompt}\"'\n",
    "history = [\n",
    "    {\"role\": \"user\",\n",
    "     \"content\": prompt_templ.format(prompt=examples[0][1])},\n",
    "    {\"role\": \"assistant\",\n",
    "     \"content\": examples[0][0]},\n",
    "    {\"role\": \"user\",\n",
    "     \"content\": prompt_templ.format(prompt=examples[1][1])},\n",
    "    {\"role\": \"assistant\",\n",
    "     \"content\": examples[1][0]}\n",
    "]\n",
    "for chat in history:\n",
    "    print(chat['content'])\n",
    "    print('===')"
   ]
  },
  {
   "cell_type": "code",
   "execution_count": 27,
   "id": "45e12301-3abb-4473-b6c1-03a5f3ed308a",
   "metadata": {},
   "outputs": [
    {
     "name": "stdout",
     "output_type": "stream",
     "text": [
      "Can you please make this sentence simpler so we can use it with rule-based text mining for biomedical relation extraction?\n",
      "\"The previous experiment demonstrated that both Sp1 and Sp3 activate the utrophin transcription in the heterologous SL2 cells.\"\n"
     ]
    }
   ],
   "source": [
    "new_prompt = prompt_templ.format(prompt=examples[2][1])\n",
    "true_extraction = examples[2][0]\n",
    "print(new_prompt)"
   ]
  },
  {
   "cell_type": "code",
   "execution_count": 46,
   "id": "f1f66d81-c0d5-4aaa-b43f-f493c9aeae21",
   "metadata": {},
   "outputs": [
    {
     "name": "stderr",
     "output_type": "stream",
     "text": [
      "INFO: [2023-08-16 09:10:23] indra_gpt.api - Prompt:\n",
      "-------\n",
      "Abbreviate this sentence:\n",
      "\"The previous experiment demonstrated that both Sp1 and Sp3 activate the utrophin transcription in the heterologous SL2 cells.\"\n",
      "-------\n",
      "Response:\n",
      "---------\n",
      "{\n",
      "  \"id\": \"chatcmpl-7oAZx59Q8MsvBnilyyIHL4VUFIWLH\",\n",
      "  \"object\": \"chat.completion\",\n",
      "  \"created\": 1692191421,\n",
      "  \"model\": \"gpt-4-0613\",\n",
      "  \"choices\": [\n",
      "    {\n",
      "      \"index\": 0,\n",
      "      \"message\": {\n",
      "        \"role\": \"assistant\",\n",
      "        \"content\": \"Prev. experiment showed Sp1 & Sp3 activate utrophin transcription in SL2 cells.\"\n",
      "      },\n",
      "      \"finish_reason\": \"stop\"\n",
      "    }\n",
      "  ],\n",
      "  \"usage\": {\n",
      "    \"prompt_tokens\": 212,\n",
      "    \"completion_tokens\": 19,\n",
      "    \"total_tokens\": 231\n",
      "  }\n",
      "}\n",
      "---------\n",
      "\n",
      "\n"
     ]
    }
   ],
   "source": [
    "response = run_openai_chat(prompt=new_prompt, chat_history=history, debug=True, max_tokens=25)"
   ]
  },
  {
   "cell_type": "code",
   "execution_count": 47,
   "id": "ca97c87d-bf6f-446d-8f33-97439b5e7f79",
   "metadata": {},
   "outputs": [
    {
     "data": {
      "text/plain": [
       "'Prev. experiment showed Sp1 & Sp3 activate utrophin transcription in SL2 cells'"
      ]
     },
     "execution_count": 47,
     "metadata": {},
     "output_type": "execute_result"
    }
   ],
   "source": [
    "response"
   ]
  },
  {
   "cell_type": "code",
   "execution_count": 48,
   "id": "aba8e630-6a71-4e55-8291-56a77582effc",
   "metadata": {},
   "outputs": [
    {
     "data": {
      "text/plain": [
       "'UTRN increases the amount of SP1.'"
      ]
     },
     "execution_count": 48,
     "metadata": {},
     "output_type": "execute_result"
    }
   ],
   "source": [
    "true_extraction"
   ]
  },
  {
   "cell_type": "code",
   "execution_count": 59,
   "id": "e55dcf15-1aa4-4e04-a17c-a27a2c2ad4bf",
   "metadata": {},
   "outputs": [],
   "source": [
    "# Prompt 4"
   ]
  },
  {
   "cell_type": "code",
   "execution_count": 49,
   "id": "4c7e61c3-fac5-4e7f-8f35-5e370a316bbb",
   "metadata": {
    "scrolled": true
   },
   "outputs": [
    {
     "name": "stdout",
     "output_type": "stream",
     "text": [
      "Abbreviate this sentence:\n",
      "\"CDC37 silencing promoted the proteasome mediated degradation of kinase clients, suggesting a degradation pathway independent from HSP90 binding.\"\n",
      "===\n",
      "CDC37 inhibits Proteasome.\n",
      "===\n",
      "Abbreviate this sentence:\n",
      "\"Moreover, we show that mutation of SUMO acceptor sites affects binding of TRAF6 and cIAP1 (D), which interacts inducibly with IKKgamma (H) and ubiquitinates IKKgamma at K285 in cotransfection experiments (D).\"\n",
      "===\n",
      "TRAF6 leads to the ubiquitination of IKBKG on K285.\n",
      "===\n"
     ]
    }
   ],
   "source": [
    "prompt_templ = 'Abbreviate this sentence:\\n\"{prompt}\"'\n",
    "history = [\n",
    "    {\"role\": \"user\",\n",
    "     \"content\": prompt_templ.format(prompt=examples[0][1])},\n",
    "    {\"role\": \"assistant\",\n",
    "     \"content\": examples[0][0]},\n",
    "    {\"role\": \"user\",\n",
    "     \"content\": prompt_templ.format(prompt=examples[1][1])},\n",
    "    {\"role\": \"assistant\",\n",
    "     \"content\": examples[1][0]}\n",
    "]\n",
    "for chat in history:\n",
    "    print(chat['content'])\n",
    "    print('===')"
   ]
  },
  {
   "cell_type": "code",
   "execution_count": 50,
   "id": "dfa760e8-3a0c-4868-bd59-287ae8e08391",
   "metadata": {},
   "outputs": [
    {
     "name": "stdout",
     "output_type": "stream",
     "text": [
      "Abbreviate this sentence:\n",
      "\"The previous experiment demonstrated that both Sp1 and Sp3 activate the utrophin transcription in the heterologous SL2 cells.\"\n"
     ]
    }
   ],
   "source": [
    "new_prompt = prompt_templ.format(prompt=examples[2][1])\n",
    "true_extraction = examples[2][0]\n",
    "print(new_prompt)"
   ]
  },
  {
   "cell_type": "code",
   "execution_count": 52,
   "id": "e6b9a934-eb9d-403d-a03d-c24a2cf99d53",
   "metadata": {},
   "outputs": [
    {
     "name": "stderr",
     "output_type": "stream",
     "text": [
      "INFO: [2023-08-16 09:10:59] indra_gpt.api - Prompt:\n",
      "-------\n",
      "Abbreviate this sentence:\n",
      "\"The previous experiment demonstrated that both Sp1 and Sp3 activate the utrophin transcription in the heterologous SL2 cells.\"\n",
      "-------\n",
      "Response:\n",
      "---------\n",
      "{\n",
      "  \"id\": \"chatcmpl-7oAaWNUogGLs1aHC0va2xYL4WCHcX\",\n",
      "  \"object\": \"chat.completion\",\n",
      "  \"created\": 1692191456,\n",
      "  \"model\": \"gpt-4-0613\",\n",
      "  \"choices\": [\n",
      "    {\n",
      "      \"index\": 0,\n",
      "      \"message\": {\n",
      "        \"role\": \"assistant\",\n",
      "        \"content\": \"Prev. experiment showed Sp1 & Sp3 activate utrophin transcription in SL2 cells.\"\n",
      "      },\n",
      "      \"finish_reason\": \"stop\"\n",
      "    }\n",
      "  ],\n",
      "  \"usage\": {\n",
      "    \"prompt_tokens\": 212,\n",
      "    \"completion_tokens\": 19,\n",
      "    \"total_tokens\": 231\n",
      "  }\n",
      "}\n",
      "---------\n",
      "\n",
      "\n"
     ]
    }
   ],
   "source": [
    "response = run_openai_chat(prompt=new_prompt, chat_history=history, debug=True, max_tokens=25)"
   ]
  },
  {
   "cell_type": "code",
   "execution_count": 53,
   "id": "97148725-fba9-468d-aff4-bff2196222fd",
   "metadata": {},
   "outputs": [
    {
     "data": {
      "text/plain": [
       "'Prev. experiment showed Sp1 & Sp3 activate utrophin transcription in SL2 cells'"
      ]
     },
     "execution_count": 53,
     "metadata": {},
     "output_type": "execute_result"
    }
   ],
   "source": [
    "response"
   ]
  },
  {
   "cell_type": "code",
   "execution_count": 54,
   "id": "360cd393-c300-470b-802d-49b706e23847",
   "metadata": {},
   "outputs": [
    {
     "data": {
      "text/plain": [
       "'UTRN increases the amount of SP1.'"
      ]
     },
     "execution_count": 54,
     "metadata": {},
     "output_type": "execute_result"
    }
   ],
   "source": [
    "true_extraction"
   ]
  },
  {
   "cell_type": "code",
   "execution_count": null,
   "id": "273e083d-61be-4ece-89dc-7f403d242dab",
   "metadata": {},
   "outputs": [],
   "source": []
  },
  {
   "cell_type": "code",
   "execution_count": null,
   "id": "9ac8ad15-0298-4d32-8943-28f70326559b",
   "metadata": {},
   "outputs": [],
   "source": []
  }
 ],
 "metadata": {
  "kernelspec": {
   "display_name": "Python 3 (ipykernel)",
   "language": "python",
   "name": "python3"
  },
  "language_info": {
   "codemirror_mode": {
    "name": "ipython",
    "version": 3
   },
   "file_extension": ".py",
   "mimetype": "text/x-python",
   "name": "python",
   "nbconvert_exporter": "python",
   "pygments_lexer": "ipython3",
   "version": "3.9.8"
  }
 },
 "nbformat": 4,
 "nbformat_minor": 5
}
