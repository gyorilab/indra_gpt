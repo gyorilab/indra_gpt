{
 "cells": [
  {
   "cell_type": "markdown",
   "id": "0891fd0e",
   "metadata": {},
   "source": [
    "Use chat completeion to extract english statements"
   ]
  },
  {
   "cell_type": "code",
   "execution_count": 1,
   "id": "bdabc3d0",
   "metadata": {},
   "outputs": [
    {
     "data": {
      "text/plain": [
       "('CDC37 inhibits Proteasome.',\n",
       " 'CDC37 silencing promoted the proteasome mediated degradation of kinase clients, suggesting a degradation pathway independent from HSP90 binding.')"
      ]
     },
     "execution_count": 1,
     "metadata": {},
     "output_type": "execute_result"
    }
   ],
   "source": [
    "examples = [(\"CDC37 inhibits Proteasome.\", \"CDC37 silencing promoted the proteasome mediated degradation of kinase clients, suggesting a degradation pathway independent from HSP90 binding.\"),\n",
    "(\"TRAF6 leads to the ubiquitination of IKBKG on K285.\", \"Moreover, we show that mutation of SUMO acceptor sites affects binding of TRAF6 and cIAP1 (D), which interacts inducibly with IKKgamma (H) and ubiquitinates IKKgamma at K285 in cotransfection experiments (D).\"),\n",
    "(\"UTRN increases the amount of SP1.\", \"The previous experiment demonstrated that both Sp1 and Sp3 activate the utrophin transcription in the heterologous SL2 cells.\"),\n",
    "(\"KDM5D activates IFNG.\", \"These HY specific CD8+ T cells produced interferon gamma (IFNG) following peptide stimulation, demonstrating their functional capacity.\"),\n",
    "(\"RPS6KA5 leads to the dephosphorylation of PRC2_complex on S28.\", \"Here, MSK1 targeting also leads to S28 phosphorylation, displacement of PRC1 and PRC2, and gene desilencing.\")]\n",
    "examples[0]"
   ]
  },
  {
   "cell_type": "code",
   "execution_count": null,
   "id": "7725adbe",
   "metadata": {},
   "outputs": [],
   "source": []
  },
  {
   "cell_type": "code",
   "execution_count": 2,
   "id": "7541bc48",
   "metadata": {},
   "outputs": [
    {
     "name": "stdout",
     "output_type": "stream",
     "text": [
      "Extract the relation from this sentence:\n",
      "\"CDC37 silencing promoted the proteasome mediated degradation of kinase clients, suggesting a degradation pathway independent from HSP90 binding.\"\n",
      "===\n",
      "CDC37 inhibits Proteasome.\n",
      "===\n",
      "Extract the relation from this sentence:\n",
      "\"Moreover, we show that mutation of SUMO acceptor sites affects binding of TRAF6 and cIAP1 (D), which interacts inducibly with IKKgamma (H) and ubiquitinates IKKgamma at K285 in cotransfection experiments (D).\"\n",
      "===\n",
      "TRAF6 leads to the ubiquitination of IKBKG on K285.\n",
      "===\n"
     ]
    }
   ],
   "source": [
    "prompt_templ = 'Extract the relation from this sentence:\\n\"{prompt}\"'\n",
    "history = [\n",
    "    {\"role\": \"user\",\n",
    "     \"content\": prompt_templ.format(prompt=examples[0][1])},\n",
    "    {\"role\": \"assistant\",\n",
    "     \"content\": examples[0][0]},\n",
    "    {\"role\": \"user\",\n",
    "     \"content\": prompt_templ.format(prompt=examples[1][1])},\n",
    "    {\"role\": \"assistant\",\n",
    "     \"content\": examples[1][0]}\n",
    "]\n",
    "for chat in history:\n",
    "    print(chat['content'])\n",
    "    print('===')"
   ]
  },
  {
   "cell_type": "code",
   "execution_count": 3,
   "id": "9879f77b",
   "metadata": {},
   "outputs": [
    {
     "name": "stdout",
     "output_type": "stream",
     "text": [
      "Extract the relation from this sentence:\n",
      "\"The previous experiment demonstrated that both Sp1 and Sp3 activate the utrophin transcription in the heterologous SL2 cells.\"\n"
     ]
    }
   ],
   "source": [
    "new_prompt = prompt_templ.format(prompt=examples[2][1])\n",
    "true_extraction = examples[2][0]\n",
    "print(new_prompt)"
   ]
  },
  {
   "cell_type": "code",
   "execution_count": 4,
   "id": "3aa26c8f",
   "metadata": {},
   "outputs": [
    {
     "name": "stderr",
     "output_type": "stream",
     "text": [
      "/home/klas/.virtualenvs/py394/lib/python3.9/site-packages/pandas/compat/_optional.py:149: UserWarning: Pandas requires version '2.7.1' or newer of 'numexpr' (version '2.7.0' currently installed).\n",
      "  warnings.warn(msg, UserWarning)\n",
      "INFO: [2023-08-14 10:11:14] indra_gpt.api - Prompt:\n",
      "-------\n",
      "Extract the relation from this sentence:\n",
      "\"The previous experiment demonstrated that both Sp1 and Sp3 activate the utrophin transcription in the heterologous SL2 cells.\"\n",
      "-------\n",
      "Response:\n",
      "---------\n",
      "{\n",
      "  \"choices\": [\n",
      "    {\n",
      "      \"finish_reason\": \"stop\",\n",
      "      \"index\": 0,\n",
      "      \"message\": {\n",
      "        \"content\": \"Sp1 and Sp3 activate utrophin transcription.\",\n",
      "        \"role\": \"assistant\"\n",
      "      }\n",
      "    }\n",
      "  ],\n",
      "  \"created\": 1692033073,\n",
      "  \"id\": \"chatcmpl-7nVNxx7apiWcSzbQN3QwKouKiOEhI\",\n",
      "  \"model\": \"gpt-4-0613\",\n",
      "  \"object\": \"chat.completion\",\n",
      "  \"usage\": {\n",
      "    \"completion_tokens\": 11,\n",
      "    \"prompt_tokens\": 179,\n",
      "    \"total_tokens\": 190\n",
      "  }\n",
      "}\n",
      "---------\n",
      "\n",
      "\n"
     ]
    }
   ],
   "source": [
    "from indra_gpt.api import run_openai_chat\n",
    "response = run_openai_chat(prompt=new_prompt, chat_history=history, debug=True, max_tokens=25)"
   ]
  },
  {
   "cell_type": "code",
   "execution_count": 5,
   "id": "87538b82",
   "metadata": {},
   "outputs": [
    {
     "data": {
      "text/plain": [
       "'Sp1 and Sp3 activate utrophin transcription'"
      ]
     },
     "execution_count": 5,
     "metadata": {},
     "output_type": "execute_result"
    }
   ],
   "source": [
    "response"
   ]
  },
  {
   "cell_type": "code",
   "execution_count": 6,
   "id": "cc81cb40",
   "metadata": {},
   "outputs": [
    {
     "data": {
      "text/plain": [
       "'UTRN increases the amount of SP1.'"
      ]
     },
     "execution_count": 6,
     "metadata": {},
     "output_type": "execute_result"
    }
   ],
   "source": [
    "true_extraction"
   ]
  },
  {
   "cell_type": "code",
   "execution_count": null,
   "id": "b6237e27",
   "metadata": {},
   "outputs": [],
   "source": []
  }
 ],
 "metadata": {
  "kernelspec": {
   "display_name": "Python 3",
   "language": "python",
   "name": "python3"
  },
  "language_info": {
   "codemirror_mode": {
    "name": "ipython",
    "version": 3
   },
   "file_extension": ".py",
   "mimetype": "text/x-python",
   "name": "python",
   "nbconvert_exporter": "python",
   "pygments_lexer": "ipython3",
   "version": "3.9.4"
  }
 },
 "nbformat": 4,
 "nbformat_minor": 5
}
