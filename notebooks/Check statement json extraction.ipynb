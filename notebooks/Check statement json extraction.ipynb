{
 "cells": [
  {
   "cell_type": "code",
   "execution_count": 1,
   "id": "2fc074b8-bd5d-472c-bb4e-6ffd48465345",
   "metadata": {},
   "outputs": [
    {
     "name": "stderr",
     "output_type": "stream",
     "text": [
      "INFO: [2024-07-22 14:23:40] /home/klas/repos/adeft/src/adeft/recognize.py - OneShotRecognizer not available. Extension module for AlignmentBasedScorer is missing\n",
      "WARNING: [2024-07-22 14:23:48] indra_db.databases - Copy utilities unavailable: No module named 'pgcopy'\n"
     ]
    }
   ],
   "source": [
    "# import libraries\n",
    "import json\n",
    "import pandas as pd\n",
    "from indra.statements.io import stmt_from_json\n",
    "from indra.preassembler.grounding_mapper.gilda import ground_statements\n"
   ]
  },
  {
   "cell_type": "markdown",
   "id": "81bd8982-f72b-42b4-bc53-cdc6da5f2867",
   "metadata": {},
   "source": [
    "# Checking For Accuracy"
   ]
  },
  {
   "cell_type": "code",
   "execution_count": 2,
   "id": "b327a705-af4f-4ee5-a493-96cc6a74b37d",
   "metadata": {},
   "outputs": [],
   "source": [
    "# load dataframe\n",
    "from indra_gpt.constants import OUTPUT_DEFAULT\n",
    "df = pd.read_table(OUTPUT_DEFAULT)\n"
   ]
  },
  {
   "cell_type": "code",
   "execution_count": 3,
   "id": "8c263c0d-9ce7-4329-bf20-3c1891b62373",
   "metadata": {},
   "outputs": [],
   "source": [
    "# get original statement json and the statement json from chatGPT\n",
    "original_statement_jsons = [json.loads(sj) for sj in df[\"input\"]]\n",
    "gpt_statement_jsons = [json.loads(sj) for sj in df[\"generated_json_object\"]]\n"
   ]
  },
  {
   "cell_type": "code",
   "execution_count": 4,
   "id": "820b8b31-97a5-41aa-ac70-0bef111f3f8b",
   "metadata": {},
   "outputs": [
    {
     "name": "stderr",
     "output_type": "stream",
     "text": [
      "WARNING: [2024-07-22 14:23:50] indra.statements.statements - Invalid activity type: proliferation\n",
      "WARNING: [2024-07-22 14:23:50] indra.statements.statements - Invalid activity type: phosphorylation\n",
      "WARNING: [2024-07-22 14:23:50] indra.statements.statements - Invalid activity type: ubiquitin ligase activity\n",
      "WARNING: [2024-07-22 14:23:50] indra.statements.statements - Invalid activity type: signaling\n",
      "WARNING: [2024-07-22 14:23:50] indra.statements.io - Error creating statement: 'list' object has no attribute 'get'\n",
      "WARNING: [2024-07-22 14:23:50] indra.statements.statements - Invalid activity type: nucleosome relaxation\n",
      "WARNING: [2024-07-22 14:23:50] indra.statements.statements - Invalid activity type: phosphorylation\n",
      "WARNING: [2024-07-22 14:23:50] indra.statements.statements - Invalid activity type: signaling pathway\n",
      "WARNING: [2024-07-22 14:23:50] indra.statements.io - Error creating statement: Invalid residue name: 'SUMO1'\n",
      "WARNING: [2024-07-22 14:23:50] indra.statements.statements - Invalid activity type: non-genomic activity\n",
      "WARNING: [2024-07-22 14:23:50] indra.statements.statements - Invalid activity type: expression\n",
      "WARNING: [2024-07-22 14:23:50] indra.statements.statements - Invalid activity type: expression of lncRNAs\n",
      "WARNING: [2024-07-22 14:23:50] indra.statements.statements - Invalid activity type: caspase-3 activation\n",
      "WARNING: [2024-07-22 14:23:50] indra.statements.statements - Invalid activity type: promoter activity\n",
      "WARNING: [2024-07-22 14:23:50] indra.statements.statements - Invalid activity type: gelatinase activity\n",
      "WARNING: [2024-07-22 14:23:50] indra.statements.statements - Invalid activity type: promoter activity\n",
      "WARNING: [2024-07-22 14:23:50] indra.statements.statements - Invalid activity type: tyrosine kinase activity\n",
      "WARNING: [2024-07-22 14:23:50] indra.statements.statements - Invalid activity type: caspase activity\n",
      "WARNING: [2024-07-22 14:23:50] indra.statements.io - Error creating statement: 'list' object has no attribute 'get'\n"
     ]
    }
   ],
   "source": [
    "# create statement objects from the jsons, skip the ones that can't be loaded\n",
    "original_statements = []\n",
    "gpt_statements = []\n",
    "for og_json, gpt_json in zip(original_statement_jsons, gpt_statement_jsons):\n",
    "    try:\n",
    "        og_stmt = stmt_from_json(og_json)\n",
    "        original_statements.append(og_stmt)\n",
    "\n",
    "        gpt_stmt = stmt_from_json(gpt_json)\n",
    "        gpt_statements.append(gpt_stmt)\n",
    "    except (IndexError, ValueError):\n",
    "        continue\n",
    "remove_8 = original_statements.pop(8) # remove the one json object which doesn't appear in gpt_statements list due to chatGPT being unable to output a loadable response \n"
   ]
  },
  {
   "cell_type": "code",
   "execution_count": 5,
   "id": "9fbf8c4c-cbe9-47de-ba2b-d6e52a9b1bde",
   "metadata": {},
   "outputs": [],
   "source": [
    "# use list of statements to check if chatGPT is correct\n",
    "incorrect_stmt_type = 0\n",
    "incorrect_grounding = 0\n",
    "correct_stmt_type = 0\n",
    "correct_grounding = 0\n",
    "for og_stmt, gpt_stmt in zip(original_statements, gpt_statements):\n",
    "    # compare statement types\n",
    "    if type(og_stmt) == type(gpt_stmt):\n",
    "        correct_stmt_type += 1  # count each correct statement type\n",
    "        og_ns_list = []\n",
    "        og_id_list = []\n",
    "        gpt_ns_list = []\n",
    "        gpt_id_list = []\n",
    "        for og_agent, gpt_agent in zip(og_stmt.real_agent_list(), gpt_stmt.real_agent_list()):\n",
    "    # get list of agents and access the grounding of each agent by calling agent.get_grounding()\n",
    "            og_ns, og_id = og_agent.get_grounding()\n",
    "            gpt_ns, gpt_id = gpt_agent.get_grounding()\n",
    "            og_ns_list.append(og_ns)\n",
    "            og_id_list.append(og_id)\n",
    "            gpt_ns_list.append(gpt_ns)\n",
    "            gpt_id_list.append(gpt_id)\n",
    "        # compare db_refs\n",
    "        if (og_ns_list,og_id_list) != (gpt_ns_list,gpt_id_list):\n",
    "            incorrect_grounding+=1 # count grounding as incorrect if at least one agent in the lists don't match\n",
    "        else:\n",
    "            correct_grounding+=1 # count grounding as correct if all agents in the list match\n",
    "    else:\n",
    "      incorrect_stmt_type+=1  # count as incorrect statement type if statement types don't match\n"
   ]
  },
  {
   "cell_type": "code",
   "execution_count": 6,
   "id": "ee8c6db0-4cfa-4a81-8179-d0720638f78d",
   "metadata": {
    "scrolled": true
   },
   "outputs": [
    {
     "name": "stdout",
     "output_type": "stream",
     "text": [
      "Number of Correct Statement Types: 33\n",
      "Number of Incorrect Statement Types: 14\n",
      "Number of Correct Statements With Correct Agents: 0\n",
      "Number of Correct Statements With 1+ Incorrect Agents: 33\n"
     ]
    }
   ],
   "source": [
    "print(\"Number of Correct Statement Types: \"+str(correct_stmt_type))\n",
    "print(\"Number of Incorrect Statement Types: \"+str(incorrect_stmt_type))\n",
    "print(\"Number of Correct Statements With Correct Agents: \"+str(correct_grounding))\n",
    "print(\"Number of Correct Statements With 1+ Incorrect Agents: \"+str(incorrect_grounding))\n"
   ]
  },
  {
   "cell_type": "markdown",
   "id": "f39bc5b3-ba73-4685-a302-37363fe98869",
   "metadata": {},
   "source": [
    "#  Try to ground statements"
   ]
  },
  {
   "cell_type": "code",
   "execution_count": 7,
   "id": "9bbab9f7-38d4-41ab-bdda-da4583aa0fb7",
   "metadata": {},
   "outputs": [
    {
     "name": "stderr",
     "output_type": "stream",
     "text": [
      "INFO: [2024-07-22 14:23:50] indra.ontology.bio.ontology - Loading INDRA bio ontology from cache at /home/klas/.indra/bio_ontology/1.34/bio_ontology.pkl\n"
     ]
    }
   ],
   "source": [
    "gpt_statements_grounded = ground_statements(gpt_statements)\n"
   ]
  },
  {
   "cell_type": "code",
   "execution_count": 8,
   "id": "4c81c6b9-33de-4432-8d4d-18548744af6c",
   "metadata": {},
   "outputs": [],
   "source": [
    "# check again after gpt_statements is passed through ground_statements \n",
    "\n",
    "# use list of statements to check if chatGPT is correct\n",
    "incorrect_stmt_type_grounded = 0\n",
    "incorrect_grounding_grounded = 0\n",
    "correct_stmt_type_grounded = 0\n",
    "correct_grounding_grounded = 0\n",
    "for og_stmt, gpt_stmt in zip(original_statements, gpt_statements_grounded):\n",
    "    # compare statement types\n",
    "    if type(og_stmt) == type(gpt_stmt):\n",
    "        correct_stmt_type_grounded += 1  # count each correct statement type\n",
    "        og_ns_list = []\n",
    "        og_id_list = []\n",
    "        gpt_ns_list = []\n",
    "        gpt_id_list = []\n",
    "        for og_agent, gpt_agent in zip(og_stmt.real_agent_list(), gpt_stmt.real_agent_list()):\n",
    "    # get list of agents and access the grounding of each agent by calling agent.get_grounding()\n",
    "            og_ns, og_id = og_agent.get_grounding()\n",
    "            gpt_ns, gpt_id = gpt_agent.get_grounding()\n",
    "            og_ns_list.append(og_ns)\n",
    "            og_id_list.append(og_id)\n",
    "            gpt_ns_list.append(gpt_ns)\n",
    "            gpt_id_list.append(gpt_id)\n",
    "         # compare db_refs\n",
    "        if (og_ns_list,og_id_list) != (gpt_ns_list,gpt_id_list):\n",
    "            incorrect_grounding_grounded+=1 # count grounding as incorrect if at least one agent in the lists don't match\n",
    "        else:\n",
    "            correct_grounding_grounded+=1 # count grounding as correct if all agents in the list match        \n",
    "    else:\n",
    "      incorrect_stmt_type_grounded+=1  # count as incorrect statement type if statement types don't match\n"
   ]
  },
  {
   "cell_type": "code",
   "execution_count": 9,
   "id": "95068e6b-a510-44bf-8ac4-885b96a5a5d0",
   "metadata": {},
   "outputs": [
    {
     "name": "stdout",
     "output_type": "stream",
     "text": [
      "Number of Correct Statement Types: 33\n",
      "Number of Incorrect Statement Types: 14\n",
      "Number of Correct Statements With Correct Agents: 5\n",
      "Number of Correct Statements With 1+ Incorrect Agents: 28\n"
     ]
    }
   ],
   "source": [
    "print(\"Number of Correct Statement Types: \"+str(correct_stmt_type_grounded))\n",
    "print(\"Number of Incorrect Statement Types: \"+str(incorrect_stmt_type_grounded))\n",
    "print(\"Number of Correct Statements With Correct Agents: \"+str(correct_grounding_grounded))\n",
    "print(\"Number of Correct Statements With 1+ Incorrect Agents: \"+str(incorrect_grounding_grounded))\n"
   ]
  },
  {
   "cell_type": "code",
   "execution_count": null,
   "id": "74224fff-f6a1-41f6-9e6d-1667deed645c",
   "metadata": {},
   "outputs": [],
   "source": []
  }
 ],
 "metadata": {
  "kernelspec": {
   "display_name": "indra_gpt",
   "language": "python",
   "name": "python3"
  },
  "language_info": {
   "codemirror_mode": {
    "name": "ipython",
    "version": 3
   },
   "file_extension": ".py",
   "mimetype": "text/x-python",
   "name": "python",
   "nbconvert_exporter": "python",
   "pygments_lexer": "ipython3",
   "version": "3.11.11"
  }
 },
 "nbformat": 4,
 "nbformat_minor": 5
}
