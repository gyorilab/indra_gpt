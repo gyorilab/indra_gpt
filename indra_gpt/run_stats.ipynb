{
 "cells": [
  {
   "cell_type": "code",
   "execution_count": 1,
   "metadata": {
    "collapsed": true
   },
   "outputs": [
    {
     "name": "stderr",
     "output_type": "stream",
     "text": [
      "INFO: [2023-03-27 15:56:08] check_correctness - agent_json_list dtype is str, using eval to convert to list of OrderedDicts\n"
     ]
    }
   ],
   "source": [
    "from indra_gpt.check_correctness import get_create_training_set, LOCAL_FILES, run_stats\n",
    "\n",
    "curations_file = LOCAL_FILES.joinpath(\"indra_assembly_curations.json\")\n",
    "corpus = LOCAL_FILES.joinpath(\"indra_benchmark_corpus.json\")\n",
    "\n",
    "# The creation of the dataframe from the curations and statements takes ~60 min, mostly due to pre-caching of synonyms and definitions.\n",
    "# If the output file already is cached, it will load from the cache instead.\n",
    "training_data_df = get_create_training_set(curations_file=curations_file, statement_json_file=corpus)\n"
   ]
  },
  {
   "cell_type": "code",
   "execution_count": 2,
   "outputs": [
    {
     "name": "stderr",
     "output_type": "stream",
     "text": [
      "Running chat completions:   0%|          | 0/150 [00:00<?, ?it/s]WARNING: [2023-03-27 15:56:27] check_correctness - No matching synonyms between text and statement found in the UGCG binds ERBB2 and ESR1.\n",
      "Running chat completions:   1%|          | 1/150 [00:33<1:22:01, 33.03s/it]WARNING: [2023-03-27 16:13:24] check_correctness - No matching synonyms between text and statement found in the SLC9A1 binds EPB41.\n",
      "WARNING: [2023-03-27 16:13:40] check_correctness - No matching synonyms between text and statement found in the IGF1 phosphorylates AKT.\n",
      "Running chat completions:   2%|▏         | 3/150 [18:01<14:04:33, 344.72s/it]WARNING: [2023-03-27 16:14:29] check_correctness - OpenAI response was truncated. Likely due to token constraints. Consider increasing the max_tokens parameter.\n",
      "Running chat completions:   4%|▍         | 6/150 [18:50<4:00:28, 100.20s/it] WARNING: [2023-03-27 16:15:18] check_correctness - OpenAI response was truncated. Likely due to token constraints. Consider increasing the max_tokens parameter.\n",
      "Running chat completions:   7%|▋         | 11/150 [20:12<1:07:18, 29.05s/it]WARNING: [2023-03-27 16:16:39] check_correctness - OpenAI response was truncated. Likely due to token constraints. Consider increasing the max_tokens parameter.\n",
      "Running chat completions:   8%|▊         | 12/150 [20:28<57:57, 25.20s/it]  WARNING: [2023-03-27 16:16:56] check_correctness - OpenAI response was truncated. Likely due to token constraints. Consider increasing the max_tokens parameter.\n",
      "Running chat completions:  10%|█         | 15/150 [21:17<43:32, 19.35s/it]WARNING: [2023-03-27 16:17:45] check_correctness - OpenAI response was truncated. Likely due to token constraints. Consider increasing the max_tokens parameter.\n",
      "Running chat completions:  13%|█▎        | 19/150 [38:49<5:54:13, 162.24s/it] WARNING: [2023-03-27 16:35:17] check_correctness - OpenAI response was truncated. Likely due to token constraints. Consider increasing the max_tokens parameter.\n",
      "Running chat completions:  17%|█▋        | 26/150 [40:48<59:35, 28.83s/it]   WARNING: [2023-03-27 16:37:15] check_correctness - No matching synonyms between text and statement found in the TNF activates IKK_family.\n",
      "Running chat completions:  18%|█▊        | 27/150 [41:21<1:01:43, 30.11s/it]WARNING: [2023-03-27 16:37:49] check_correctness - OpenAI response was truncated. Likely due to token constraints. Consider increasing the max_tokens parameter.\n",
      "Running chat completions:  19%|█▊        | 28/150 [41:37<53:03, 26.10s/it]  WARNING: [2023-03-27 16:38:05] check_correctness - No matching synonyms between text and statement found in the TCF4 binds CTNNB1.\n",
      "Running chat completions:  19%|█▉        | 29/150 [42:10<56:45, 28.14s/it]WARNING: [2023-03-27 16:38:38] check_correctness - OpenAI response was truncated. Likely due to token constraints. Consider increasing the max_tokens parameter.\n",
      "Running chat completions:  21%|██        | 31/150 [42:44<44:09, 22.26s/it]WARNING: [2023-03-27 16:39:12] check_correctness - OpenAI response was truncated. Likely due to token constraints. Consider increasing the max_tokens parameter.\n",
      "Running chat completions:  23%|██▎       | 34/150 [43:34<35:57, 18.60s/it]WARNING: [2023-03-27 16:40:01] check_correctness - No matching synonyms between text and statement found in the Cyclin_A bound to CDK2 binds SKP2.\n",
      "Running chat completions:  23%|██▎       | 35/150 [44:07<43:56, 22.93s/it]WARNING: [2023-03-27 16:40:34] check_correctness - No matching synonyms between text and statement found in the SRC phosphorylates PRKCD.\n",
      "Running chat completions:  26%|██▌       | 39/150 [45:29<36:32, 19.75s/it]WARNING: [2023-03-27 16:41:57] check_correctness - OpenAI response was truncated. Likely due to token constraints. Consider increasing the max_tokens parameter.\n",
      "Running chat completions:  27%|██▋       | 40/150 [45:46<34:32, 18.84s/it]WARNING: [2023-03-27 16:42:14] check_correctness - OpenAI response was truncated. Likely due to token constraints. Consider increasing the max_tokens parameter.\n",
      "Running chat completions:  28%|██▊       | 42/150 [46:19<31:59, 17.77s/it]WARNING: [2023-03-27 16:42:47] check_correctness - No matching synonyms between text and statement found in the RPS6KA2 leads to the phosphorylation of IRS1 on S1101.\n",
      "Running chat completions:  29%|██▉       | 44/150 [47:09<36:32, 20.69s/it]WARNING: [2023-03-27 16:43:37] check_correctness - OpenAI response was truncated. Likely due to token constraints. Consider increasing the max_tokens parameter.\n",
      "Running chat completions:  31%|███       | 46/150 [47:43<32:16, 18.62s/it]WARNING: [2023-03-27 16:44:10] check_correctness - OpenAI response was truncated. Likely due to token constraints. Consider increasing the max_tokens parameter.\n",
      "Running chat completions:  31%|███▏      | 47/150 [47:59<30:52, 17.98s/it]WARNING: [2023-03-27 16:44:27] check_correctness - No matching synonyms between text and statement found in the IGF1 activates ERK.\n",
      "Running chat completions:  32%|███▏      | 48/150 [48:32<38:16, 22.52s/it]WARNING: [2023-03-27 16:45:00] check_correctness - No matching synonyms between text and statement found in the CTNNB1 binds PTH1R.\n",
      "WARNING: [2023-03-27 16:45:16] check_correctness - OpenAI response was truncated. Likely due to token constraints. Consider increasing the max_tokens parameter.\n",
      "Running chat completions:  33%|███▎      | 50/150 [49:22<38:11, 22.91s/it]WARNING: [2023-03-27 16:45:49] check_correctness - No matching synonyms between text and statement found in the INS activates PI3K.\n",
      "Running chat completions:  34%|███▍      | 51/150 [49:54<42:36, 25.82s/it]WARNING: [2023-03-27 16:46:22] check_correctness - No matching synonyms between text and statement found in the MAPK1 inhibits MMP2.\n",
      "Running chat completions:  35%|███▌      | 53/150 [50:43<39:34, 24.48s/it]WARNING: [2023-03-27 16:47:11] check_correctness - OpenAI response was truncated. Likely due to token constraints. Consider increasing the max_tokens parameter.\n",
      "Running chat completions:  37%|███▋      | 56/150 [51:33<30:05, 19.20s/it]WARNING: [2023-03-27 16:48:01] check_correctness - OpenAI response was truncated. Likely due to token constraints. Consider increasing the max_tokens parameter.\n",
      "Running chat completions:  38%|███▊      | 57/150 [51:49<28:27, 18.36s/it]WARNING: [2023-03-27 16:48:17] check_correctness - OpenAI response was truncated. Likely due to token constraints. Consider increasing the max_tokens parameter.\n",
      "Running chat completions:  39%|███▊      | 58/150 [52:06<27:13, 17.75s/it]WARNING: [2023-03-27 16:48:33] check_correctness - No matching synonyms between text and statement found in the BRCA1 inhibits ERK.\n",
      "WARNING: [2023-03-27 16:48:49] check_correctness - No matching synonyms between text and statement found in the SLC9A1 binds EPB41.\n",
      "WARNING: [2023-03-27 16:49:05] check_correctness - OpenAI response was truncated. Likely due to token constraints. Consider increasing the max_tokens parameter.\n",
      "Running chat completions:  39%|███▉      | 59/150 [52:54<40:52, 26.95s/it]WARNING: [2023-03-27 16:49:22] check_correctness - OpenAI response was truncated. Likely due to token constraints. Consider increasing the max_tokens parameter.\n",
      "Running chat completions:  46%|████▌     | 69/150 [55:38<22:29, 16.67s/it]WARNING: [2023-03-27 16:52:05] check_correctness - No matching synonyms between text and statement found in the GRB2 binds PTPN11.\n",
      "WARNING: [2023-03-27 16:52:21] check_correctness - OpenAI response was truncated. Likely due to token constraints. Consider increasing the max_tokens parameter.\n",
      "Running chat completions:  47%|████▋     | 70/150 [56:10<28:33, 21.42s/it]WARNING: [2023-03-27 16:52:38] check_correctness - OpenAI response was truncated. Likely due to token constraints. Consider increasing the max_tokens parameter.\n",
      "Running chat completions:  47%|████▋     | 71/150 [56:26<26:12, 19.90s/it]WARNING: [2023-03-27 16:52:55] check_correctness - OpenAI response was truncated. Likely due to token constraints. Consider increasing the max_tokens parameter.\n",
      "Running chat completions:  49%|████▊     | 73/150 [57:00<23:20, 18.19s/it]WARNING: [2023-03-27 16:53:27] check_correctness - No matching synonyms between text and statement found in the EPB41 binds NUMA1.\n",
      "Running chat completions:  49%|████▉     | 74/150 [57:32<28:25, 22.45s/it]WARNING: [2023-03-27 16:54:00] check_correctness - OpenAI response was truncated. Likely due to token constraints. Consider increasing the max_tokens parameter.\n",
      "Running chat completions:  53%|█████▎    | 80/150 [1:15:38<4:21:52, 224.46s/it]WARNING: [2023-03-27 17:12:05] check_correctness - No matching synonyms between text and statement found in the VWF binds GP1BA.\n",
      "WARNING: [2023-03-27 17:12:21] check_correctness - OpenAI response was truncated. Likely due to token constraints. Consider increasing the max_tokens parameter.\n",
      "Running chat completions:  56%|█████▌    | 84/150 [1:16:58<1:14:37, 67.84s/it] WARNING: [2023-03-27 17:13:26] check_correctness - OpenAI response was truncated. Likely due to token constraints. Consider increasing the max_tokens parameter.\n",
      "Running chat completions:  57%|█████▋    | 85/150 [1:17:14<56:44, 52.37s/it]  WARNING: [2023-03-27 17:13:42] check_correctness - No matching synonyms between text and statement found in the GJA8 binds ATXN3.\n",
      "Running chat completions:  57%|█████▋    | 86/150 [1:17:47<49:23, 46.30s/it]WARNING: [2023-03-27 17:14:14] check_correctness - OpenAI response was truncated. Likely due to token constraints. Consider increasing the max_tokens parameter.\n",
      "Running chat completions:  59%|█████▊    | 88/150 [1:18:19<32:02, 31.00s/it]WARNING: [2023-03-27 17:14:47] check_correctness - OpenAI response was truncated. Likely due to token constraints. Consider increasing the max_tokens parameter.\n",
      "Running chat completions:  60%|██████    | 90/150 [1:18:51<23:27, 23.45s/it]WARNING: [2023-03-27 17:15:19] check_correctness - OpenAI response was truncated. Likely due to token constraints. Consider increasing the max_tokens parameter.\n",
      "Running chat completions:  65%|██████▍   | 97/150 [1:20:46<14:53, 16.86s/it]WARNING: [2023-03-27 17:17:13] check_correctness - OpenAI response was truncated. Likely due to token constraints. Consider increasing the max_tokens parameter.\n",
      "Running chat completions:  67%|██████▋   | 100/150 [1:21:34<13:41, 16.44s/it]WARNING: [2023-03-27 17:18:02] check_correctness - OpenAI response was truncated. Likely due to token constraints. Consider increasing the max_tokens parameter.\n",
      "Running chat completions:  73%|███████▎  | 109/150 [1:24:01<11:09, 16.33s/it]WARNING: [2023-03-27 17:20:28] check_correctness - OpenAI response was truncated. Likely due to token constraints. Consider increasing the max_tokens parameter.\n",
      "Running chat completions:  74%|███████▍  | 111/150 [1:24:33<10:34, 16.28s/it]WARNING: [2023-03-27 17:21:01] check_correctness - OpenAI response was truncated. Likely due to token constraints. Consider increasing the max_tokens parameter.\n",
      "Running chat completions:  75%|███████▌  | 113/150 [1:25:06<10:06, 16.40s/it]WARNING: [2023-03-27 17:21:34] check_correctness - No matching synonyms between text and statement found in the TGFB2 increases the amount of COL1.\n",
      "WARNING: [2023-03-27 17:21:50] check_correctness - OpenAI response was truncated. Likely due to token constraints. Consider increasing the max_tokens parameter.\n",
      "Running chat completions:  77%|███████▋  | 115/150 [1:25:55<11:27, 19.65s/it]WARNING: [2023-03-27 17:22:22] check_correctness - OpenAI response was truncated. Likely due to token constraints. Consider increasing the max_tokens parameter.\n",
      "Running chat completions:  81%|████████  | 121/150 [1:27:33<08:08, 16.83s/it]WARNING: [2023-03-27 17:24:01] check_correctness - OpenAI response was truncated. Likely due to token constraints. Consider increasing the max_tokens parameter.\n",
      "Running chat completions:  81%|████████▏ | 122/150 [1:27:50<07:50, 16.82s/it]WARNING: [2023-03-27 17:24:18] check_correctness - OpenAI response was truncated. Likely due to token constraints. Consider increasing the max_tokens parameter.\n",
      "Running chat completions:  82%|████████▏ | 123/150 [1:28:07<07:34, 16.85s/it]WARNING: [2023-03-27 17:24:35] check_correctness - No matching synonyms between text and statement found in the MAPKAPK2 phosphorylates CDC25B.\n",
      "WARNING: [2023-03-27 17:24:51] check_correctness - OpenAI response was truncated. Likely due to token constraints. Consider increasing the max_tokens parameter.\n",
      "Running chat completions:  83%|████████▎ | 124/150 [1:28:40<09:27, 21.82s/it]WARNING: [2023-03-27 17:25:08] check_correctness - No matching synonyms between text and statement found in the CBL binds CRKL.\n",
      "Running chat completions:  85%|████████▍ | 127/150 [1:29:48<08:04, 21.06s/it]WARNING: [2023-03-27 17:26:16] check_correctness - No matching synonyms between text and statement found in the Actin binds SLC9A3R1.\n",
      "Running chat completions:  87%|████████▋ | 130/150 [1:30:55<06:55, 20.80s/it]WARNING: [2023-03-27 17:27:23] check_correctness - OpenAI response was truncated. Likely due to token constraints. Consider increasing the max_tokens parameter.\n",
      "Running chat completions:  89%|████████▊ | 133/150 [1:31:46<05:09, 18.22s/it]WARNING: [2023-03-27 17:28:13] check_correctness - OpenAI response was truncated. Likely due to token constraints. Consider increasing the max_tokens parameter.\n",
      "Running chat completions:  93%|█████████▎| 140/150 [1:33:42<02:49, 16.94s/it]WARNING: [2023-03-27 17:30:10] check_correctness - OpenAI response was truncated. Likely due to token constraints. Consider increasing the max_tokens parameter.\n",
      "Running chat completions:  95%|█████████▌| 143/150 [1:34:33<01:58, 16.93s/it]WARNING: [2023-03-27 17:31:01] check_correctness - OpenAI response was truncated. Likely due to token constraints. Consider increasing the max_tokens parameter.\n",
      "Running chat completions:  97%|█████████▋| 145/150 [1:35:07<01:24, 16.89s/it]WARNING: [2023-03-27 17:31:35] check_correctness - OpenAI response was truncated. Likely due to token constraints. Consider increasing the max_tokens parameter.\n",
      "Running chat completions:  97%|█████████▋| 146/150 [1:35:23<01:07, 16.89s/it]WARNING: [2023-03-27 17:31:52] check_correctness - No matching synonyms between text and statement found in the HSPB1 inhibits CASP9.\n",
      "WARNING: [2023-03-27 17:32:08] check_correctness - No matching synonyms between text and statement found in the HIF1 decreases the amount of KITLG.\n",
      "WARNING: [2023-03-27 17:32:25] check_correctness - No matching synonyms between text and statement found in the AURKC phosphorylates YY1.\n",
      "WARNING: [2023-03-27 17:32:42] check_correctness - OpenAI response was truncated. Likely due to token constraints. Consider increasing the max_tokens parameter.\n",
      "Running chat completions:  98%|█████████▊| 147/150 [1:36:30<01:35, 31.89s/it]WARNING: [2023-03-27 17:32:58] check_correctness - No matching synonyms between text and statement found in the SRSF10 binds HNRNPK.\n",
      "Running chat completions:  99%|█████████▊| 148/150 [1:37:04<01:04, 32.37s/it]WARNING: [2023-03-27 17:33:32] check_correctness - OpenAI response was truncated. Likely due to token constraints. Consider increasing the max_tokens parameter.\n",
      "Running chat completions: 100%|██████████| 150/150 [1:37:37<00:00, 39.05s/it]\n",
      "INFO: [2023-03-27 17:33:48] check_correctness - Saving results...\n"
     ]
    },
    {
     "name": "stdout",
     "output_type": "stream",
     "text": [
      "Confusion matrix:\n",
      "               correct  incorrect\n",
      "gpt_correct         62         12\n",
      "gpt_incorrect       31         45\n",
      "Precision: 0.8378378378378378\n",
      "Recall: 0.6666666666666666\n",
      "Accuracy: 0.7133333333333334\n",
      "Total examples: 150\n"
     ]
    }
   ],
   "source": [
    "# Run the stats (takes ~1 h for 100 iterations)\n",
    "results_dict = run_stats(training_data_df, n_iter=150)"
   ],
   "metadata": {
    "collapsed": false
   }
  },
  {
   "cell_type": "code",
   "execution_count": 19,
   "outputs": [
    {
     "name": "stdout",
     "output_type": "stream",
     "text": [
      "no_relation: 0.88 (24)\n",
      "correct: 0.67 (93)\n",
      "polarity: 0.86 (7)\n",
      "grounding: 1.00 (4)\n",
      "other: 0.00 (3)\n",
      "act_vs_amt: 0.80 (5)\n",
      "entity_boundaries: 0.50 (4)\n",
      "wrong_relation: 1.00 (4)\n",
      "agent_conditions: 1.00 (1)\n",
      "mod_site: 0.00 (1)\n",
      "hypothesis: 0.00 (1)\n",
      "negative_result: 1.00 (3)\n"
     ]
    }
   ],
   "source": [
    "import pandas as pd\n",
    "\n",
    "# Get a dataframe of the results\n",
    "results_df = pd.DataFrame(results_dict[\"chat_qa\"])\n",
    "results_df[\"correctly_labeled\"] = ((results_df[\"response\"] == \"yes\") & (results_df[\"tag\"] == \"correct\")) | ((results_df[\"response\"] == \"no\") & (results_df[\"tag\"] != \"correct\"))\n",
    "\n",
    "# Get the accuracy rate per tag as counted by 'correctly_labeled', how many rows has that tag and print the results\n",
    "for tag in results_df[\"tag\"].unique():\n",
    "    print(f\"{tag}: {results_df[results_df['tag'] == tag]['correctly_labeled'].mean():.2f} ({results_df[results_df['tag'] == tag].shape[0]})\")"
   ],
   "metadata": {
    "collapsed": false
   }
  }
 ],
 "metadata": {
  "kernelspec": {
   "display_name": "Python 3",
   "language": "python",
   "name": "python3"
  },
  "language_info": {
   "codemirror_mode": {
    "name": "ipython",
    "version": 2
   },
   "file_extension": ".py",
   "mimetype": "text/x-python",
   "name": "python",
   "nbconvert_exporter": "python",
   "pygments_lexer": "ipython2",
   "version": "2.7.6"
  }
 },
 "nbformat": 4,
 "nbformat_minor": 0
}
