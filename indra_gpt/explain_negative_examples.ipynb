{
 "cells": [
  {
   "cell_type": "code",
   "execution_count": 2,
   "metadata": {
    "collapsed": true,
    "ExecuteTime": {
     "start_time": "2023-04-04T12:59:16.345109Z",
     "end_time": "2023-04-04T13:00:05.387963Z"
    }
   },
   "outputs": [
    {
     "name": "stderr",
     "output_type": "stream",
     "text": [
      "INFO: [2023-04-04 12:59:19] /home/klas/repos/adeft/adeft/recognize.py - OneShotRecognizer not available. Extension module for AlignmentBasedScorer is missing\n",
      "INFO: [2023-04-04 12:59:19] check_correctness - agent_json_list dtype is str, using eval to convert to list of OrderedDicts\n",
      "INFO: [2023-04-04 12:59:19] check_correctness - agent_info dtype is str, using eval to convert to dict\n",
      "INFO: [2023-04-04 12:59:20] numexpr.utils - NumExpr defaulting to 8 threads.\n",
      "Running explanation queries:  90%|█████████ | 9/10 [00:45<00:05,  5.02s/it]\n",
      "INFO: [2023-04-04 13:00:05] check_correctness - Finished running 10 queries in 45.19 seconds.\n",
      "INFO: [2023-04-04 13:00:05] check_correctness - Saving results to /home/klas/repos/indra_gpt/local_data/results/explain_incorrect_20230404_195920.json\n"
     ]
    }
   ],
   "source": [
    "import pandas as pd\n",
    "\n",
    "from indra_gpt.check_correctness import get_create_training_set, LOCAL_FILES, explain_negative_examples\n",
    "\n",
    "curations_file = LOCAL_FILES.joinpath(\"indra_assembly_curations.json\")\n",
    "corpus = LOCAL_FILES.joinpath(\"indra_benchmark_corpus.json\")\n",
    "\n",
    "# The creation of the dataframe from the curations and statements takes ~60 min, mostly due to pre-caching of synonyms and definitions.\n",
    "# If the output file already is cached, it will load from the cache instead.\n",
    "training_data_df = get_create_training_set(curations_file=curations_file, statement_json_file=corpus)\n",
    "\n",
    "res_dict = explain_negative_examples(training_data_df=training_data_df)"
   ]
  },
  {
   "cell_type": "code",
   "execution_count": 3,
   "outputs": [
    {
     "data": {
      "text/plain": "<pandas.io.formats.style.Styler at 0x7f4b42c3e5b0>",
      "text/html": "<style  type=\"text/css\" >\n#T_fe848_row0_col0,#T_fe848_row0_col1,#T_fe848_row0_col2,#T_fe848_row1_col0,#T_fe848_row1_col1,#T_fe848_row1_col2,#T_fe848_row2_col0,#T_fe848_row2_col1,#T_fe848_row2_col2,#T_fe848_row3_col0,#T_fe848_row3_col1,#T_fe848_row3_col2,#T_fe848_row4_col0,#T_fe848_row4_col1,#T_fe848_row4_col2,#T_fe848_row5_col0,#T_fe848_row5_col1,#T_fe848_row5_col2,#T_fe848_row6_col0,#T_fe848_row6_col1,#T_fe848_row6_col2,#T_fe848_row7_col0,#T_fe848_row7_col1,#T_fe848_row7_col2,#T_fe848_row8_col0,#T_fe848_row8_col1,#T_fe848_row8_col2,#T_fe848_row9_col0,#T_fe848_row9_col1,#T_fe848_row9_col2{\n            text-align:  left;\n            white-space:  pre-wrap;\n        }</style><table id=\"T_fe848_\" ><thead>    <tr>        <th class=\"blank level0\" ></th>        <th class=\"col_heading level0 col0\" >prompt</th>        <th class=\"col_heading level0 col1\" >response</th>        <th class=\"col_heading level0 col2\" >curation_tag</th>    </tr></thead><tbody>\n                <tr>\n                        <th id=\"T_fe848_level0_row0\" class=\"row_heading level0 row0\" >0</th>\n                        <td id=\"T_fe848_row0_col0\" class=\"data row0 col0\" >Here is a text and a statement:\n\ntext: \"We next examined whether these epigenetic changes affect the binding of the VDR to the CYP24A1 promoter region.\"\n\nstatement: \"VDR binds CYP24A1.\"\n\nThe definition of VDR is: \"vitamin D receptor\".\nThe definition of CYP24A1 is: \"cytochrome P450 family 24 subfamily A member 1\".\n\n\nIs the statement implied by the text?\nIf it isn't, please explain why.\n</td>\n                        <td id=\"T_fe848_row0_col1\" class=\"data row0 col1\" >The statement is partially implied by the text. The text states that the researchers examined whether epigenetic changes affect the binding of the VDR to the CYP24A1 promoter region, which suggests that VDR has the potential to bind to CYP24A1. However, the text does not explicitly state that VDR binds to CYP24A1, only that the researchers investigated this possibility. Therefore, the statement is not entirely accurate based on the given text.</td>\n                        <td id=\"T_fe848_row0_col2\" class=\"data row0 col2\" >wrong_relation</td>\n            </tr>\n            <tr>\n                        <th id=\"T_fe848_level0_row1\" class=\"row_heading level0 row1\" >1</th>\n                        <td id=\"T_fe848_row1_col0\" class=\"data row1 col0\" >Here is a text and a statement:\n\ntext: \"We found that in human ovarian epithelial carcinoma cells (HO-8910), resistin (10-150 ng/mL) enhanced both VEGF protein and mRNA expression in a time- and concentration dependent manner, as well as promoter activity.\"\n\nstatement: \"RETN activates VEGF.\"\n\nThe definition of RETN is: \"resistin\".\nThe statement assumes that \"RETN\" is the same as \"Resistin\"\n\nIs the statement implied by the text?\nIf it isn't, please explain why.\n</td>\n                        <td id=\"T_fe848_row1_col1\" class=\"data row1 col1\" >Yes, the statement is implied by the text. The text clearly states that resistin enhances VEGF expression and activity, which means that resistin activates VEGF. Therefore, the statement \"RETN activates VEGF\" is a valid interpretation of the findings presented in the text.</td>\n                        <td id=\"T_fe848_row1_col2\" class=\"data row1 col2\" >act_vs_amt</td>\n            </tr>\n            <tr>\n                        <th id=\"T_fe848_level0_row2\" class=\"row_heading level0 row2\" >2</th>\n                        <td id=\"T_fe848_row2_col0\" class=\"data row2 col0\" >Here is a text and a statement:\n\ntext: \"PSGL-1 binding to P- or E-selectin mediates leukocyte rolling on endothelium, which is the initial step of leukocyte migration ().\"\n\nstatement: \"SELPLG binds OCA2.\"\n\nThe definition of SELPLG is: \"selectin P ligand\".\nThe definition of OCA2 is: \"OCA2 melanosomal transmembrane protein\".\nThe statement assumes that \"SELPLG\" is the same as \"PSGL-1\" and \"OCA2\" is the same as \"P-\"\n\nIs the statement implied by the text?\nIf it isn't, please explain why.\n</td>\n                        <td id=\"T_fe848_row2_col1\" class=\"data row2 col1\" >No, the statement is not implied by the text. The text mentions PSGL-1 binding to P- or E-selectin, which are different from OCA2. Additionally, the text does not mention any binding between SELPLG and OCA2. Therefore, the statement is not supported by the text.</td>\n                        <td id=\"T_fe848_row2_col2\" class=\"data row2 col2\" >other</td>\n            </tr>\n            <tr>\n                        <th id=\"T_fe848_level0_row3\" class=\"row_heading level0 row3\" >3</th>\n                        <td id=\"T_fe848_row3_col0\" class=\"data row3 col0\" >Here is a text and a statement:\n\ntext: \"We report here that junctional adhesion molecule (JAM) interacts with calcium/calmodulin-dependent serine protein kinase (CASK), a protein related to membrane-associated guanylate kinases.\"\n\nstatement: \"CASK binds JAML.\"\n\nThe definition of CASK is: \"calcium/calmodulin dependent serine protein kinase\".\nThe definition of JAML is: \"junction adhesion molecule like\".\nThe statement assumes that \"JAML\" is the same as \"adhesion molecule\"\n\nIs the statement implied by the text?\nIf it isn't, please explain why.\n</td>\n                        <td id=\"T_fe848_row3_col1\" class=\"data row3 col1\" >The statement is not exactly implied by the text. The text mentions that JAM (junctional adhesion molecule) interacts with CASK, but it does not specifically mention JAML (junction adhesion molecule like). While JAML is related to JAM, they are not the same molecule. Therefore, it cannot be assumed that CASK binds JAML based solely on the information provided in the text.</td>\n                        <td id=\"T_fe848_row3_col2\" class=\"data row3 col2\" >entity_boundaries</td>\n            </tr>\n            <tr>\n                        <th id=\"T_fe848_level0_row4\" class=\"row_heading level0 row4\" >4</th>\n                        <td id=\"T_fe848_row4_col0\" class=\"data row4 col0\" >Here is a text and a statement:\n\ntext: \"Several studies have reported XIAP depletion increases sensitivity to TRAIL mediated apoptosis [ , , , , - ].\"\n\nstatement: \"XIAP activates TNFSF10.\"\n\nThe definition of XIAP is: \"X-linked inhibitor of apoptosis\".\nThe definition of TNFSF10 is: \"TNF superfamily member 10\".\nThe statement assumes that \"TNFSF10\" is the same as \"TRAIL\"\n\nIs the statement implied by the text?\nIf it isn't, please explain why.\n</td>\n                        <td id=\"T_fe848_row4_col1\" class=\"data row4 col1\" >The statement is not implied by the text. While the text mentions XIAP depletion increasing sensitivity to TRAIL-mediated apoptosis, it does not mention anything about XIAP activating TNFSF10 (TRAIL). Additionally, TNFSF10 and TRAIL are the same molecule, so the statement is also incorrect in that regard.</td>\n                        <td id=\"T_fe848_row4_col2\" class=\"data row4 col2\" >wrong_relation</td>\n            </tr>\n            <tr>\n                        <th id=\"T_fe848_level0_row5\" class=\"row_heading level0 row5\" >5</th>\n                        <td id=\"T_fe848_row5_col0\" class=\"data row5 col0\" >Here is a text and a statement:\n\ntext: \"IL-15 prevents AICD of activated cytotoxic CD8 cells.\"\n\nstatement: \"IL15 inhibits CD8.\"\n\nThe definition of IL15 is: \"interleukin 15\".\nThe statement assumes that \"IL15\" is the same as \"IL-15\"\n\nIs the statement implied by the text?\nIf it isn't, please explain why.\n</td>\n                        <td id=\"T_fe848_row5_col1\" class=\"data row5 col1\" >Yes, the statement is implied by the text. The text states that \"IL-15 prevents AICD of activated cytotoxic CD8 cells,\" which means that IL-15 is preventing the death of CD8 cells. Therefore, it can be inferred that IL-15 is not inhibiting CD8 cells, but rather promoting their survival.</td>\n                        <td id=\"T_fe848_row5_col2\" class=\"data row5 col2\" >entity_boundaries</td>\n            </tr>\n            <tr>\n                        <th id=\"T_fe848_level0_row6\" class=\"row_heading level0 row6\" >6</th>\n                        <td id=\"T_fe848_row6_col0\" class=\"data row6 col0\" >Here is a text and a statement:\n\ntext: \"It is particularly intriguing that a bona fide tumor suppressing Akt phosphatase, Phlpp2, is co-opted by Myc to drive proliferation by suppressing Akt activity.\"\n\nstatement: \"PHLPP2 activates AKT.\"\n\nThe definition of PHLPP2 is: \"PH domain and leucine rich repeat protein phosphatase 2\".\n\n\nIs the statement implied by the text?\nIf it isn't, please explain why.\n</td>\n                        <td id=\"T_fe848_row6_col1\" class=\"data row6 col1\" >No, the statement is not implied by the text. The text states that Phlpp2 suppresses Akt activity, which is the opposite of activating it.</td>\n                        <td id=\"T_fe848_row6_col2\" class=\"data row6 col2\" >polarity</td>\n            </tr>\n            <tr>\n                        <th id=\"T_fe848_level0_row7\" class=\"row_heading level0 row7\" >7</th>\n                        <td id=\"T_fe848_row7_col0\" class=\"data row7 col0\" >Here is a text and a statement:\n\ntext: \"Of the agents examined, only vinorelbine, a drug that causes G2/M arrest in lung cancer, increased FBXL2 levels and decreased cyclin D3 content (XREF_FIG).\"\n\nstatement: \"FBXL2 inhibits Cyclin.\"\n\nThe definition of FBXL2 is: \"F-box and leucine rich repeat protein 2\".\n\n\nIs the statement implied by the text?\nIf it isn't, please explain why.\n</td>\n                        <td id=\"T_fe848_row7_col1\" class=\"data row7 col1\" >The statement is not explicitly implied by the text. The text states that vinorelbine, a drug that causes G2/M arrest in lung cancer, increased FBXL2 levels and decreased cyclin D3 content. However, it does not provide any information about whether FBXL2 inhibits Cyclin. Therefore, the statement cannot be inferred from the text.</td>\n                        <td id=\"T_fe848_row7_col2\" class=\"data row7 col2\" >entity_boundaries</td>\n            </tr>\n            <tr>\n                        <th id=\"T_fe848_level0_row8\" class=\"row_heading level0 row8\" >8</th>\n                        <td id=\"T_fe848_row8_col0\" class=\"data row8 col0\" >Here is a text and a statement:\n\ntext: \"CHD5 is bound to the WEE1 promoter.\"\n\nstatement: \"WEE1 binds GET1.\"\n\nThe definition of WEE1 is: \"WEE1 G2 checkpoint kinase\".\nThe definition of GET1 is: \"guided entry of tail-anchored proteins factor 1\".\nThe statement assumes that \"GET1\" is the same as \"CHD5\"\n\nIs the statement implied by the text?\nIf it isn't, please explain why.\n</td>\n                        <td id=\"T_fe848_row8_col1\" class=\"data row8 col1\" >No, the statement is not implied by the text. There is no mention of GET1 in the text, and it is not clear whether GET1 and CHD5 are the same thing. Therefore, it cannot be assumed that WEE1 binds GET1 based on the given text.</td>\n                        <td id=\"T_fe848_row8_col2\" class=\"data row8 col2\" >wrong_relation</td>\n            </tr>\n            <tr>\n                        <th id=\"T_fe848_level0_row9\" class=\"row_heading level0 row9\" >9</th>\n                        <td id=\"T_fe848_row9_col0\" class=\"data row9 col0\" >Here is a text and a statement:\n\ntext: \"However, no data are available if CAP is also phosphorylated by c-Abl and how the putative phosphorylation regulates the function of CAP.\"\n\nstatement: \"ABL1 phosphorylates SORBS1.\"\n\nThe definition of ABL1 is: \"ABL proto-oncogene 1, non-receptor tyrosine kinase\".\nThe definition of SORBS1 is: \"sorbin and SH3 domain containing 1\".\nThe statement assumes that \"ABL1\" is the same as \"c-ABL\" and \"SORBS1\" is the same as \"CAP\"\n\nIs the statement implied by the text?\nIf it isn't, please explain why.\n</td>\n                        <td id=\"T_fe848_row9_col1\" class=\"data row9 col1\" >No, the statement is not implied by the text. The text mentions phosphorylation of CAP by c-Abl, but does not mention SORBS1 or ABL1. Therefore, it cannot be assumed that ABL1 phosphorylates SORBS1. Additionally, while ABL1 is a type of c-Abl, it is not necessarily interchangeable with c-Abl in all contexts. Similarly, while SORBS1 and CAP share some similarities, they are not necessarily the same protein.</td>\n                        <td id=\"T_fe848_row9_col2\" class=\"data row9 col2\" >negative_result</td>\n            </tr>\n    </tbody></table>"
     },
     "metadata": {},
     "output_type": "display_data"
    }
   ],
   "source": [
    "from IPython.display import display\n",
    "\n",
    "qa_df = pd.DataFrame(res_dict[\"chat_qa\"])\n",
    "\n",
    "display(qa_df.style.set_properties(**{\n",
    "    'text-align': 'left',\n",
    "    'white-space': 'pre-wrap',\n",
    "}))"
   ],
   "metadata": {
    "collapsed": false,
    "ExecuteTime": {
     "start_time": "2023-04-04T13:00:05.395803Z",
     "end_time": "2023-04-04T13:00:05.763948Z"
    }
   }
  }
 ],
 "metadata": {
  "kernelspec": {
   "display_name": "Python 3",
   "language": "python",
   "name": "python3"
  },
  "language_info": {
   "codemirror_mode": {
    "name": "ipython",
    "version": 2
   },
   "file_extension": ".py",
   "mimetype": "text/x-python",
   "name": "python",
   "nbconvert_exporter": "python",
   "pygments_lexer": "ipython2",
   "version": "2.7.6"
  }
 },
 "nbformat": 4,
 "nbformat_minor": 0
}
